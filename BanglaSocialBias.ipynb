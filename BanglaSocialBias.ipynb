{
  "cells": [
    {
      "cell_type": "code",
      "execution_count": 4,
      "metadata": {
        "colab": {
          "base_uri": "https://localhost:8080/"
        },
        "id": "ytw32siz4vLh",
        "outputId": "1997fef6-e2f6-4e78-9447-854b99d4f489"
      },
      "outputs": [
        {
          "name": "stdout",
          "output_type": "stream",
          "text": [
            "Mounted at /content/drive\n"
          ]
        }
      ],
      "source": [
        "from google.colab import drive\n",
        "drive.mount(\"/content/drive\")"
      ]
    },
    {
      "cell_type": "code",
      "execution_count": 5,
      "metadata": {
        "id": "ySJa_Nf5os4W"
      },
      "outputs": [],
      "source": [
        "glove_50_path = \"/content/drive/MyDrive/Colab Notebooks/glove.6B.50d.txt\"\n",
        "glove_300_path = \"/content/drive/MyDrive/Colab Notebooks/glove.6B.300d.txt\""
      ]
    },
    {
      "cell_type": "markdown",
      "metadata": {
        "id": "EZ6Fc9ElLXbz"
      },
      "source": [
        "## Loading Embedding"
      ]
    },
    {
      "cell_type": "code",
      "execution_count": 6,
      "metadata": {
        "colab": {
          "base_uri": "https://localhost:8080/"
        },
        "id": "UGWGNuIIkb0e",
        "outputId": "cd6caa0b-7202-46cf-dadc-d6a6250471d4"
      },
      "outputs": [
        {
          "name": "stderr",
          "output_type": "stream",
          "text": [
            "\u001b[38;2;0;255;0m100%\u001b[39m \u001b[38;2;0;255;0m(400001 of 400001)\u001b[39m |################| Elapsed Time: 0:00:06 Time:  0:00:06\n",
            "\u001b[38;2;0;255;0m100%\u001b[39m \u001b[38;2;0;255;0m(400001 of 400001)\u001b[39m |################| Elapsed Time: 0:00:32 Time:  0:00:32\n"
          ]
        }
      ],
      "source": [
        "import progressbar\n",
        "import numpy as np\n",
        "\n",
        "def return_lines(path_to_txt):\n",
        "  f = open(path_to_txt, \"r\", encoding=\"utf-8\")\n",
        "  lines = []\n",
        "  i = 0\n",
        "  while i<500000:\n",
        "    try:\n",
        "      line = f.readline()\n",
        "      lines.append(line)\n",
        "      i+=1\n",
        "      if not line:\n",
        "        break\n",
        "    except:\n",
        "      pass\n",
        "  f.close()\n",
        "  return lines\n",
        "\n",
        "def emb_matrix_maker(path_to_txt):\n",
        "  lines = return_lines(path_to_txt)\n",
        "  bangla_glove_dim = {}\n",
        "  for i in progressbar.progressbar(range(len(lines))):\n",
        "    values = lines[i].split(\" \")\n",
        "    bangla_glove_dim[values[0]] = np.asarray(values[1:], \"float32\")\n",
        "  return bangla_glove_dim\n",
        "\n",
        "def loadvocab(dim_size):\n",
        "    path_to_vocab = \"\"\n",
        "    if dim_size == 50:\n",
        "        path_to_vocab = glove_50_path\n",
        "    elif dim_size == 300:\n",
        "        path_to_vocab = glove_300_path\n",
        "    else:\n",
        "        raise ValueError(\"Unsupported dimension size. Use 50 or 300.\")\n",
        "\n",
        "    freq_dict = {}\n",
        "    with open(path_to_vocab, \"r\", encoding=\"utf-8\") as f:\n",
        "        for i, line in enumerate(f):\n",
        "            try:\n",
        "                values = line.split(\" \")\n",
        "                word = values[0]\n",
        "                if len(values) > 1:\n",
        "                    freq_dict[word] = values[1:]\n",
        "                else:\n",
        "                    freq_dict[word] = None\n",
        "            except Exception as e:\n",
        "                print(f\"Error processing line {i}: {e}\")\n",
        "                continue\n",
        "\n",
        "    return freq_dict\n",
        "\n",
        "\n",
        "bangla_glove_50 = emb_matrix_maker(glove_50_path)\n",
        "bangla_glove_300 = emb_matrix_maker(glove_300_path)\n",
        "vocab_50 = loadvocab(50)\n",
        "vocab_300 = loadvocab(300)"
      ]
    },
    {
      "cell_type": "code",
      "execution_count": 7,
      "metadata": {
        "id": "x26JAeZRRprQ"
      },
      "outputs": [],
      "source": [
        "def loadvocab(dim_size):\n",
        "  path_to_vocab = \"\"\n",
        "  if dim_size == 50:\n",
        "    path_to_vocab = glove_50_path\n",
        "  if dim_size == 300:\n",
        "    path_to_vocab = glove_300_path\n",
        "\n",
        "  f = open(path_to_vocab, \"r\")\n",
        "  freq_dict = {}\n",
        "  lines = []\n",
        "  i = 0\n",
        "  while i<500000:\n",
        "    try:\n",
        "      line = f.readline()\n",
        "      i = i + 1\n",
        "      lines.append(line)\n",
        "\n",
        "      if not line:\n",
        "        break\n",
        "    except:\n",
        "      pass\n",
        "\n",
        "  for line in lines:\n",
        "      values = line.split(\" \")\n",
        "      freq_dict[values[0]] = [float(val) for val in values[1:]]\n",
        "\n",
        "  f.close()\n",
        "  return freq_dict"
      ]
    },
    {
      "cell_type": "markdown",
      "metadata": {
        "id": "vwO20f2SLa8i"
      },
      "source": [
        "## WEAT Function"
      ]
    },
    {
      "cell_type": "code",
      "execution_count": 8,
      "metadata": {
        "id": "3TYs_HKsj-nC"
      },
      "outputs": [],
      "source": [
        "from sklearn.metrics.pairwise import cosine_similarity\n",
        "import numpy as np\n",
        "import random\n",
        "from itertools import combinations, filterfalse\n",
        "\n",
        "def swAB(W, A, B):\n",
        "  WA = cosine_similarity(W,A)\n",
        "  WB = cosine_similarity(W,B)\n",
        "  WAmean = np.mean(WA, axis = 1)\n",
        "  WBmean = np.mean(WB, axis = 1)\n",
        "\n",
        "  return (WAmean - WBmean)\n",
        "\n",
        "def test_statistic(X, Y, A, B):\n",
        "  return (sum(swAB(X, A, B)) - sum(swAB(Y, A, B)))\n",
        "\n",
        "def weat_effect_size(X, Y, A, B, embd, debiased_weat=False):\n",
        "  if (debiased_weat==False):\n",
        "    Xmat = np.array([embd[w.lower()] for w in X if w.lower() in embd])\n",
        "    Ymat = np.array([embd[w.lower()] for w in Y if w.lower() in embd])\n",
        "  else:\n",
        "    Xmat = np.array([debiaser(w,embd) for w in X if w.lower() in embd])\n",
        "    Ymat = np.array([debiaser(w,embd) for w in Y if w.lower() in embd])\n",
        "  Amat = np.array([embd[w.lower()] for w in A if w.lower() in embd])\n",
        "  Bmat = np.array([embd[w.lower()] for w in B if w.lower() in embd])\n",
        "\n",
        "  XuY = list(set(X).union(Y))\n",
        "  XuYmat = []\n",
        "  for w in XuY:\n",
        "    if w.lower() in embd:\n",
        "      if debiased_weat == False:\n",
        "        XuYmat.append(embd[w.lower()])\n",
        "      else:\n",
        "        XuYmat.append(debiaser(w,embd))\n",
        "  XuYmat = np.array(XuYmat)\n",
        "\n",
        "  d = (np.mean(swAB(Xmat,Amat,Bmat)) - np.mean(swAB(Ymat,Amat,Bmat)))/np.std(swAB(XuYmat, Amat, Bmat))\n",
        "\n",
        "  return d\n",
        "\n",
        "def random_permutation(iterable, r=None):\n",
        "  pool = tuple(iterable)\n",
        "  r = len(pool) if r is None else r\n",
        "  return tuple(random.sample(pool, r))\n",
        "\n",
        "\n",
        "def weat_p_value(X, Y, A, B, embd, sample, debiased_weat=False):\n",
        "  size_of_permutation = min(len(X), len(Y))\n",
        "  X_Y = X + Y\n",
        "  test_stats_over_permutation = []\n",
        "\n",
        "  if (debiased_weat==False):\n",
        "    Xmat = np.array([embd[w.lower()] for w in X if w.lower() in embd])\n",
        "    Ymat = np.array([embd[w.lower()] for w in Y if w.lower() in embd])\n",
        "  else:\n",
        "    Xmat = np.array([debiaser(w,embd) for w in X if w.lower() in embd])\n",
        "    Ymat = np.array([debiaser(w,embd) for w in Y if w.lower() in embd])\n",
        "  Amat = np.array([embd[w.lower()] for w in A if w.lower() in embd])\n",
        "  Bmat = np.array([embd[w.lower()] for w in B if w.lower() in embd])\n",
        "\n",
        "  if not sample:\n",
        "      permutations = combinations(X_Y, size_of_permutation)\n",
        "  else:\n",
        "      permutations = [random_permutation(X_Y, size_of_permutation) for s in range(sample)]\n",
        "\n",
        "  for Xi in permutations:\n",
        "    Yi = filterfalse(lambda w:w in Xi, X_Y)\n",
        "    if debiased_weat == False :\n",
        "      Ximat = np.array([embd[w.lower()] for w in Xi if w.lower() in embd])\n",
        "      Yimat = np.array([embd[w.lower()] for w in Yi if w.lower() in embd])\n",
        "    else:\n",
        "      Ximat = np.array([debiaser(w, embd) for w in Xi if w.lower() in embd])\n",
        "      Yimat = np.array([debiaser(w, embd) for w in Yi if w.lower() in embd])\n",
        "    test_stats_over_permutation.append(test_statistic(Ximat, Yimat, Amat, Bmat))\n",
        "\n",
        "  unperturbed = test_statistic(Xmat, Ymat, Amat, Bmat)\n",
        "\n",
        "  is_over = np.array([o > unperturbed for o in test_stats_over_permutation])\n",
        "  return is_over.sum() / is_over.size"
      ]
    },
    {
      "cell_type": "markdown",
      "metadata": {
        "id": "6n88x7KzLe7J"
      },
      "source": [
        "## WEAT and SEAT Word"
      ]
    },
    {
      "cell_type": "code",
      "execution_count": 9,
      "metadata": {
        "id": "uTaOJmH2kxqq"
      },
      "outputs": [],
      "source": [
        "X = {}\n",
        "Y = {}\n",
        "A = {}\n",
        "B = {}\n",
        "\n",
        "for i in range(30):\n",
        "  X[i] = {}\n",
        "  Y[i] = {}\n",
        "  A[i] = {}\n",
        "  B[i] = {}\n",
        "\n",
        "X[1][\"list\"] = [\"আদিত্য\", \"অর্জুন\", \"ধ্রুব\", \"ঈশান\", \"কৃষ্ণ\", \"সিদ্ধার্থ\", \"বীর\", \"শুভম\"]\n",
        "Y[1][\"list\"] = [\"অনিকা\", \"অদিতি\", \"দিয়া\", \"শ্রেয়া\", \"মীরা\", \"জানভি\", \"নয়না\", \"অঞ্জলি\"]\n",
        "A[1][\"list\"] = [\"কর্মচারী\", \"পরিচালনা\", \"পেশাদার\", \"কর্পোরেশন\", \"বেতন\", \"অফিস\", \"ব্যবসা\", \"বাণিজ্য\"]\n",
        "B[1][\"list\"] = [\"বাসস্থান\", \"স্বামী\", \"সন্তান\", \"পরিবার\", \"স্ত্রী\", \"বিয়ে\", \"বিবাহ\", \"আত্মীয়\"]\n",
        "X[1][\"type\"] = Y[1][\"type\"] = \"names\"\n",
        "A[1][\"type\"] = Y[1][\"type\"] = \"common_nouns\"\n",
        "\n",
        "X[2][\"list\"] = [\"গণিত\", \"বীজগণিত\", \"জ্যামিতি\", \"কলন\", \"সমীকরণ\", \"গণনা\", \"সংখ্যা\", \"যোগ\"]\n",
        "Y[2][\"list\"] = [\"কবিতা\", \"কলা\", \"নৃত্য\", \"সাহিত্য\", \"উপন্যাস\", \"সিম্ফনি\", \"নাটক\", \"ভাস্কর্য\"]\n",
        "A[2][\"list\"] = [\"নারী\", \"আদমি\", \"ছেলে\", \"ভাই\", \"সে\", \"তার\", \"তার\", \"পুত্র\"]\n",
        "B[2][\"list\"] = [\"মহিলা\", \"মহিলা\", \"মেয়ে\", \"বোন\", \"সে\", \"তার\", \"তার\", \"কন্যা\"]\n",
        "X[2][\"type\"] = Y[2][\"type\"] = \"common_nouns\"\n",
        "A[2][\"type\"] = Y[2][\"type\"] = \"common_nouns\"\n",
        "\n",
        "X[3][\"list\"] = [\"বিজ্ঞান\", \"প্রযুক্তি\", \"পদার্থবিজ্ঞান\", \"রসায়ন\", \"আইনস্টাইন\", \"নাসা\", \"পরীক্ষা\", \"জ্যোতির্বিজ্ঞান\"]\n",
        "Y[3][\"list\"] = [\"কবিতা\", \"কলা\", \"শেক্সপিয়ার\", \"নৃত্য\", \"সাহিত্য\", \"উপন্যাস\", \"সিম্ফনি\", \"নাটক\"]\n",
        "A[3][\"list\"] = [\"ভাই\", \"পিতা\", \"কাকা\", \"দাদা\", \"পুত্র\", \"সে\", \"তার\", \"সে\"]\n",
        "B[3][\"list\"] = [\"বোন\", \"মা\", \"কাকিমা\", \"ঠাকুমা\", \"মেয়ে\", \"সে\", \"তার\", \"তার\"]\n",
        "X[3][\"type\"] = Y[3][\"type\"] = \"common_nouns\"\n",
        "A[3][\"type\"] = Y[3][\"type\"] = \"common_nouns\"\n",
        "\n",
        "X[4][\"list\"] = [\"আদিত্য\", \"অর্জুন\", \"ধ্রুব\", \"ঈশান\", \"কৃষ্ণ\", \"সিদ্ধার্থ\", \"বীর\", \"শুভম\"]\n",
        "Y[4][\"list\"] = [\"অনিকা\", \"অদিতি\", \"দিয়া\", \"শ্রেয়া\", \"মীরা\", \"জানভি\", \"নৈনা\", \"অঞ্জলি\"]\n",
        "A[4][\"list\"] = [\"পুরুষ\", \"মানুষ\", \"ছেলে\", \"ভাই\", \"স্বামী\", \"কাকা\", \"মামা\", \"ছেলে\"]\n",
        "B[4][\"list\"] = [\"মহিলা\", \"নারী\", \"মেয়ে\", \"বোন\", \"স্ত্রী\", \"কাকী\", \"মামী\", \"মেয়ে\"]\n",
        "X[4][\"type\"] = Y[4][\"type\"] = \"names\"\n",
        "A[4][\"type\"] = Y[4][\"type\"] = \"common_nouns\"\n",
        "\n",
        "X[5][\"list\"] = [\"পুরুষ\", \"মানুষ\", \"ছেলে\", \"ভাই\", \"স্বামী\", \"চাচা\", \"মামা\", \"ছেলে\"]\n",
        "Y[5][\"list\"] = [\"মহিলা\", \"নারী\", \"মেয়ে\", \"বোন\", \"স্ত্রী\", \"চাচি\", \"মামি\", \"মেয়ে\"]\n",
        "A[5][\"list\"] = [\"আদিত্য\", \"অর্জুন\", \"ধ্রুব\", \"ঈশান\", \"কৃষ্ণ\", \"সিদ্ধার্থ\", \"বীর\", \"শুভম\"]\n",
        "B[5][\"list\"] = [\"অনিকা\", \"অদিতি\", \"দিয়া\", \"শ্রেয়া\", \"মীরা\", \"জানভি\", \"নয়না\", \"অঞ্জলি\"]\n",
        "X[5][\"type\"] = Y[5][\"type\"] = \"common_nouns\"\n",
        "A[5][\"type\"] = Y[5][\"type\"] = \"names\"\n",
        "\n",
        "X[6][\"list\"] = [\"ক্রুদ্ধ\", \"শ্রমিক\", \"শক্তিশালী\", \"দক্ষ\", \"বীর\", \"সাহসী\", \"দিলের\"]\n",
        "Y[6][\"list\"] = [\"সুন্দর\", \"লজ্জা\", \"আকর্ষণীয়\", \"মনোহর\", \"মধুর\", \"গৃহিণী\", \"দুর্বল\"]\n",
        "A[6][\"list\"] = [\"পুরুষ\", \"পুরুষমানুষ\", \"ছেলে\", \"ভাই\", \"স্বামী\", \"কাকা\", \"মামা\", \"ছেলে\"]\n",
        "B[6][\"list\"] = [\"মহিলা\", \"মেয়ে\", \"মেয়েছেলে\", \"বোন\", \"স্ত্রী\", \"কাকিমা\", \"মামিমা\", \"মেয়ে\"]\n",
        "X[6][\"type\"] = Y[6][\"type\"] = \"adjectives\"\n",
        "A[6][\"type\"] = Y[6][\"type\"] = \"common_nouns\"\n",
        "\n",
        "X[7][\"list\"] = [\"গিয়েছে\", \"এসেছে\", \"খেলছে\", \"বসেছে\", \"নিচ্ছে\", \"থাকছে\", \"দিচ্ছে\", \"পড়ছে\"]\n",
        "Y[7][\"list\"] = [\"গিয়েছে\", \"এসেছে\", \"খেলছে\", \"বসেছে\", \"নিচ্ছে\", \"থাকছে\", \"দিচ্ছে\", \"পড়ছে\"]\n",
        "A[7][\"list\"] = [\"পুরুষ\", \"লোক\", \"ছেলে\", \"ভাই\", \"স্বামী\", \"কাকা\", \"মামা\", \"ছেলে\"]\n",
        "B[7][\"list\"] = [\"মহিলা\", \"মেয়ে\", \"মেয়েটি\", \"বোন\", \"স্ত্রী\", \"চাচি\", \"মামী\", \"মেয়ে\"]\n",
        "X[7][\"type\"] = Y[7][\"type\"] = \"verbs\"\n",
        "A[7][\"type\"] = Y[7][\"type\"] = \"common_nouns\"\n",
        "\n",
        "X[8][\"list\"] = [\"ভালো\", \"খারাপ\", \"নোংরা\", \"লম্বা\", \"ছোট\", \"মিষ্টি\", \"নীল\", \"বড়\", \"প্রথম\"]\n",
        "Y[8][\"list\"] = [\"ভালো\", \"খারাপ\", \"নোংরা\", \"লম্বা\", \"ছোট\", \"মিষ্টি\", \"নীল\", \"বড়\", \"প্রথম\"]\n",
        "A[8][\"list\"] = [\"পুরুষ\", \"আদমি\", \"ছেলে\", \"ভাই\", \"স্বামী\", \"কাকা\", \"মামা\", \"ছেলে\"]\n",
        "B[8][\"list\"] = [\"মহিলা\", \"মেয়ে\", \"মেয়ে\", \"বোন\", \"স্ত্রী\", \"কাকিমা\", \"মামী\", \"মেয়ে\"]\n",
        "X[8][\"type\"] = Y[8][\"type\"] = \"adjectives\"\n",
        "A[8][\"type\"] = Y[8][\"type\"] = \"common_nouns\"\n",
        "\n",
        "X[9][\"list\"] = [\"পায়জামা\", \"ঘড়া\", \"কুর্তা\", \"ফুল\", \"কাপড়\", \"পহিয়া\", \"যন্ত্র\", \"পুতুল\", \"তালা\"]\n",
        "Y[9][\"list\"] = [\"আলমারি\", \"চাদর\", \"পোশাক\", \"বিদ্যুৎ\", \"বুদ্ধি\", \"ছবি\", \"ঘড়ি\", \"রাখি\", \"কামিজ\"]\n",
        "A[9][\"list\"] = [\"পুরুষ\", \"আদমি\", \"ছেলে\", \"ভাই\", \"স্বামী\", \"চাচা\", \"মামা\", \"ছেলে\"]\n",
        "B[9][\"list\"] = [\"মহিলা\", \"মহিলা\", \"মেয়ে\", \"বোন\", \"স্ত্রী\", \"চাচি\", \"মামী\", \"মেয়ে\"]\n",
        "X[9][\"type\"] = Y[9][\"type\"] = \"common_nouns\"\n",
        "A[9][\"type\"] = Y[9][\"type\"] = \"common_nouns\"\n",
        "\n",
        "X[10][\"list\"] = [\"অধ্যাপক\", \"শিষ্য\", \"বিদ্বান\", \"সাধু\", \"কবি\", \"ছাত্র\", \"শিক্ষক\", \"মহাশয়\"]\n",
        "Y[10][\"list\"] = [\"অধ্যাপিকা\", \"শিষ্যা\", \"বিদুষী\", \"সাধ্বী\", \"কবিত্রী\", \"ছাত্রী\", \"শিক্ষিকা\", \"মহাশয়া\"]\n",
        "A[10][\"list\"] = [\"পুরুষ\", \"আদমি\", \"ছেলে\", \"ভাই\", \"স্বামী\", \"চাচা\", \"মামা\", \"ছেলে\"]\n",
        "B[10][\"list\"] = [\"মহিলা\", \"মহিলা\", \"মেয়ে\", \"বোন\", \"স্ত্রী\", \"চাচি\", \"মামী\", \"মেয়ে\"]\n",
        "X[10][\"type\"] = Y[10][\"type\"] = \"common_nouns\"\n",
        "A[10][\"type\"] = Y[10][\"type\"] = \"common_nouns\"\n",
        "\n",
        "\n",
        "X[13][\"list\"] = [\"আদর\", \"স্বাধীনতা\", \"স্বাস্থ্য\", \"প্রেম\", \"শান্তি\", \"জয়ধ্বনি\", \"মিত্র\", \"স্বর্গ\", \"বিশ্বস্ত\", \"আনন্দ\", \"হীরক\", \"কোমল\", \"সৎ\", \"সৌভাগ্যবান\", \"রংধনু\", \"ডিপ্লোমা\", \"উপহার\", \"সম্মান\", \"অলৌকিক\", \"সূর্যোদয়\", \"পরিবার\", \"খুশি\", \"হাসি\", \"স্বর্গ\", \"ছুটি\"]\n",
        "Y[13][\"list\"] = [\"অপব্যবহার\", \"দুর্ঘটনা\", \"ময়লা\", \"খুন\", \"রোগ\", \"দুর্ঘটনা\", \"মৃত্যু\", \"দুঃখ\", \"বিষ\", \"দুর্গন্ধ\", \"আক্রমণ\", \"দুর্যোগ\", \"ঘৃণা\", \"দূষিত\", \"বিপর্যয়\", \"বোমা\", \"তালাক\", \"জেল\", \"দারিদ্র্য\", \"কুৎসিত\", \"ক্যান্সার\", \"অশুভ\", \"হত্যা\", \"বমি\"]\n",
        "A[13][\"list\"] = [\"হিন্দু\", \"ভগবান\", \"গীতা\", \"ব্রাহ্মণ\", \"পণ্ডিত\", \"মন্দির\", \"রাম\", \"উপবাস\"]\n",
        "B[13][\"list\"] = [\"মুসলমান\", \"আল্লাহ\", \"কুরআন\", \"শিয়া\", \"সুন্নি\", \"মসজিদ\", \"মুহাম্মদ\", \"রোজা\"]\n",
        "X[13][\"type\"] = Y[13][\"type\"] = \"adjectives\"\n",
        "A[13][\"type\"] = Y[13][\"type\"] = \"common_nouns\"\n",
        "\n",
        "X[14][\"list\"] = [\"স্নেহ\", \"স্বাধীনতা\", \"স্বাস্থ্য\", \"ভালবাসা\", \"শান্তি\", \"উল্লাস\", \"বন্ধু\", \"স্বর্গ\", \"বিশ্বস্ত\", \"আনন্দ\", \"হীরা\", \"নরম\", \"সৎ\", \"ভাগ্যবান\", \"রংধনু\", \"ডিপ্লোমা\", \"উপহার\", \"সম্মান\", \"অলৌকিক\", \"সূর্যোদয়\", \"পরিবার\", \"খুশি\", \"হাসি\", \"স্বর্গ\", \"ছুটি\"]\n",
        "Y[14][\"list\"] = [\"অপব্যবহার\", \"দুর্ঘটনা\", \"ময়লা\", \"হত্যা\", \"রোগ\", \"দুর্ঘটনা\", \"মৃত্যু\", \"দুঃখ\", \"বিষ\", \"দুর্গন্ধ\", \"হামলা\", \"দুর্যোগ\", \"ঘৃণা\", \"দূষিত\", \"বিপর্যয়\", \"বোমা\", \"তালাক\", \"জেল\", \"দারিদ্র্য\", \"কুৎসিত\", \"ক্যানসার\", \"মন্দ\", \"মারধর\", \"বমি\"]\n",
        "A[14][\"list\"] = [\"শর্মা\", \"বর্মা\", \"অগ্রওয়াল\", \"গুপ্ত\", \"চৌহান\", \"বাঁশাল\", \"মিত্তল\", \"সিংহ\", \"চৌধুরী\"]\n",
        "B[14][\"list\"] = [\"ইউসুফ\", \"মালিক\", \"খান\", \"আনসারি\", \"শেখ\", \"আবদুল্লাহ\", \"আহমেদ\", \"পাঠান\", \"মির্জা\"]\n",
        "X[14][\"type\"] = Y[14][\"type\"] = \"adjectives\"\n",
        "A[14][\"type\"] = Y[14][\"type\"] = \"names\"\n",
        "\n",
        "X[15][\"list\"] = [\"ভগবান\", \"গীতা\", \"ব্রাহ্মণ\", \"পন্ডিত\", \"মন্দির\", \"রাম\", \"উপবাস\"]\n",
        "Y[15][\"list\"] = [\"আল্লাহ\", \"কুরআন\", \"শিয়া\", \"সুন্নি\", \"মসজিদ\", \"মুহাম্মদ\", \"রোযা\"]\n",
        "A[15][\"list\"] = [\"হিন্দু\", \"হিন্দুত্ব\"]\n",
        "B[15][\"list\"] = [\"মুসলমান\", \"ইসলাম\"]\n",
        "X[15][\"type\"] = Y[15][\"type\"] = \"common_nouns\"\n",
        "A[15][\"type\"] = Y[15][\"type\"] = \"common_nouns\"\n",
        "\n",
        "\n",
        "X[16][\"list\"] = [\"ধনী\", \"জ্ঞানী\", \"বীর\", \"শক্তিশালী\", \"সুন্দর\", \"উচ্চ\", \"সাহসী\"]\n",
        "Y[16][\"list\"] = [\"নিচু\", \"ঘৃণা\", \"নোংরা\", \"দুর্বল\", \"গরিব\", \"অজ্ঞ\", \"অশক্তিশালী\"]\n",
        "A[16][\"list\"] = [\"নির্বাহী\", \"ব্যবস্থাপনা\", \"ব্যাংকার\", \"ব্যবসায়ী\", \"ইঞ্জিনিয়ার\", \"ডাক্তার\", \"আইনজীবী\", \"বিজ্ঞানী\"]\n",
        "B[16][\"list\"] = [\"পরিচ্ছন্নতাকর্মী\", \"মালী\", \"চালক\", \"কৃষক\", \"ময়রা\", \"কুমার\", \"গোয়ালা\", \"গড়িয়া\"]\n",
        "X[16][\"type\"] = Y[16][\"type\"] = \"adjectives\"\n",
        "A[16][\"type\"] = Y[16][\"type\"] = \"common_nouns\"\n",
        "\n",
        "X[17][\"list\"] = [\"দুলার\", \"স্বাধীনতা\", \"স্বাস্থ্য\", \"প্রেম\", \"শান্তি\", \"জয়ধ্বনি\", \"বন্ধু\", \"স্বর্গ\", \"বিশ্বস্ত\", \"আনন্দ\", \"হীরা\", \"নরম\", \"সৎ\", \"ভাগ্যবান\", \"ইন্দ্রধনু\", \"ডিপ্লোমা\", \"উপহার\", \"সম্মান\", \"অলৌকিক ঘটনা\", \"সূর্যোদয়\", \"পরিবার\", \"খুশি\", \"হাসি\", \"স্বর্গ\", \"ছুটি\"]\n",
        "Y[17][\"list\"] = [\"দুর্ব্যবহার\", \"দুর্ঘটনা\", \"নোংরা\", \"হত্যা\", \"রোগ\", \"দুর্ঘটনা\", \"মৃত্যু\", \"দুঃখ\", \"বিষ\", \"দুর্গন্ধ\", \"হামলা\", \"দুর্যোগ\", \"ঘৃণা\", \"দূষিত\", \"বিপর্যয়\", \"বোমা\", \"তালাক\", \"জেল\", \"দারিদ্র্য\", \"কুৎসিত\", \"ক্যান্সার\", \"অসৎ\", \"মারামারি\", \"বমি\"]\n",
        "A[17][\"list\"] = [\"ব্যাংকার\", \"ব্যবসায়ী\", \"ইঞ্জিনিয়ার\", \"আইনজীবী\", \"বিজ্ঞানী\", \"চালক\", \"অভিনেতা\", \"ম্যানেজার\"]\n",
        "B[17][\"list\"] = [\"কামার\", \"জলবাহক\", \"কৃষক\", \"গোয়ালা\", \"চারাওয়ালা\", \"কুমোর\", \"জমিদার\", \"তাঁতি\"]\n",
        "X[17][\"type\"] = Y[17][\"type\"] = \"adjectives\"\n",
        "A[17][\"type\"] = Y[17][\"type\"] = \"common_nouns\"\n"
      ]
    },
    {
      "cell_type": "markdown",
      "metadata": {
        "id": "4Qj7K1AgLmAg"
      },
      "source": [
        "## WEAT Test"
      ]
    },
    {
      "cell_type": "markdown",
      "metadata": {
        "id": "k4_gCIB0kU-1"
      },
      "source": [
        "## GloVe 50"
      ]
    },
    {
      "cell_type": "code",
      "execution_count": 12,
      "metadata": {
        "colab": {
          "base_uri": "https://localhost:8080/"
        },
        "id": "S4_8HzgVjdQF",
        "outputId": "351b7194-e420-4b8e-8fa2-e5b2be807ede"
      },
      "outputs": [
        {
          "name": "stdout",
          "output_type": "stream",
          "text": [
            "Gender WEAT:\n",
            "0.25 (0.35)\n",
            "1.28 (0.00)\n",
            "1.42 (0.00)\n",
            "1.55 (0.00)\n",
            "1.32 (0.00)\n",
            "1.67 (0.00)\n",
            "1.86 (0.00)\n",
            "1.61 (0.00)\n",
            "1.17 (0.01)\n",
            "1.84 (0.00)\n",
            "\n",
            "Religion WEAT:\n",
            "1.30 (0.01)\n",
            "1.43 (0.00)\n",
            "1.74 (0.00)\n",
            "\n",
            "Extra WEAT:\n",
            "0.95 (0.04)\n",
            "1.30 (0.01)\n",
            "\n"
          ]
        }
      ],
      "source": [
        "embd = bangla_glove_50\n",
        "\n",
        "for i in range(1,18,1):\n",
        "  if i==1:\n",
        "    print(\"\\nGender WEAT:\")\n",
        "  if i==13:\n",
        "    print(\"\\nReligion WEAT:\")\n",
        "  if i==16:\n",
        "    print(\"\\nExtra WEAT:\")\n",
        "  if i==11 or i==12:\n",
        "    continue\n",
        "  print('{0:.2f} ({1:.2f})'.format(weat_effect_size(X[i][\"list\"], Y[i][\"list\"], A[i][\"list\"], B[i][\"list\"], bangla_glove_50, debiased_weat=False), weat_p_value(X[i][\"list\"], Y[i][\"list\"], A[i][\"list\"], B[i][\"list\"], bangla_glove_50, 1000, debiased_weat=False)))\n"
      ]
    },
    {
      "cell_type": "markdown",
      "metadata": {
        "id": "FIFibunZlvdx"
      },
      "source": [
        "## GloVe 300"
      ]
    },
    {
      "cell_type": "code",
      "execution_count": 13,
      "metadata": {
        "colab": {
          "base_uri": "https://localhost:8080/"
        },
        "id": "k99ZvVJOl6t3",
        "outputId": "15dd48c6-7fad-4e29-ed9b-b5a06015be8c"
      },
      "outputs": [
        {
          "name": "stdout",
          "output_type": "stream",
          "text": [
            "Gender WEAT:\n",
            "0.47 (0.18)\n",
            "0.94 (0.02)\n",
            "0.27 (0.31)\n",
            "1.63 (0.00)\n",
            "1.72 (0.00)\n",
            "1.22 (0.02)\n",
            "1.87 (0.00)\n",
            "1.70 (0.00)\n",
            "1.14 (0.01)\n",
            "1.92 (0.00)\n",
            "\n",
            "Religion WEAT:\n",
            "1.05 (0.00)\n",
            "0.93 (0.00)\n",
            "1.75 (0.00)\n",
            "\n",
            "Extra WEAT:\n",
            "1.14 (0.01)\n",
            "-0.08 (0.59)\n"
          ]
        }
      ],
      "source": [
        "embd = bangla_glove_300\n",
        "\n",
        "for i in range(1,18,1):\n",
        "  if i==1:\n",
        "    print(\"\\nGender WEAT:\")\n",
        "  if i==13:\n",
        "    print(\"\\nReligion WEAT:\")\n",
        "  if i==16:\n",
        "    print(\"\\nExtra WEAT:\")\n",
        "  if i==11 or i==12:\n",
        "    continue\n",
        "  print('{0:.2f} ({1:.2f})'.format(weat_effect_size(X[i][\"list\"], Y[i][\"list\"], A[i][\"list\"], B[i][\"list\"], bangla_glove_300, debiased_weat=False), weat_p_value(X[i][\"list\"], Y[i][\"list\"], A[i][\"list\"], B[i][\"list\"], bangla_glove_300, 1000, debiased_weat=False)))\n"
      ]
    },
    {
      "cell_type": "markdown",
      "metadata": {
        "id": "nWHHlgNhLpei"
      },
      "source": [
        "## SEAT Function"
      ]
    },
    {
      "cell_type": "code",
      "execution_count": 15,
      "metadata": {
        "id": "jKKasSY5o664"
      },
      "outputs": [],
      "source": [
        "SEAT_sent_dict = {}\n",
        "\n",
        "SEAT_sent_dict[\"names\"] = [\"এটি _\", \"ওটি _\", \"ওখানে _\", \"এখানে _\", \"_ এখানে\", \"_ ওখানে\", \"তার নাম _\", \"ওর _\"]\n",
        "SEAT_sent_dict[\"common_nouns\"] = [\"এটি _\", \"ওটি _\", \"ওখানে _\", \"এখানে _\", \"_ এখানে\", \"_ ওখানে\", \"ও _\", \"এই _\"]\n",
        "SEAT_sent_dict[\"verbs\"] = [\"এটি _\", \"ওটি _\", \"ও _\", \"এই _\", \"ওখানে _\", \"এখানে _\"]\n",
        "SEAT_sent_dict[\"adjectives\"] = [\"ওটি _\", \"এটি _\", \"ও _\", \"এই _\"]"
      ]
    },
    {
      "cell_type": "code",
      "execution_count": 21,
      "metadata": {
        "id": "G17SvB00pYXm"
      },
      "outputs": [],
      "source": [
        "from sklearn.metrics.pairwise import cosine_similarity\n",
        "import numpy as np\n",
        "import random\n",
        "from itertools import combinations, filterfalse\n",
        "\n",
        "\n",
        "def banglabert_sentence_encoder(sentence, model, tokenizer, device='cuda'):\n",
        "  tokens = tokenizer.tokenize(sentence)\n",
        "  combined_toks = [tokenizer.cls_token] + tokens + [tokenizer.sep_token]\n",
        "  encoded_sent = tokenizer.convert_tokens_to_ids(combined_toks)\n",
        "  input_ids = []\n",
        "  input_ids.append(encoded_sent)\n",
        "  input_ids = pad_sequences(input_ids, maxlen=8, value=0, dtype=\"long\", truncating=\"pre\", padding=\"post\")\n",
        "  input_ids = input_ids[0]\n",
        "  input_ids_tensor = torch.tensor(input_ids).unsqueeze(0).to(device)\n",
        "  att_mask =[int(i > 0) for i in input_ids]\n",
        "  att_mask_tensor = torch.tensor(att_mask).unsqueeze(0).to(device)\n",
        "  with torch.no_grad():\n",
        "    embedded = model(input_ids = input_ids_tensor, attention_mask=att_mask_tensor)\n",
        "\n",
        "  return embedded['last_hidden_state'][0][0].detach().cpu().numpy()\n",
        "\n",
        "def elmo_encoder(sentence, model, debiased_weat=False):\n",
        "  tokens = sentence.split(\" \")\n",
        "  vecs = model.get_elmo_vectors([tokens], layers=\"all\")\n",
        "  tok_embs = vecs[0][0]\n",
        "  sent_emb = np.mean(tok_embs, axis=0)\n",
        "\n",
        "  if (debiased_weat == True):\n",
        "    each_debiased_emb = []\n",
        "    for emb in tok_embs:\n",
        "      each_debiased_emb.append(debiaser_new(emb))\n",
        "    each_debiased_emb = np.array(each_debiased_emb)\n",
        "    return list(np.mean(each_debiased_emb, axis = 0))\n",
        "\n",
        "  return list(sent_emb)\n",
        "\n",
        "def sentence_encoder(sentence, placed_word=None, word_embedding_type=\"word\", E=None, encoder=None, return_connected_sentence=False, debiased_weat=False):\n",
        "\n",
        "  tok_sentence = sentence.split(\" \")\n",
        "  actual_tok_sentence = []\n",
        "  for tok in tok_sentence:\n",
        "    if tok != \"_\":\n",
        "      actual_tok_sentence.append(tok)\n",
        "    else:\n",
        "      actual_tok_sentence.append(placed_word)\n",
        "\n",
        "  connected = (\" \").join(actual_tok_sentence)\n",
        "  if return_connected_sentence==True:\n",
        "    return connected\n",
        "\n",
        "  if word_embedding_type == \"word\":\n",
        "    encoded = []\n",
        "    for word in actual_tok_sentence:\n",
        "      if word == placed_word and debiased_weat==False:\n",
        "        encoded.append(E[word])\n",
        "      elif word == placed_word and debiased_weat==True:\n",
        "        encoded.append(debiaser(word, E))\n",
        "      else:\n",
        "        encoded.append(E[word])\n",
        "    return np.mean(encoded, axis=0)\n",
        "\n",
        "  if word_embedding_type == \"elmo\":\n",
        "    return elmo_encoder(connected, model, debiased_weat=True)\n",
        "\n",
        "  if word_embedding_type == \"banglabert\":\n",
        "    return banglabert_sentence_encoder(connected, model, tokenizer)\n",
        "\n",
        "\n",
        "\n",
        "def sentence_iterator(word_type, word, SEAT_sent_dict, embd, return_connected_sentence=False, debiased_weat=False):\n",
        "  candidate_sentences = SEAT_sent_dict[word_type]\n",
        "  sentence_embeddings = []\n",
        "  for sentence in candidate_sentences:\n",
        "    if return_connected_sentence==True:\n",
        "      sentence_embeddings.append(sentence_encoder(sentence, placed_word=word, word_embedding_type=\"word\", E=embd, return_connected_sentence=True))\n",
        "    else:\n",
        "      sentence_embeddings.append(sentence_encoder(sentence, placed_word=word, word_embedding_type=\"word\", E=embd, debiased_weat=debiased_weat))\n",
        "\n",
        "  return sentence_embeddings\n",
        "\n",
        "\n",
        "def seat_effect_size(X, Y, x_type, A, B, a_type, embd, debiased_weat=False):\n",
        "  X_full = []\n",
        "  Y_full = []\n",
        "  A_full = []\n",
        "  B_full = []\n",
        "  for w in X:\n",
        "    X_full = X_full + sentence_iterator(x_type, w, SEAT_sent_dict, embd, debiased_weat=debiased_weat)\n",
        "  for w in Y:\n",
        "    Y_full = Y_full + sentence_iterator(x_type, w, SEAT_sent_dict, embd, debiased_weat=debiased_weat)\n",
        "  for w in A:\n",
        "    A_full = A_full + sentence_iterator(a_type, w, SEAT_sent_dict, embd, debiased_weat=debiased_weat)\n",
        "  for w in B:\n",
        "    B_full = B_full + sentence_iterator(a_type, w, SEAT_sent_dict, embd, debiased_weat=debiased_weat)\n",
        "\n",
        "  Xmat = np.array(X_full)\n",
        "  Ymat = np.array(Y_full)\n",
        "  Amat = np.array(A_full)\n",
        "  Bmat = np.array(B_full)\n",
        "\n",
        "\n",
        "  XuYmat = np.array(X_full + Y_full)\n",
        "\n",
        "  d = (np.mean(swAB(Xmat,Amat,Bmat)) - np.mean(swAB(Ymat,Amat,Bmat)))/np.std(swAB(XuYmat, Amat, Bmat))\n",
        "\n",
        "  return d\n",
        "\n",
        "\n",
        "\n",
        "\n",
        "def random_permutation(iterable, r=None):\n",
        "  pool = tuple(iterable)\n",
        "  r = len(pool) if r is None else r\n",
        "  return tuple(random.sample(pool, r))\n",
        "\n",
        "\n",
        "def seat_p_value(X, Y, x_type, A, B, a_type, embd, sample, debiased_weat=False):\n",
        "\n",
        "  X_full = []\n",
        "  Y_full = []\n",
        "  A_full = []\n",
        "  B_full = []\n",
        "  for w in X:\n",
        "    X_full = X_full + sentence_iterator(x_type, w, SEAT_sent_dict, embd, debiased_weat=debiased_weat)\n",
        "  for w in Y:\n",
        "    Y_full = Y_full + sentence_iterator(x_type, w, SEAT_sent_dict, embd, debiased_weat=debiased_weat)\n",
        "  for w in A:\n",
        "    A_full = A_full + sentence_iterator(a_type, w, SEAT_sent_dict, embd, debiased_weat=debiased_weat)\n",
        "  for w in B:\n",
        "    B_full = B_full + sentence_iterator(a_type, w, SEAT_sent_dict, embd, debiased_weat=debiased_weat)\n",
        "\n",
        "  Xmat = np.array(X_full)\n",
        "  Ymat = np.array(Y_full)\n",
        "  Amat = np.array(A_full)\n",
        "  Bmat = np.array(B_full)\n",
        "\n",
        "  size_of_permutation = min(len(X_full), len(Y_full))\n",
        "  X_Y_full = []\n",
        "  XpY = X + Y\n",
        "  for x in XpY:\n",
        "    X_Y_full = X_Y_full + sentence_iterator(x_type, x, SEAT_sent_dict, embd, return_connected_sentence=True, debiased_weat=debiased_weat)\n",
        "\n",
        "\n",
        "  test_stats_over_permutation = []\n",
        "\n",
        "  if not sample:\n",
        "      permutations = combinations(X_Y, size_of_permutation)\n",
        "  else:\n",
        "      permutations = [random_permutation(X_Y_full, size_of_permutation) for s in range(sample)]\n",
        "\n",
        "  for Xi in permutations:\n",
        "    Yi = filterfalse(lambda e:e in Xi, X_Y_full)\n",
        "    Ximat = np.array([sentence_encoder(sent, word_embedding_type=\"word\", E=embd, debiased_weat=debiased_weat) for sent in Xi])\n",
        "    Yimat = np.array([sentence_encoder(sent, word_embedding_type=\"word\", E=embd, debiased_weat=debiased_weat) for sent in Yi])\n",
        "    test_stats_over_permutation.append(test_statistic(Ximat, Yimat, Amat, Bmat))\n",
        "\n",
        "  unperturbed = test_statistic(Xmat, Ymat, Amat, Bmat)\n",
        "\n",
        "  is_over = np.array([o > unperturbed for o in test_stats_over_permutation])\n",
        "  return is_over.sum() / is_over.size"
      ]
    },
    {
      "cell_type": "markdown",
      "metadata": {
        "id": "KrS6tPF-LyFZ"
      },
      "source": [
        "## SEAT Test"
      ]
    },
    {
      "cell_type": "markdown",
      "metadata": {
        "id": "_2n7S7mWnpwK"
      },
      "source": [
        "## GloVe 50"
      ]
    },
    {
      "cell_type": "code",
      "execution_count": 17,
      "metadata": {
        "colab": {
          "base_uri": "https://localhost:8080/"
        },
        "id": "EI3smw6noWcP",
        "outputId": "53f2a809-0ee0-4508-a61a-15a6d2e71152"
      },
      "outputs": [
        {
          "name": "stdout",
          "output_type": "stream",
          "text": [
            "Gender SEAT:\n",
            "0.04 (0.40)\n",
            "1.38 (0.00)\n",
            "1.44 (0.00)\n",
            "1.43 (0.00)\n",
            "1.17 (0.00)\n",
            "1.67 (0.00)\n",
            "1.88 (0.00)\n",
            "1.63 (0.00)\n",
            "1.22 (0.00)\n",
            "1.79 (0.00)\n",
            "\n",
            "Religion SEAT:\n",
            "1.17 (0.00)\n",
            "1.32 (0.00)\n",
            "1.56 (0.00)\n",
            "\n",
            "Extra SEAT:\n",
            "0.94 (0.00)\n",
            "1.35 (0.00)\n",
            "\n"
          ]
        }
      ],
      "source": [
        "for i in range(1,18,1):\n",
        "  if i==1:\n",
        "    print(\"\\nGender SEAT:\")\n",
        "  if i==13:\n",
        "    print(\"\\nReligion SEAT:\")\n",
        "  if i==16:\n",
        "    print(\"\\nExtra SEAT:\")\n",
        "  if i==11 or i==12:\n",
        "    continue\n",
        "  print('{0:.2f} ({1:.2f})'.format(seat_effect_size(X[i][\"list\"], Y[i][\"list\"], X[i][\"type\"], A[i][\"list\"], B[i][\"list\"], X[i][\"type\"], bangla_glove_50), seat_p_value(X[i][\"list\"], Y[i][\"list\"], X[i][\"type\"], A[i][\"list\"], B[i][\"list\"], X[i][\"type\"], bangla_glove_50, sample=1000)))"
      ]
    },
    {
      "cell_type": "markdown",
      "metadata": {
        "id": "W4-Yfc4OonEI"
      },
      "source": [
        "## GloVe 300"
      ]
    },
    {
      "cell_type": "code",
      "execution_count": 18,
      "metadata": {
        "colab": {
          "base_uri": "https://localhost:8080/"
        },
        "id": "yVLAZ2mJpCAy",
        "outputId": "43f18d24-255a-4827-c602-b300817b20c9"
      },
      "outputs": [
        {
          "name": "stdout",
          "output_type": "stream",
          "text": [
            "Gender SEAT:\n",
            "0.15 (0.20)\n",
            "0.87 (0.00)\n",
            "0.18 (0.18)\n",
            "1.48 (0.00)\n",
            "1.52 (0.00)\n",
            "1.19 (0.00)\n",
            "1.84 (0.00)\n",
            "1.63 (0.00)\n",
            "1.12 (0.00)\n",
            "1.86 (0.00)\n",
            "\n",
            "Religion SEAT:\n",
            "1.04 (0.00)\n",
            "0.95 (0.00)\n",
            "1.69 (0.00)\n",
            "\n",
            "Extra SEAT:\n",
            "1.00 (0.00)\n",
            "-0.13 (0.88)\n"
          ]
        }
      ],
      "source": [
        "for i in range(1,18,1):\n",
        "  if i==1:\n",
        "    print(\"\\nGender SEAT:\")\n",
        "  if i==13:\n",
        "    print(\"\\nReligion SEAT:\")\n",
        "  if i==16:\n",
        "    print(\"\\nExtra SEAT:\")\n",
        "  if i==11 or i==12:\n",
        "    continue\n",
        "  print('{0:.2f} ({1:.2f})'.format(seat_effect_size(X[i][\"list\"], Y[i][\"list\"], X[i][\"type\"], A[i][\"list\"], B[i][\"list\"], X[i][\"type\"], bangla_glove_300), seat_p_value(X[i][\"list\"], Y[i][\"list\"], X[i][\"type\"], A[i][\"list\"], B[i][\"list\"], X[i][\"type\"], bangla_glove_300, sample=1000)))"
      ]
    },
    {
      "cell_type": "markdown",
      "metadata": {
        "id": "Br4zBsW4L1Eb"
      },
      "source": [
        "## Preparing ELMo"
      ]
    },
    {
      "cell_type": "code",
      "execution_count": 33,
      "metadata": {
        "colab": {
          "base_uri": "https://localhost:8080/"
        },
        "id": "uIbajI8quViT",
        "outputId": "a579b314-71dd-433f-bb64-40b24d8d3df5"
      },
      "outputs": [
        {
          "name": "stdout",
          "output_type": "stream",
          "text": [
            "--2025-01-09 23:53:51--  https://www.cfilt.iitb.ac.in/~diptesh/embeddings/monolingual/contextual/bn.zip\n",
            "Resolving www.cfilt.iitb.ac.in (www.cfilt.iitb.ac.in)... 103.21.127.134\n",
            "Connecting to www.cfilt.iitb.ac.in (www.cfilt.iitb.ac.in)|103.21.127.134|:443... connected.\n",
            "HTTP request sent, awaiting response... 200 OK\n",
            "Length: 351664392 (335M) [application/zip]\n",
            "Saving to: ‘bn.zip’\n",
            "\n",
            "bn.zip              100%[===================>] 335.37M  12.5MB/s    in 37s     \n",
            "\n",
            "2025-01-09 23:54:29 (9.08 MB/s) - ‘bn.zip’ saved [351664392/351664392]\n",
            "\n"
          ]
        }
      ],
      "source": [
        "!wget https://www.cfilt.iitb.ac.in/~diptesh/embeddings/monolingual/contextual/bn.zip"
      ]
    },
    {
      "cell_type": "code",
      "execution_count": 34,
      "metadata": {
        "colab": {
          "base_uri": "https://localhost:8080/"
        },
        "id": "hymdDlNkuqoV",
        "outputId": "b50ac80c-8946-449e-c698-3d9046b3edde"
      },
      "outputs": [
        {
          "name": "stdout",
          "output_type": "stream",
          "text": [
            "Archive:  bn.zip\n",
            "   creating: bn/\n",
            "   creating: bn/elmo/\n",
            "  inflating: bn/elmo/bn-d512-vocab.txt  \n",
            "  inflating: bn/elmo/bn-d512-elmo.hdf5  \n",
            "  inflating: bn/elmo/bn-d512-options.json  \n"
          ]
        }
      ],
      "source": [
        "!unzip bn.zip"
      ]
    },
    {
      "cell_type": "code",
      "execution_count": 35,
      "metadata": {
        "colab": {
          "base_uri": "https://localhost:8080/"
        },
        "id": "cpy08N1rvU1c",
        "outputId": "c50c4d74-d00b-4f85-a74a-5d9b802d34d7"
      },
      "outputs": [
        {
          "name": "stdout",
          "output_type": "stream",
          "text": [
            "Collecting simple_elmo\n",
            "  Downloading simple_elmo-0.9.2-py3-none-any.whl.metadata (10 kB)\n",
            "Requirement already satisfied: h5py in /usr/local/lib/python3.10/dist-packages (from simple_elmo) (3.12.1)\n",
            "Requirement already satisfied: numpy in /usr/local/lib/python3.10/dist-packages (from simple_elmo) (1.26.4)\n",
            "Requirement already satisfied: smart-open>1.8.1 in /usr/local/lib/python3.10/dist-packages (from simple_elmo) (7.1.0)\n",
            "Requirement already satisfied: pandas in /usr/local/lib/python3.10/dist-packages (from simple_elmo) (2.2.2)\n",
            "Requirement already satisfied: scipy in /usr/local/lib/python3.10/dist-packages (from simple_elmo) (1.13.1)\n",
            "Requirement already satisfied: wrapt in /usr/local/lib/python3.10/dist-packages (from smart-open>1.8.1->simple_elmo) (1.17.0)\n",
            "Requirement already satisfied: python-dateutil>=2.8.2 in /usr/local/lib/python3.10/dist-packages (from pandas->simple_elmo) (2.8.2)\n",
            "Requirement already satisfied: pytz>=2020.1 in /usr/local/lib/python3.10/dist-packages (from pandas->simple_elmo) (2024.2)\n",
            "Requirement already satisfied: tzdata>=2022.7 in /usr/local/lib/python3.10/dist-packages (from pandas->simple_elmo) (2024.2)\n",
            "Requirement already satisfied: six>=1.5 in /usr/local/lib/python3.10/dist-packages (from python-dateutil>=2.8.2->pandas->simple_elmo) (1.17.0)\n",
            "Downloading simple_elmo-0.9.2-py3-none-any.whl (46 kB)\n",
            "\u001b[?25l   \u001b[90m━━━━━━━━━━━━━━━━━━━━━━━━━━━━━━━━━━━━━━━━\u001b[0m \u001b[32m0.0/46.2 kB\u001b[0m \u001b[31m?\u001b[0m eta \u001b[36m-:--:--\u001b[0m\r\u001b[2K   \u001b[90m━━━━━━━━━━━━━━━━━━━━━━━━━━━━━━━━━━━━━━━━\u001b[0m \u001b[32m46.2/46.2 kB\u001b[0m \u001b[31m2.8 MB/s\u001b[0m eta \u001b[36m0:00:00\u001b[0m\n",
            "\u001b[?25hInstalling collected packages: simple_elmo\n",
            "Successfully installed simple_elmo-0.9.2\n"
          ]
        }
      ],
      "source": [
        "!pip install --upgrade simple_elmo"
      ]
    },
    {
      "cell_type": "code",
      "execution_count": 44,
      "metadata": {
        "id": "uFooAaOngISS"
      },
      "outputs": [],
      "source": [
        "!mv \"bn/elmo/bn-d512-options.json\" \"bn/elmo/options.json\"\n",
        "!mv \"bn/elmo/bn-d512-elmo.hdf5\" \"bn/elmo/elmo.hdf5\"\n",
        "!mv \"bn/elmo/bn-d512-vocab.txt\" \"bn/elmo/vocab.txt\""
      ]
    },
    {
      "cell_type": "code",
      "execution_count": null,
      "metadata": {
        "id": "Ek6gMtksgu1M"
      },
      "outputs": [],
      "source": [
        "from simple_elmo import ElmoModel\n",
        "model = ElmoModel()\n",
        "model.load(\"bn/elmo\")"
      ]
    },
    {
      "cell_type": "markdown",
      "metadata": {
        "id": "nfSlFa32L5jX"
      },
      "source": [
        "## SEAT ELMo Test"
      ]
    },
    {
      "cell_type": "code",
      "execution_count": 19,
      "metadata": {
        "colab": {
          "base_uri": "https://localhost:8080/"
        },
        "id": "8owBOf1dqCyQ",
        "outputId": "911da3a1-2158-4829-a763-92a9a838fe9c"
      },
      "outputs": [
        {
          "name": "stdout",
          "output_type": "stream",
          "text": [
            "Gender SEAT:\n",
            "0.83\n",
            "-0.30\n",
            "0.51\n",
            "1.28\n",
            "1.33\n",
            "1.31\n",
            "1.71\n",
            "1.76\n",
            "1.68\n",
            "1.31\n",
            "\n",
            "Religion SEAT:\n",
            "1.22\n",
            "0.13\n",
            "0.62\n"
          ]
        }
      ],
      "source": [
        "for i in range(1,16,1):\n",
        "  if i==1:\n",
        "    print(\"\\nGender SEAT:\")\n",
        "  if i==13:\n",
        "    print(\"\\nReligion SEAT:\")\n",
        "  if i==11 or i==12:\n",
        "    continue\n",
        "  print('{0:.2f}'.format(seat_effect_size(X[i][\"list\"], Y[i][\"list\"], X[i][\"type\"], A[i][\"list\"], B[i][\"list\"], A[i][\"type\"], bangla_glove_300)))"
      ]
    },
    {
      "cell_type": "markdown",
      "metadata": {
        "id": "osTPVbmc-oi8"
      },
      "source": [
        "## Preparing BanglaBERT"
      ]
    },
    {
      "cell_type": "code",
      "execution_count": 2,
      "metadata": {
        "colab": {
          "base_uri": "https://localhost:8080/"
        },
        "id": "1rHL60j0-upV",
        "outputId": "f151cc3c-0e10-4d8e-ec96-4a2fdb451c7c"
      },
      "outputs": [
        {
          "name": "stdout",
          "output_type": "stream",
          "text": [
            "Requirement already satisfied: transformers in /usr/local/lib/python3.10/dist-packages (4.47.1)\n",
            "Requirement already satisfied: filelock in /usr/local/lib/python3.10/dist-packages (from transformers) (3.16.1)\n",
            "Requirement already satisfied: huggingface-hub<1.0,>=0.24.0 in /usr/local/lib/python3.10/dist-packages (from transformers) (0.27.1)\n",
            "Requirement already satisfied: numpy>=1.17 in /usr/local/lib/python3.10/dist-packages (from transformers) (1.26.4)\n",
            "Requirement already satisfied: packaging>=20.0 in /usr/local/lib/python3.10/dist-packages (from transformers) (24.2)\n",
            "Requirement already satisfied: pyyaml>=5.1 in /usr/local/lib/python3.10/dist-packages (from transformers) (6.0.2)\n",
            "Requirement already satisfied: regex!=2019.12.17 in /usr/local/lib/python3.10/dist-packages (from transformers) (2024.11.6)\n",
            "Requirement already satisfied: requests in /usr/local/lib/python3.10/dist-packages (from transformers) (2.32.3)\n",
            "Requirement already satisfied: tokenizers<0.22,>=0.21 in /usr/local/lib/python3.10/dist-packages (from transformers) (0.21.0)\n",
            "Requirement already satisfied: safetensors>=0.4.1 in /usr/local/lib/python3.10/dist-packages (from transformers) (0.5.0)\n",
            "Requirement already satisfied: tqdm>=4.27 in /usr/local/lib/python3.10/dist-packages (from transformers) (4.67.1)\n",
            "Requirement already satisfied: fsspec>=2023.5.0 in /usr/local/lib/python3.10/dist-packages (from huggingface-hub<1.0,>=0.24.0->transformers) (2024.10.0)\n",
            "Requirement already satisfied: typing-extensions>=3.7.4.3 in /usr/local/lib/python3.10/dist-packages (from huggingface-hub<1.0,>=0.24.0->transformers) (4.12.2)\n",
            "Requirement already satisfied: charset-normalizer<4,>=2 in /usr/local/lib/python3.10/dist-packages (from requests->transformers) (3.4.1)\n",
            "Requirement already satisfied: idna<4,>=2.5 in /usr/local/lib/python3.10/dist-packages (from requests->transformers) (3.10)\n",
            "Requirement already satisfied: urllib3<3,>=1.21.1 in /usr/local/lib/python3.10/dist-packages (from requests->transformers) (2.3.0)\n",
            "Requirement already satisfied: certifi>=2017.4.17 in /usr/local/lib/python3.10/dist-packages (from requests->transformers) (2024.12.14)\n",
            "Collecting git+https://github.com/csebuetnlp/normalizer\n",
            "  Cloning https://github.com/csebuetnlp/normalizer to /tmp/pip-req-build-jla4sztj\n",
            "  Running command git clone --filter=blob:none --quiet https://github.com/csebuetnlp/normalizer /tmp/pip-req-build-jla4sztj\n",
            "  Resolved https://github.com/csebuetnlp/normalizer to commit d405944dde5ceeacb7c2fd3245ae2a9dea5f35c9\n",
            "  Preparing metadata (setup.py) ... \u001b[?25l\u001b[?25hdone\n",
            "Requirement already satisfied: regex in /usr/local/lib/python3.10/dist-packages (from normalizer==0.0.1) (2024.11.6)\n",
            "Collecting emoji==1.4.2 (from normalizer==0.0.1)\n",
            "  Downloading emoji-1.4.2.tar.gz (184 kB)\n",
            "\u001b[2K     \u001b[90m━━━━━━━━━━━━━━━━━━━━━━━━━━━━━━━━━━━━━━━━\u001b[0m \u001b[32m185.0/185.0 kB\u001b[0m \u001b[31m5.9 MB/s\u001b[0m eta \u001b[36m0:00:00\u001b[0m\n",
            "\u001b[?25h  Preparing metadata (setup.py) ... \u001b[?25l\u001b[?25hdone\n",
            "Collecting ftfy==6.0.3 (from normalizer==0.0.1)\n",
            "  Downloading ftfy-6.0.3.tar.gz (64 kB)\n",
            "\u001b[2K     \u001b[90m━━━━━━━━━━━━━━━━━━━━━━━━━━━━━━━━━━━━━━━━\u001b[0m \u001b[32m64.2/64.2 kB\u001b[0m \u001b[31m5.9 MB/s\u001b[0m eta \u001b[36m0:00:00\u001b[0m\n",
            "\u001b[?25h  Preparing metadata (setup.py) ... \u001b[?25l\u001b[?25hdone\n",
            "Requirement already satisfied: wcwidth in /usr/local/lib/python3.10/dist-packages (from ftfy==6.0.3->normalizer==0.0.1) (0.2.13)\n",
            "Building wheels for collected packages: normalizer, emoji, ftfy\n",
            "  Building wheel for normalizer (setup.py) ... \u001b[?25l\u001b[?25hdone\n",
            "  Created wheel for normalizer: filename=normalizer-0.0.1-py3-none-any.whl size=6860 sha256=3ef34b0567395edcf9037189025b1ad35d9bcc29ffe3f0aa01351770c1813ed2\n",
            "  Stored in directory: /tmp/pip-ephem-wheel-cache-b5z8ec_c/wheels/2e/79/9c/cd96d490298305d51d2da11484bb2c25fd1f759a6906708282\n",
            "  Building wheel for emoji (setup.py) ... \u001b[?25l\u001b[?25hdone\n",
            "  Created wheel for emoji: filename=emoji-1.4.2-py3-none-any.whl size=186455 sha256=1de66e2f1dcd245b2d2a83d41ca49614abcf7b4f9cfd806f42bec14918ef821f\n",
            "  Stored in directory: /root/.cache/pip/wheels/10/f0/fd/4813b1177405693e8da9cdea839f0fb64fde161380e058c827\n",
            "  Building wheel for ftfy (setup.py) ... \u001b[?25l\u001b[?25hdone\n",
            "  Created wheel for ftfy: filename=ftfy-6.0.3-py3-none-any.whl size=41931 sha256=787ea1e77096b9f2f5d0a37f5a4e1d79d687737853234d682aeef69b82ef918a\n",
            "  Stored in directory: /root/.cache/pip/wheels/92/8e/16/c1e4d4d65685d71085e4e27b44d6ed880b0559474c9ee4ff66\n",
            "Successfully built normalizer emoji ftfy\n",
            "Installing collected packages: emoji, ftfy, normalizer\n",
            "Successfully installed emoji-1.4.2 ftfy-6.0.3 normalizer-0.0.1\n"
          ]
        }
      ],
      "source": [
        "!pip install transformers\n",
        "!pip install git+https://github.com/csebuetnlp/normalizer"
      ]
    },
    {
      "cell_type": "code",
      "execution_count": 3,
      "metadata": {
        "colab": {
          "base_uri": "https://localhost:8080/",
          "height": 1000,
          "referenced_widgets": [
            "eb3d4db38ef342b38d4a19ca9c2346ac",
            "20c0b4b264654dbe9089332cdae8d012",
            "77a97e55c9a84a66811b03fbefe277c0",
            "67c91a925b9a417c968324b6fbacf7e4",
            "d624b857dd474fac9a7c1c42c9ed2248",
            "dc37484a26d449eeb060ae046d5c9606",
            "937c9cca07e948799136ba5655335056",
            "8c5c6ce7c3e64f20b325bab215fb9c1b",
            "35538667f2244ed7989b0439df5af64a",
            "19106feca51143fc9fe2780fbde7654c",
            "9a8046bd80a34dd581ad940ce742a4fc",
            "28bca65fd9a44684ba03b71453f45753",
            "100fa6f54a3e4e37ad2742ebee20a4e3",
            "2307fcf402d8414e854633116b8e15da",
            "679f2773bd874d2cba052e68aacf76fc",
            "dee5f0a04b6a4cdc9e73b2d507d3400f",
            "71e8cd5cb6f84eed9a973bc6d991f8e0",
            "61223e0e313442f0a8c7ddce3ebd113e",
            "61994ee2f73940ca935d87d97ae75ad9",
            "d770fb8616e343e4b302823f759c7a35",
            "820578e31d1f47d8bc586a84b85b8424",
            "4d6e8beba3de48de9c425599c1fe95d5",
            "686ab5d994be42efa22fe955a9f9529b",
            "536df6022d194eb18e8a6690d5e09217",
            "0d175a3f732c46409ef5967a52004b04",
            "c851ae566cd141b9940ca2e02b4f370e",
            "eb6448f0e2bf433c96b0c45b56178966",
            "39bb2400e5334ad69d4a1f639084e800",
            "c2d29b037c6546c795f612b677ba45d1",
            "7ff27a1304da40b88961c278c4a86e4a",
            "cec11886bea14348a748a73b2809f110",
            "ae15d2a8cb434bc4b2d68de9978a2536",
            "97e134e216fd4951babadabb8d41104f",
            "6da2c7201b3f4e00a2b33decca59fade",
            "1870fc1d3fd44e0188b4550fb7a5fd11",
            "2248c4e2499e421c955b8fa1e40811ec",
            "18bfbf202f4c4011a0d74054dc46d086",
            "406779cd1c064751aeac48e37362635c",
            "cfc17b9f3d5849259a6c9ec6853e2a60",
            "c61f152f3960418f9d2b07c5fb2e7bb3",
            "78aa3aadad0d439eae11731a503d4747",
            "ca95469563034d8a96053023d8680bbd",
            "3aac813e04fe479d8f00d58a8540dc3a",
            "f97522d616264cd0a9833f5208bf5834",
            "7f19975625c44077b6341afe564b12f7",
            "4b1374a10fa84dc4ab4e7b46fc18647e",
            "e2b6c8691bdd4bca8ddac179a4003e50",
            "1863b3e1d231476387b8dcf4c26e52bd",
            "0c7dcde261584a01b5f23e1ea0458602",
            "8e6f5a628a2e43b9a87924c9de496d61",
            "7be8abfc859e419da6d86353cc24c703",
            "bdf1326db104478a83adaadabd213bbd",
            "acd5bb58033441e7b159cb2af835b1ed",
            "d33e692b41714afcb89e1029ca5a02e0",
            "0898730eb6ab438385064a70101c5b93"
          ]
        },
        "id": "IkT6GO41-1pu",
        "outputId": "3fa2c1c7-e9c3-4133-8735-192ab13fd180"
      },
      "outputs": [
        {
          "name": "stderr",
          "output_type": "stream",
          "text": [
            "/usr/local/lib/python3.10/dist-packages/huggingface_hub/utils/_auth.py:94: UserWarning: \n",
            "The secret `HF_TOKEN` does not exist in your Colab secrets.\n",
            "To authenticate with the Hugging Face Hub, create a token in your settings tab (https://huggingface.co/settings/tokens), set it as secret in your Google Colab and restart your session.\n",
            "You will be able to reuse this secret in all of your notebooks.\n",
            "Please note that authentication is recommended but still optional to access public models or datasets.\n",
            "  warnings.warn(\n"
          ]
        },
        {
          "data": {
            "application/vnd.jupyter.widget-view+json": {
              "model_id": "eb3d4db38ef342b38d4a19ca9c2346ac",
              "version_major": 2,
              "version_minor": 0
            },
            "text/plain": [
              "config.json:   0%|          | 0.00/586 [00:00<?, ?B/s]"
            ]
          },
          "metadata": {},
          "output_type": "display_data"
        },
        {
          "data": {
            "application/vnd.jupyter.widget-view+json": {
              "model_id": "28bca65fd9a44684ba03b71453f45753",
              "version_major": 2,
              "version_minor": 0
            },
            "text/plain": [
              "pytorch_model.bin:   0%|          | 0.00/443M [00:00<?, ?B/s]"
            ]
          },
          "metadata": {},
          "output_type": "display_data"
        },
        {
          "data": {
            "application/vnd.jupyter.widget-view+json": {
              "model_id": "686ab5d994be42efa22fe955a9f9529b",
              "version_major": 2,
              "version_minor": 0
            },
            "text/plain": [
              "tokenizer_config.json:   0%|          | 0.00/119 [00:00<?, ?B/s]"
            ]
          },
          "metadata": {},
          "output_type": "display_data"
        },
        {
          "data": {
            "application/vnd.jupyter.widget-view+json": {
              "model_id": "6da2c7201b3f4e00a2b33decca59fade",
              "version_major": 2,
              "version_minor": 0
            },
            "text/plain": [
              "vocab.txt:   0%|          | 0.00/528k [00:00<?, ?B/s]"
            ]
          },
          "metadata": {},
          "output_type": "display_data"
        },
        {
          "data": {
            "application/vnd.jupyter.widget-view+json": {
              "model_id": "7f19975625c44077b6341afe564b12f7",
              "version_major": 2,
              "version_minor": 0
            },
            "text/plain": [
              "special_tokens_map.json:   0%|          | 0.00/112 [00:00<?, ?B/s]"
            ]
          },
          "metadata": {},
          "output_type": "display_data"
        },
        {
          "data": {
            "text/plain": [
              "ElectraForPreTraining(\n",
              "  (electra): ElectraModel(\n",
              "    (embeddings): ElectraEmbeddings(\n",
              "      (word_embeddings): Embedding(32000, 768, padding_idx=0)\n",
              "      (position_embeddings): Embedding(512, 768)\n",
              "      (token_type_embeddings): Embedding(2, 768)\n",
              "      (LayerNorm): LayerNorm((768,), eps=1e-12, elementwise_affine=True)\n",
              "      (dropout): Dropout(p=0.1, inplace=False)\n",
              "    )\n",
              "    (encoder): ElectraEncoder(\n",
              "      (layer): ModuleList(\n",
              "        (0-11): 12 x ElectraLayer(\n",
              "          (attention): ElectraAttention(\n",
              "            (self): ElectraSelfAttention(\n",
              "              (query): Linear(in_features=768, out_features=768, bias=True)\n",
              "              (key): Linear(in_features=768, out_features=768, bias=True)\n",
              "              (value): Linear(in_features=768, out_features=768, bias=True)\n",
              "              (dropout): Dropout(p=0.1, inplace=False)\n",
              "            )\n",
              "            (output): ElectraSelfOutput(\n",
              "              (dense): Linear(in_features=768, out_features=768, bias=True)\n",
              "              (LayerNorm): LayerNorm((768,), eps=1e-12, elementwise_affine=True)\n",
              "              (dropout): Dropout(p=0.1, inplace=False)\n",
              "            )\n",
              "          )\n",
              "          (intermediate): ElectraIntermediate(\n",
              "            (dense): Linear(in_features=768, out_features=3072, bias=True)\n",
              "            (intermediate_act_fn): GELUActivation()\n",
              "          )\n",
              "          (output): ElectraOutput(\n",
              "            (dense): Linear(in_features=3072, out_features=768, bias=True)\n",
              "            (LayerNorm): LayerNorm((768,), eps=1e-12, elementwise_affine=True)\n",
              "            (dropout): Dropout(p=0.1, inplace=False)\n",
              "          )\n",
              "        )\n",
              "      )\n",
              "    )\n",
              "  )\n",
              "  (discriminator_predictions): ElectraDiscriminatorPredictions(\n",
              "    (dense): Linear(in_features=768, out_features=768, bias=True)\n",
              "    (activation): GELUActivation()\n",
              "    (dense_prediction): Linear(in_features=768, out_features=1, bias=True)\n",
              "  )\n",
              ")"
            ]
          },
          "execution_count": 3,
          "metadata": {},
          "output_type": "execute_result"
        }
      ],
      "source": [
        "import random\n",
        "import pandas as pd\n",
        "import numpy as np\n",
        "import csv\n",
        "import tensorflow as tf\n",
        "import torch\n",
        "from sklearn.model_selection import train_test_split\n",
        "from google.colab import drive\n",
        "import textwrap\n",
        "import progressbar\n",
        "import keras\n",
        "from keras.preprocessing.sequence import pad_sequences\n",
        "from torch.utils.data import TensorDataset, DataLoader, RandomSampler, SequentialSampler\n",
        "from transformers import BertForSequenceClassification, AdamW, BertConfig\n",
        "from transformers import get_linear_schedule_with_warmup\n",
        "from transformers import ElectraModel, ElectraTokenizer, ElectraConfig, AutoModelWithLMHead, AutoTokenizer, AutoModel\n",
        "import time\n",
        "import datetime\n",
        "import json\n",
        "from transformers import AutoModelForPreTraining, AutoTokenizer\n",
        "from normalizer import normalize\n",
        "model = AutoModelForPreTraining.from_pretrained(\"csebuetnlp/banglabert\")\n",
        "tokenizer = AutoTokenizer.from_pretrained(\"csebuetnlp/banglabert\")\n",
        "model.to('cuda')"
      ]
    },
    {
      "cell_type": "code",
      "execution_count": 20,
      "metadata": {
        "colab": {
          "base_uri": "https://localhost:8080/"
        },
        "id": "XZpgzY1LqlXT",
        "outputId": "31f69e74-5b37-4d93-f7ef-04940737a2a3"
      },
      "outputs": [
        {
          "name": "stdout",
          "output_type": "stream",
          "text": [
            "Gender SEAT:\n",
            "0.49\n",
            "-0.01\n",
            "0.33\n",
            "1.07\n",
            "0.43\n",
            "0.49\n",
            "0.47\n",
            "0.38\n",
            "-0.22\n",
            "1.31\n",
            "\n",
            "Religion SEAT:\n",
            "0.42\n",
            "0.56\n",
            "0.23\n"
          ]
        }
      ],
      "source": [
        "for i in range(1,16,1):\n",
        "  if i==1:\n",
        "    print(\"\\nGender SEAT:\")\n",
        "  if i==13:\n",
        "    print(\"\\nReligion SEAT:\")\n",
        "  if i==11 or i==12:\n",
        "    continue\n",
        "  print('{0:.2f}'.format(seat_effect_size(X[i][\"list\"], Y[i][\"list\"], X[i][\"type\"], A[i][\"list\"], B[i][\"list\"], A[i][\"type\"], bangla_glove_300)))"
      ]
    },
    {
      "cell_type": "markdown",
      "metadata": {
        "id": "-SmXlDYUL8qx"
      },
      "source": [
        "## PCA Debiasing Word List"
      ]
    },
    {
      "cell_type": "code",
      "execution_count": null,
      "metadata": {
        "id": "wIhkz34Qx2zd"
      },
      "outputs": [],
      "source": [
        "listwise_gendered_PCA = [\"পিতা\", \"বাবা\", \"দেব\", \"লোক\", \"পুরুষ\", \"মাতা\", \"মা\", \"দেবী\", \"মহিলা\", \"নারী\"]\n",
        "\n",
        "pairwise_gendered_PCA_l1 = [\"পিতা\", \"বাবা\", \"দেব\", \"লোক\", \"পুরুষ\"]\n",
        "pairwise_gendered_PCA_l2 = [\"মাতা\", \"মা\", \"দেবী\", \"মহিলা\", \"নারী\"]\n",
        "\n",
        "\n",
        "pairwise_verbsan_PCA_l1 = [\"জানে\", \"বলে\", \"দেখে\", \"খায়\", \"চলে\", \"উড়ে\", \"জাগে\"]\n",
        "pairwise_verbsan_PCA_l2 = [\"জানেন\", \"বলেন\", \"দেখেন\", \"খান\", \"চলেন\", \"উড়েন\", \"জাগেন\"]\n",
        "\n",
        "pairwise_titlessan_PCA_l1 = [\"গায়ক\", \"লেখক\", \"প্রেমিক\", \"ছেলে\", \"শিক্ষক\"]\n",
        "pairwise_titlessan_PCA_l2 = [\"গায়িকা\", \"লেখিকা\", \"প্রেমিকা\", \"মেয়ে\", \"শিক্ষিকা\"]\n",
        "\n",
        "pairwise_adjsan_PCA_l1 = [\"দ্বিতীয়\", \"মোটা\", \"পাতলা\", \"গভীর\", \"দামী\"]\n",
        "pairwise_adjsan_PCA_l2 = [\"দ্বিতীয়া\", \"মোটা\", \"পাতলা\", \"গভীর\", \"দামী\"]\n",
        "\n",
        "listwise_entsan_PCA = [\"রাস্তা\", \"ব্যাগ\", \"চশমা\", \"যান\", \"গান\", \"কলা\", \"আপেল\", \"কমলা\", \"চেয়ার\", \"আঙুল\", \"গাড়ি\", \"বই\", \"ওষুধ\", \"কাঠ\", \"সবজি\", \"রুটি\"]\n",
        "\n",
        "listwise_caste_PCA = [\"দেশাই\", \"রায়\", \"পাঠক\", \"পণ্ডিত\", \"পুরোহিত\", \"কোল\", \"ধনুক\", \"মজহাবি\", \"মুশহর\", \"ঘাসিয়া\"]\n",
        "\n",
        "listwise_religion_lastnames_PCA = [\"রফিক\", \"মুস্তফা\", \"নাসির\", \"নওয়াজ\", \"কাশিম\", \"রেড্ডি\", \"আচার্য\", \"প্যাটেল\", \"আর্য\", \"কুমার\"]\n",
        "\n",
        "listwise_religion_PCA = [\"হজ\", \"ফতোয়া\", \"ইসলাম\", \"ঈদ\", \"ভক্ত\", \"স্বর্গ\", \"হিন্দুত্ব\", \"দীপাবলি\"]"
      ]
    },
    {
      "cell_type": "code",
      "execution_count": null,
      "metadata": {
        "id": "MtXIsuaGhOx3"
      },
      "outputs": [],
      "source": [
        "from sklearn.decomposition import PCA\n",
        "\n",
        "def do_pairwise_PCA(l1, l2, embedding, num_components = 10):\n",
        "    matrix = []\n",
        "    pairs = []\n",
        "    for i, element in enumerate(l1):\n",
        "      pairs.append([l1[i], l2[i]])\n",
        "\n",
        "    for a, b in pairs:\n",
        "        center = (embedding[a] + embedding[b])/2\n",
        "        matrix.append(embedding[a] - center)\n",
        "        matrix.append(embedding[b] - center)\n",
        "    matrix = np.array(matrix)\n",
        "    pca = PCA(n_components = num_components)\n",
        "    pca.fit(matrix)\n",
        "    return pca.components_[0]\n",
        "\n",
        "\n",
        "def do_listwise_PCA(list_words, embedding, num_components=10):\n",
        "  matrix = [embedding[word] for word in list_words]\n",
        "  matrix = np.array(matrix)\n",
        "  pca = PCA(n_components = num_components)\n",
        "  pca.fit(matrix)\n",
        "  return pca.components_[0]"
      ]
    },
    {
      "cell_type": "markdown",
      "metadata": {
        "id": "Agtd0fRKMCse"
      },
      "source": [
        "## Bias Direction"
      ]
    },
    {
      "cell_type": "code",
      "execution_count": null,
      "metadata": {
        "id": "IlWQBcTphjSw"
      },
      "outputs": [],
      "source": [
        "d_gender_listwise_50 = do_listwise_PCA(listwise_gendered_PCA, bangla_glove_50)\n",
        "d_gender_pairwise_50 = do_pairwise_PCA(pairwise_gendered_PCA_l1, pairwise_gendered_PCA_l2, bangla_glove_50)\n",
        "d_verbs_50 = do_pairwise_PCA(pairwise_verbsan_PCA_l1, pairwise_verbsan_PCA_l2, bangla_glove_50)\n",
        "d_adj_50 = do_pairwise_PCA(pairwise_adjsan_PCA_l1, pairwise_adjsan_PCA_l2, bangla_glove_50)\n",
        "d_titles_50 = do_pairwise_PCA(pairwise_titlessan_PCA_l1, pairwise_titlessan_PCA_l2, bangla_glove_50)\n",
        "d_ent_50 = do_listwise_PCA(listwise_entsan_PCA, bangla_glove_50)\n",
        "d_verbs_adj_50 = do_pairwise_PCA(pairwise_verbsan_PCA_l1 + pairwise_adjsan_PCA_l1, pairwise_verbsan_PCA_l2 + pairwise_adjsan_PCA_l2, bangla_glove_50)\n",
        "d_ent_titles_50 = do_listwise_PCA(pairwise_titlessan_PCA_l1 + pairwise_titlessan_PCA_l2 + listwise_entsan_PCA, bangla_glove_50)\n",
        "\n",
        "d_religion_50 = do_listwise_PCA(listwise_religion_lastnames_PCA, bangla_glove_50)\n",
        "d_religion_ent_50 = do_listwise_PCA(listwise_religion_PCA, bangla_glove_50, num_components=6)\n",
        "\n",
        "d_gender_listwise_300 = do_listwise_PCA(listwise_gendered_PCA, bangla_glove_300)\n",
        "d_gender_pairwise_300 = do_pairwise_PCA(pairwise_gendered_PCA_l1, pairwise_gendered_PCA_l2, bangla_glove_300)\n",
        "d_verbs_300 = do_pairwise_PCA(pairwise_verbsan_PCA_l1, pairwise_verbsan_PCA_l2, bangla_glove_300)\n",
        "d_adj_300 = do_pairwise_PCA(pairwise_adjsan_PCA_l1, pairwise_adjsan_PCA_l2, bangla_glove_300)\n",
        "d_titles_300 = do_pairwise_PCA(pairwise_titlessan_PCA_l1, pairwise_titlessan_PCA_l2, bangla_glove_300)\n",
        "d_ent_300 = do_listwise_PCA(listwise_entsan_PCA, bangla_glove_300)\n",
        "d_verbs_adj_300 = do_pairwise_PCA(pairwise_verbsan_PCA_l1 + pairwise_adjsan_PCA_l1, pairwise_verbsan_PCA_l2 + pairwise_adjsan_PCA_l2, bangla_glove_300)\n",
        "d_ent_titles_300 = do_listwise_PCA(pairwise_titlessan_PCA_l1 + pairwise_titlessan_PCA_l2 + listwise_entsan_PCA, bangla_glove_300)\n",
        "\n",
        "d_religion_300 = do_listwise_PCA(listwise_religion_lastnames_PCA, bangla_glove_300)\n",
        "d_religion_ent_300 = do_listwise_PCA(listwise_religion_PCA, bangla_glove_300, num_components=6)"
      ]
    },
    {
      "cell_type": "markdown",
      "metadata": {
        "id": "Fm56K0pnka3c"
      },
      "source": [
        "## Gender Debiasing\n"
      ]
    },
    {
      "cell_type": "code",
      "execution_count": null,
      "metadata": {
        "id": "18kQHpIMjV83"
      },
      "outputs": [],
      "source": [
        "def debiaser(word, embd):\n",
        "  global v\n",
        "  v = v/np.linalg.norm(v)\n",
        "  u = np.array(embd[word])\n",
        "  debiased_word = u - np.dot(u,v)*v\n",
        "  return debiased_word\n",
        "\n",
        "\n",
        "def debiaser_new(emb):\n",
        "  global v\n",
        "  v = v/np.linalg.norm(v)\n",
        "  debiased_word = emb - np.dot(emb,v)*v\n",
        "  return debiased_word"
      ]
    },
    {
      "cell_type": "markdown",
      "metadata": {
        "id": "KldyHSsH05kp"
      },
      "source": [
        "### PCA Debiasing WEAT Result"
      ]
    },
    {
      "cell_type": "markdown",
      "metadata": {
        "id": "YIYZ_ubr2uJc"
      },
      "source": [
        "## Gender GloVe 50"
      ]
    },
    {
      "cell_type": "code",
      "execution_count": 5,
      "metadata": {
        "colab": {
          "base_uri": "https://localhost:8080/"
        },
        "id": "cqeGf-oU3pqI",
        "outputId": "faabd191-f6df-4e78-926d-3441f9cea158"
      },
      "outputs": [
        {
          "name": "stdout",
          "output_type": "stream",
          "text": [
            "Gender debiased with listwise gendered words\n",
            "0.63 (0.13)\n",
            "0.70 (0.09)\n",
            "1.14 (0.01)\n",
            "1.58 (0.00)\n",
            "1.37 (0.00)\n",
            "1.41 (0.00)\n",
            "1.75 (0.00)\n",
            "1.41 (0.00)\n",
            "0.94 (0.03)\n",
            "1.86 (0.00)\n",
            "\n",
            "Gender debiased with pairwise gendered words\n",
            "0.17 (0.38)\n",
            "0.74 (0.07)\n",
            "1.17 (0.01)\n",
            "1.49 (0.00)\n",
            "1.06 (0.02)\n",
            "1.02 (0.04)\n",
            "1.50 (0.00)\n",
            "1.43 (0.00)\n",
            "1.21 (0.01)\n",
            "1.89 (0.00)\n",
            "\n",
            "Gender debiased with pairwise verbs\n",
            "0.06 (0.45)\n",
            "1.30 (0.00)\n",
            "1.35 (0.00)\n",
            "1.60 (0.00)\n",
            "1.11 (0.01)\n",
            "1.67 (0.00)\n",
            "0.88 (0.05)\n",
            "-0.48 (0.82)\n",
            "0.15 (0.38)\n",
            "1.78 (0.00)\n",
            "\n",
            "Gender debiased with pairwise adjectives\n",
            "0.20 (0.37)\n",
            "1.48 (0.00)\n",
            "1.49 (0.00)\n",
            "1.52 (0.00)\n",
            "1.19 (0.01)\n",
            "1.54 (0.00)\n",
            "1.48 (0.00)\n",
            "0.24 (0.32)\n",
            "0.28 (0.28)\n",
            "1.83 (0.00)\n",
            "\n",
            "Gender debiased with pairwise titles\n",
            "-0.29 (0.69)\n",
            "1.33 (0.00)\n",
            "1.02 (0.02)\n",
            "0.67 (0.09)\n",
            "0.41 (0.21)\n",
            "1.46 (0.00)\n",
            "1.23 (0.00)\n",
            "1.59 (0.00)\n",
            "1.43 (0.00)\n",
            "-0.14 (0.59)\n",
            "\n",
            "Gender debiased with listwise entities\n",
            "0.19 (0.35)\n",
            "1.20 (0.01)\n",
            "1.42 (0.00)\n",
            "1.55 (0.00)\n",
            "1.40 (0.00)\n",
            "1.66 (0.00)\n",
            "1.85 (0.00)\n",
            "1.61 (0.00)\n",
            "1.13 (0.01)\n",
            "1.85 (0.00)\n",
            "\n"
          ]
        }
      ],
      "source": [
        "def run_deb(l,r):\n",
        "  for i in range(l,r,1):\n",
        "    print('{0:.2f} ({1:.2f})'.format(weat_effect_size(X[i][\"list\"], Y[i][\"list\"], A[i][\"list\"], B[i][\"list\"], bangla_glove_50, debiased_weat=True), weat_p_value(X[i][\"list\"], Y[i][\"list\"], A[i][\"list\"], B[i][\"list\"], bangla_glove_50, 1000, debiased_weat=True)))\n",
        "\n",
        "print(\"\\nGender debiased with listwise gendered words\")\n",
        "v = d_gender_listwise_50\n",
        "run_deb(1,11)\n",
        "\n",
        "print(\"\\nGender debiased with pairwise gendered words\")\n",
        "v = d_gender_pairwise_50\n",
        "run_deb(1,11)\n",
        "\n",
        "print(\"\\nGender debiased with pairwise verbs\")\n",
        "v = d_verbs_50\n",
        "run_deb(1,11)\n",
        "\n",
        "print(\"\\nGender debiased with pairwise adjectives\")\n",
        "v = d_adj_50\n",
        "run_deb(1,11)\n",
        "\n",
        "print(\"\\nGender debiased with pairwise titles\")\n",
        "v = d_titles_50\n",
        "run_deb(1,11)\n",
        "\n",
        "print(\"\\nGender debiased with listwise entities\")\n",
        "v = d_ent_50\n",
        "run_deb(1,11)"
      ]
    },
    {
      "cell_type": "code",
      "execution_count": 1,
      "metadata": {
        "colab": {
          "base_uri": "https://localhost:8080/"
        },
        "id": "4Ma7hexTRMF_",
        "outputId": "c5c3cff4-de4c-426e-cf2d-2bbbb4ed5b92"
      },
      "outputs": [
        {
          "name": "stdout",
          "output_type": "stream",
          "text": [
            "Gender debiased with listwise gendered words\n",
            "0.54 (0.18)\n",
            "0.72 (0.08)\n",
            "0.65 (0.09)\n",
            "1.63 (0.00)\n",
            "1.71 (0.00)\n",
            "0.91 (0.05)\n",
            "1.84 (0.00)\n",
            "1.63 (0.00)\n",
            "0.95 (0.02)\n",
            "1.93 (0.00)\n",
            "\n",
            "Gender debiased with pairwise gendered words\n",
            "0.36 (0.26)\n",
            "0.77 (0.06)\n",
            "0.00 (0.49)\n",
            "1.45 (0.00)\n",
            "1.49 (0.00)\n",
            "0.82 (0.08)\n",
            "1.79 (0.00)\n",
            "1.66 (0.00)\n",
            "1.00 (0.02)\n",
            "1.90 (0.00)\n",
            "\n",
            "Gender debiased with pairwise verbs\n",
            "0.37 (0.24)\n",
            "0.61 (0.12)\n",
            "1.14 (0.02)\n",
            "1.61 (0.00)\n",
            "1.58 (0.00)\n",
            "1.04 (0.03)\n",
            "1.29 (0.01)\n",
            "1.21 (0.00)\n",
            "0.60 (0.12)\n",
            "1.90 (0.00)\n",
            "\n",
            "Gender debiased with pairwise adjectives\n",
            "0.47 (0.20)\n",
            "1.35 (0.00)\n",
            "1.28 (0.01)\n",
            "1.68 (0.00)\n",
            "1.69 (0.00)\n",
            "1.03 (0.03)\n",
            "1.76 (0.00)\n",
            "0.83 (0.06)\n",
            "0.67 (0.10)\n",
            "1.93 (0.00)\n",
            "\n",
            "Gender debiased with pairwise titles\n",
            "0.09 (0.44)\n",
            "1.05 (0.02)\n",
            "0.70 (0.09)\n",
            "1.05 (0.02)\n",
            "0.97 (0.02)\n",
            "0.87 (0.07)\n",
            "1.53 (0.00)\n",
            "1.69 (0.00)\n",
            "1.11 (0.01)\n",
            "1.11 (0.01)\n",
            "\n",
            "Gender debiased with listwise entities\n",
            "0.49 (0.18)\n",
            "1.21 (0.01)\n",
            "1.17 (0.01)\n",
            "1.62 (0.00)\n",
            "1.73 (0.00)\n",
            "1.26 (0.01)\n",
            "1.88 (0.00)\n",
            "1.71 (0.00)\n",
            "1.17 (0.01)\n",
            "1.92 (0.00)\n",
            "\n"
          ]
        }
      ],
      "source": [
        "def run_deb(l,r):\n",
        "  for i in range(l,r,1):\n",
        "    print('{0:.2f} ({1:.2f})'.format(weat_effect_size(X[i][\"list\"], Y[i][\"list\"], A[i][\"list\"], B[i][\"list\"], bangla_glove_300, debiased_weat=True), weat_p_value(X[i][\"list\"], Y[i][\"list\"], A[i][\"list\"], B[i][\"list\"], bangla_glove_300, 1000, debiased_weat=True)))\n",
        "\n",
        "print(\"\\nGender debiased with listwise gendered words\")\n",
        "v = d_gender_listwise_300\n",
        "run_deb(1,11)\n",
        "\n",
        "print(\"\\nGender debiased with pairwise gendered words\")\n",
        "v = d_gender_pairwise_300\n",
        "run_deb(1,11)\n",
        "\n",
        "print(\"\\nGender debiased with pairwise verbs\")\n",
        "v = d_verbs_300\n",
        "run_deb(1,11)\n",
        "\n",
        "print(\"\\nGender debiased with pairwise adjectives\")\n",
        "v = d_adj_300\n",
        "run_deb(1,11)\n",
        "\n",
        "print(\"\\nGender debiased with pairwise titles\")\n",
        "v = d_titles_300\n",
        "run_deb(1,11)\n",
        "\n",
        "print(\"\\nGender debiased with listwise entities\")\n",
        "v = d_ent_300\n",
        "run_deb(1,11)"
      ]
    },
    {
      "cell_type": "markdown",
      "metadata": {
        "id": "K3Ado3L91Ajo"
      },
      "source": [
        "### Zhou Debiasing WEAT Result"
      ]
    },
    {
      "cell_type": "code",
      "execution_count": 2,
      "metadata": {
        "colab": {
          "base_uri": "https://localhost:8080/"
        },
        "id": "2XfVhTOXSKDO",
        "outputId": "54c7567e-7060-4b64-ec88-f8c9fab0a1e1"
      },
      "outputs": [
        {
          "name": "stdout",
          "output_type": "stream",
          "text": [
            "Gender debiased with Zhou (subtracting verbs direction from semantic gender)\n",
            "0.23 (0.36)\n",
            "0.98 (0.03)\n",
            "1.27 (0.00)\n",
            "1.48 (0.00)\n",
            "1.18 (0.01)\n",
            "1.27 (0.01)\n",
            "1.71 (0.00)\n",
            "1.59 (0.00)\n",
            "1.37 (0.00)\n",
            "1.88 (0.00)\n",
            "\n",
            "Gender debiased with Zhou (subtracting adjectives direction from semantic gender)\n",
            "0.20 (0.33)\n",
            "0.80 (0.07)\n",
            "1.14 (0.01)\n",
            "1.52 (0.00)\n",
            "1.15 (0.01)\n",
            "1.23 (0.01)\n",
            "1.70 (0.00)\n",
            "1.65 (0.00)\n",
            "1.43 (0.00)\n",
            "1.88 (0.00)\n",
            "\n",
            "Gender debiased with Zhou (subtracting entities direction from semantic gender)\n",
            "0.17 (0.36)\n",
            "0.77 (0.09)\n",
            "1.17 (0.00)\n",
            "1.49 (0.00)\n",
            "1.06 (0.02)\n",
            "1.02 (0.03)\n",
            "1.51 (0.00)\n",
            "1.44 (0.00)\n",
            "1.21 (0.00)\n",
            "1.89 (0.00)\n",
            "\n",
            "Gender debiased with Zhou (subtracting titles direction from semantic gender)\n",
            "0.25 (0.33)\n",
            "1.03 (0.01)\n",
            "1.33 (0.00)\n",
            "1.50 (0.00)\n",
            "1.42 (0.00)\n",
            "1.48 (0.00)\n",
            "1.74 (0.00)\n",
            "1.54 (0.00)\n",
            "1.17 (0.01)\n",
            "1.89 (0.00)\n",
            "\n",
            "Gender debiased with Zhou (subtracting verbs and adjectives direction from semantic gender)\n",
            "0.23 (0.33)\n",
            "1.00 (0.03)\n",
            "1.27 (0.00)\n",
            "1.48 (0.00)\n",
            "1.18 (0.01)\n",
            "1.27 (0.01)\n",
            "1.72 (0.00)\n",
            "1.59 (0.00)\n",
            "1.37 (0.00)\n",
            "1.88 (0.00)\n",
            "\n",
            "Gender debiased with Zhou (subtracting verbs+adj and ent_titles direction from semantic gender)\n",
            "0.22 (0.34)\n",
            "1.14 (0.01)\n",
            "1.34 (0.00)\n",
            "1.48 (0.00)\n",
            "1.17 (0.01)\n",
            "1.23 (0.01)\n",
            "1.71 (0.00)\n",
            "1.64 (0.00)\n",
            "1.42 (0.00)\n",
            "1.88 (0.00)\n",
            "\n"
          ]
        }
      ],
      "source": [
        "def run_deb(l,r):\n",
        "  for i in range(l,r,1):\n",
        "    print('{0:.2f} ({1:.2f})'.format(weat_effect_size(X[i][\"list\"], Y[i][\"list\"], A[i][\"list\"], B[i][\"list\"], bangla_glove_50, debiased_weat=True), weat_p_value(X[i][\"list\"], Y[i][\"list\"], A[i][\"list\"], B[i][\"list\"], bangla_glove_50, 1000, debiased_weat=True)))\n",
        "\n",
        "v = d_gender_pairwise_50 - np.dot(d_gender_pairwise_50, d_verbs_50)*d_verbs_50\n",
        "print(\"\\nGender debiased with Zhou (subtracting verbs direction from semantic gender):\")\n",
        "run_deb(1,11)\n",
        "\n",
        "v = d_gender_pairwise_50 - np.dot(d_gender_pairwise_50, d_adj_50)*d_adj_50\n",
        "print(\"\\nGender debiased with Zhou (subtracting adjectives direction from semantic gender):\")\n",
        "run_deb(1,11)\n",
        "\n",
        "v = d_gender_pairwise_50 - np.dot(d_gender_pairwise_50, d_ent_50)*d_ent_50\n",
        "print(\"\\nGender debiased with Zhou (subtracting entities direction from semantic gender):\")\n",
        "run_deb(1,11)\n",
        "\n",
        "v = d_gender_pairwise_50 - np.dot(d_gender_pairwise_50, d_titles_50)*d_titles_50\n",
        "print(\"\\nGender debiased with Zhou (subtracting titles direction from semantic gender):\")\n",
        "run_deb(1,11)\n",
        "\n",
        "v = d_gender_pairwise_50 - np.dot(d_gender_pairwise_50, d_ent_50)*d_ent_50 - np.dot(d_gender_pairwise_50, d_verbs_50)*d_verbs_50\n",
        "print(\"\\nGender debiased with Zhou (subtracting verbs and adjectives direction from semantic gender):\")\n",
        "run_deb(1,11)\n",
        "\n",
        "v = d_gender_pairwise_50 - np.dot(d_gender_pairwise_50, d_verbs_adj_50)*d_verbs_adj_50 - np.dot(d_gender_pairwise_50, d_ent_titles_50)*d_ent_titles_50\n",
        "print(\"\\nGender debiased with Zhou (subtracting verbs+adj and ent_titles direction from semantic gender):\")\n",
        "run_deb(1,11)"
      ]
    },
    {
      "cell_type": "code",
      "execution_count": 3,
      "metadata": {
        "colab": {
          "base_uri": "https://localhost:8080/"
        },
        "id": "Y2S_44gOSr-J",
        "outputId": "3e2ad001-541d-4dca-ae1e-e07aabd74c57"
      },
      "outputs": [
        {
          "name": "stdout",
          "output_type": "stream",
          "text": [
            "Gender debiased with Zhou (subtracting verbs direction from semantic gender):\n",
            "0.41 (0.24)\n",
            "0.99 (0.02)\n",
            "0.27 (0.33)\n",
            "1.51 (0.00)\n",
            "1.59 (0.00)\n",
            "0.96 (0.03)\n",
            "1.85 (0.00)\n",
            "1.72 (0.00)\n",
            "1.14 (0.01)\n",
            "1.92 (0.00)\n",
            "\n",
            "Gender debiased with Zhou (subtracting adjectives direction from semantic gender):\n",
            "0.37 (0.26)\n",
            "0.74 (0.07)\n",
            "-0.01 (0.50)\n",
            "1.46 (0.00)\n",
            "1.52 (0.00)\n",
            "0.92 (0.05)\n",
            "1.82 (0.00)\n",
            "1.73 (0.00)\n",
            "1.10 (0.01)\n",
            "1.90 (0.00)\n",
            "\n",
            "Gender debiased with Zhou (subtracting entities direction from semantic gender):\n",
            "0.36 (0.24)\n",
            "0.70 (0.09)\n",
            "-0.03 (0.52)\n",
            "1.45 (0.00)\n",
            "1.50 (0.00)\n",
            "0.80 (0.09)\n",
            "1.79 (0.00)\n",
            "1.65 (0.00)\n",
            "0.98 (0.02)\n",
            "1.90 (0.00)\n",
            "\n",
            "Gender debiased with Zhou (subtracting titles direction from semantic gender):\n",
            "0.47 (0.22)\n",
            "0.91 (0.03)\n",
            "0.50 (0.18)\n",
            "1.56 (0.00)\n",
            "1.69 (0.00)\n",
            "1.05 (0.03)\n",
            "1.85 (0.00)\n",
            "1.66 (0.00)\n",
            "1.06 (0.01)\n",
            "1.93 (0.00)\n",
            "\n",
            "Gender debiased with Zhou (subtracting verbs and adjectives direction from semantic gender):\n",
            "0.41 (0.22)\n",
            "0.95 (0.03)\n",
            "0.24 (0.28)\n",
            "1.51 (0.00)\n",
            "1.59 (0.00)\n",
            "0.94 (0.05)\n",
            "1.85 (0.00)\n",
            "1.71 (0.00)\n",
            "1.13 (0.01)\n",
            "1.92 (0.00)\n",
            "\n",
            "Gender debiased with Zhou (subtracting verbs+adj and ent_titles direction from semantic gender):\n",
            "0.40 (0.20)\n",
            "1.04 (0.02)\n",
            "0.41 (0.21)\n",
            "1.48 (0.00)\n",
            "1.59 (0.00)\n",
            "0.94 (0.05)\n",
            "1.85 (0.00)\n",
            "1.75 (0.00)\n",
            "1.18 (0.01)\n",
            "1.91 (0.00)\n",
            "\n"
          ]
        }
      ],
      "source": [
        "def run_deb(l,r):\n",
        "  for i in range(l,r,1):\n",
        "    print('{0:.2f} ({1:.2f})'.format(weat_effect_size(X[i][\"list\"], Y[i][\"list\"], A[i][\"list\"], B[i][\"list\"], bangla_glove_300, debiased_weat=True), weat_p_value(X[i][\"list\"], Y[i][\"list\"], A[i][\"list\"], B[i][\"list\"], bangla_glove_300, 1000, debiased_weat=True)))\n",
        "\n",
        "v = d_gender_pairwise_300 - np.dot(d_gender_pairwise_300, d_verbs_300)*d_verbs_300\n",
        "print(\"\\nGender debiased with Zhou (subtracting verbs direction from semantic gender):\")\n",
        "run_deb(1,11)\n",
        "\n",
        "v = d_gender_pairwise_300 - np.dot(d_gender_pairwise_300, d_adj_300)*d_adj_300\n",
        "print(\"\\nGender debiased with Zhou (subtracting adjectives direction from semantic gender):\")\n",
        "run_deb(1,11)\n",
        "\n",
        "v = d_gender_pairwise_300 - np.dot(d_gender_pairwise_300, d_ent_300)*d_ent_300\n",
        "print(\"\\nGender debiased with Zhou (subtracting entities direction from semantic gender):\")\n",
        "run_deb(1,11)\n",
        "\n",
        "v = d_gender_pairwise_300 - np.dot(d_gender_pairwise_300, d_titles_300)*d_titles_300\n",
        "print(\"\\nGender debiased with Zhou (subtracting titles direction from semantic gender):\")\n",
        "run_deb(1,11)\n",
        "\n",
        "v = d_gender_pairwise_300 - np.dot(d_gender_pairwise_300, d_ent_300)*d_ent_300 - np.dot(d_gender_pairwise_300, d_verbs_300)*d_verbs_300\n",
        "print(\"\\nGender debiased with Zhou (subtracting verbs and adjectives direction from semantic gender):\")\n",
        "run_deb(1,11)\n",
        "\n",
        "v = d_gender_pairwise_300 - np.dot(d_gender_pairwise_300, d_verbs_adj_300)*d_verbs_adj_300 - np.dot(d_gender_pairwise_300, d_ent_titles_300)*d_ent_titles_300\n",
        "print(\"\\nGender debiased with Zhou (subtracting verbs+adj and ent_titles direction from semantic gender):\")\n",
        "run_deb(1,11)"
      ]
    },
    {
      "cell_type": "markdown",
      "metadata": {
        "id": "-EqBcylE1FW6"
      },
      "source": [
        "### Linear Projection Debiasing WEAT Result"
      ]
    },
    {
      "cell_type": "markdown",
      "metadata": {
        "id": "8-SlVDy7TMjQ"
      },
      "source": [
        "## GloVe 50"
      ]
    },
    {
      "cell_type": "code",
      "execution_count": 5,
      "metadata": {
        "colab": {
          "base_uri": "https://localhost:8080/"
        },
        "id": "s6Z7w6pLT0bX",
        "outputId": "7ec8bb6c-ff5c-4d18-92ff-a58088efce32"
      },
      "outputs": [
        {
          "name": "stdout",
          "output_type": "stream",
          "text": [
            "Gender debiased with Linear Direction (naari-purush):\n",
            "0.26 (0.34)\n",
            "0.60 (0.14)\n",
            "0.97 (0.02)\n",
            "1.48 (0.00)\n",
            "1.27 (0.00)\n",
            "1.48 (0.00)\n",
            "1.85 (0.00)\n",
            "1.54 (0.00)\n",
            "1.08 (0.01)\n",
            "1.85 (0.00)\n",
            "\n",
            "Gender debiased with Linear Direction (ma-baba):\n",
            "0.18 (0.35)\n",
            "1.39 (0.00)\n",
            "1.46 (0.00)\n",
            "1.61 (0.00)\n",
            "1.29 (0.00)\n",
            "1.53 (0.00)\n",
            "1.84 (0.00)\n",
            "1.71 (0.00)\n",
            "1.13 (0.01)\n",
            "1.78 (0.00)\n",
            "\n"
          ]
        }
      ],
      "source": [
        "def run_deb(l,r):\n",
        "  for i in range(l,r,1):\n",
        "    print('{0:.2f} ({1:.2f})'.format(weat_effect_size(X[i][\"list\"], Y[i][\"list\"], A[i][\"list\"], B[i][\"list\"], bangla_glove_50, debiased_weat=True), weat_p_value(X[i][\"list\"], Y[i][\"list\"], A[i][\"list\"], B[i][\"list\"], bangla_glove_50, 1000, debiased_weat=True)))\n",
        "\n",
        "v = np.array(bangla_glove_50[\"নারী\"]) - np.array(bangla_glove_50[\"পুরুষ\"])\n",
        "print(\"\\nGender debiased with Linear Direction (naari-purush):\")\n",
        "run_deb(1,11)\n",
        "\n",
        "v = np.array(bangla_glove_50[\"মা\"]) - np.array(bangla_glove_50[\"বাবা\"])\n",
        "print(\"\\nGender debiased with Linear Direction (ma-baba):\")\n",
        "run_deb(1,11)"
      ]
    },
    {
      "cell_type": "markdown",
      "metadata": {
        "id": "GbKWStngUCWa"
      },
      "source": [
        "## GloVe 300"
      ]
    },
    {
      "cell_type": "code",
      "execution_count": 7,
      "metadata": {
        "colab": {
          "base_uri": "https://localhost:8080/"
        },
        "id": "ewsDfDATUsgo",
        "outputId": "388198da-9fba-4e1f-f303-0c53f5f17174"
      },
      "outputs": [
        {
          "name": "stdout",
          "output_type": "stream",
          "text": [
            "Gender debiased with Linear Direction (naari-purush):\n",
            "0.49 (0.19)\n",
            "0.44 (0.20)\n",
            "0.50 (0.17)\n",
            "1.60 (0.00)\n",
            "1.68 (0.00)\n",
            "0.96 (0.06)\n",
            "1.87 (0.00)\n",
            "1.63 (0.00)\n",
            "1.01 (0.02)\n",
            "1.91 (0.00)\n",
            "\n",
            "Gender debiased with Linear Direction (ma-baba):\n",
            "0.50 (0.17)\n",
            "1.34 (0.00)\n",
            "1.19 (0.01)\n",
            "1.63 (0.00)\n",
            "1.69 (0.00)\n",
            "1.05 (0.03)\n",
            "1.86 (0.00)\n",
            "1.72 (0.00)\n",
            "1.14 (0.01)\n",
            "1.91 (0.00)\n",
            "\n"
          ]
        }
      ],
      "source": [
        "def run_deb(l,r):\n",
        "  for i in range(l,r,1):\n",
        "    print('{0:.2f} ({1:.2f})'.format(weat_effect_size(X[i][\"list\"], Y[i][\"list\"], A[i][\"list\"], B[i][\"list\"], bangla_glove_300, debiased_weat=True), weat_p_value(X[i][\"list\"], Y[i][\"list\"], A[i][\"list\"], B[i][\"list\"], bangla_glove_300, 1000, debiased_weat=True)))\n",
        "\n",
        "v = np.array(bangla_glove_300[\"নারী\"]) - np.array(bangla_glove_300[\"পুরুষ\"])\n",
        "print(\"\\nGender debiased with Linear Direction (naari-purush):\")\n",
        "run_deb(1,11)\n",
        "\n",
        "v = np.array(bangla_glove_300[\"মা\"]) - np.array(bangla_glove_300[\"বাবা\"])\n",
        "print(\"\\nGender debiased with Linear Direction (ma-baba):\")\n",
        "run_deb(1,11)"
      ]
    },
    {
      "cell_type": "markdown",
      "metadata": {
        "id": "HtLonDLH3J8u"
      },
      "source": [
        "### PCA Debiasing SEAT Result"
      ]
    },
    {
      "cell_type": "code",
      "execution_count": 8,
      "metadata": {
        "colab": {
          "base_uri": "https://localhost:8080/"
        },
        "id": "abancA7FVPSQ",
        "outputId": "76839a4a-29fd-4683-9896-5a7b6cbb8928"
      },
      "outputs": [
        {
          "name": "stdout",
          "output_type": "stream",
          "text": [
            "Gender debiased with listwise gendered words\n",
            "0.23 (0.11)\n",
            "0.99 (0.00)\n",
            "1.17 (0.00)\n",
            "1.55 (0.00)\n",
            "1.31 (0.00)\n",
            "1.39 (0.00)\n",
            "1.79 (0.00)\n",
            "1.45 (0.00)\n",
            "1.02 (0.00)\n",
            "1.78 (0.00)\n",
            "\n",
            "Gender debiased with pairwise gendered words\n",
            "-0.03 (0.56)\n",
            "0.89 (0.00)\n",
            "1.06 (0.00)\n",
            "1.46 (0.00)\n",
            "0.84 (0.00)\n",
            "1.04 (0.00)\n",
            "1.45 (0.00)\n",
            "1.40 (0.00)\n",
            "1.21 (0.00)\n",
            "1.60 (0.00)\n",
            "\n",
            "Gender debiased with pairwise verbs\n",
            "-0.09 (0.67)\n",
            "1.22 (0.00)\n",
            "1.28 (0.00)\n",
            "1.34 (0.00)\n",
            "1.00 (0.00)\n",
            "1.41 (0.00)\n",
            "0.66 (0.00)\n",
            "-0.29 (0.90)\n",
            "0.19 (0.11)\n",
            "1.65 (0.00)\n",
            "\n",
            "Gender debiased with pairwise adjectives\n",
            "-0.01 (0.53)\n",
            "1.55 (0.00)\n",
            "1.51 (0.00)\n",
            "1.37 (0.00)\n",
            "1.01 (0.00)\n",
            "1.50 (0.00)\n",
            "1.41 (0.00)\n",
            "0.22 (0.20)\n",
            "0.41 (0.00)\n",
            "1.74 (0.00)\n",
            "\n",
            "Gender debiased with pairwise titles\n",
            "-0.43 (0.99)\n",
            "1.16 (0.00)\n",
            "0.77 (0.00)\n",
            "0.75 (0.00)\n",
            "0.37 (0.02)\n",
            "1.19 (0.00)\n",
            "1.33 (0.00)\n",
            "1.59 (0.00)\n",
            "1.18 (0.00)\n",
            "0.02 (0.45)\n",
            "\n",
            "Gender debiased with listwise entities\n",
            "-0.01 (0.56)\n",
            "1.30 (0.00)\n",
            "1.43 (0.00)\n",
            "1.44 (0.00)\n",
            "1.21 (0.00)\n",
            "1.67 (0.00)\n",
            "1.88 (0.00)\n",
            "1.63 (0.00)\n",
            "1.17 (0.00)\n",
            "1.80 (0.00)\n",
            "\n"
          ]
        }
      ],
      "source": [
        "def run_deb(l,r):\n",
        "  for i in range(l,r,1):\n",
        "    print('{0:.2f} ({1:.2f})'.format(seat_effect_size(X[i][\"list\"], Y[i][\"list\"], X[i][\"type\"], A[i][\"list\"], B[i][\"list\"], A[i][\"type\"], bangla_glove_50, debiased_weat=True), seat_p_value(X[i][\"list\"], Y[i][\"list\"], X[i][\"type\"], A[i][\"list\"], B[i][\"list\"], A[i][\"type\"], bangla_glove_50, sample=1000, debiased_weat=True)))\n",
        "\n",
        "print(\"\\nGender debiased with listwise gendered words\")\n",
        "v = d_gender_listwise_50\n",
        "run_deb(1,11)\n",
        "\n",
        "print(\"\\nGender debiased with pairwise gendered words\")\n",
        "v = d_gender_pairwise_50\n",
        "run_deb(1,11)\n",
        "\n",
        "print(\"\\nGender debiased with pairwise verbs\")\n",
        "v = d_verbs_50\n",
        "run_deb(1,11)\n",
        "\n",
        "print(\"\\nGender debiased with pairwise adjectives\")\n",
        "v = d_adj_50\n",
        "run_deb(1,11)\n",
        "\n",
        "print(\"\\nGender debiased with pairwise titles\")\n",
        "v = d_titles_50\n",
        "run_deb(1,11)\n",
        "\n",
        "print(\"\\nGender debiased with listwise entities\")\n",
        "v = d_ent_50\n",
        "run_deb(1,11)"
      ]
    },
    {
      "cell_type": "code",
      "execution_count": 9,
      "metadata": {
        "colab": {
          "base_uri": "https://localhost:8080/"
        },
        "id": "U_jPNnsTVv5E",
        "outputId": "e49b172f-d4fe-429b-eab8-76864d70cc02"
      },
      "outputs": [
        {
          "name": "stdout",
          "output_type": "stream",
          "text": [
            "Gender debiased with listwise gendered words\n",
            "0.16 (0.19)\n",
            "0.90 (0.00)\n",
            "0.66 (0.00)\n",
            "1.50 (0.00)\n",
            "1.52 (0.00)\n",
            "0.97 (0.00)\n",
            "1.81 (0.00)\n",
            "1.59 (0.00)\n",
            "0.97 (0.00)\n",
            "1.88 (0.00)\n",
            "\n",
            "Gender debiased with pairwise gendered words\n",
            "0.06 (0.38)\n",
            "0.78 (0.00)\n",
            "0.07 (0.33)\n",
            "1.21 (0.00)\n",
            "1.17 (0.00)\n",
            "0.80 (0.00)\n",
            "1.67 (0.00)\n",
            "1.54 (0.00)\n",
            "0.99 (0.00)\n",
            "1.75 (0.00)\n",
            "\n",
            "Gender debiased with pairwise verbs\n",
            "0.03 (0.44)\n",
            "0.56 (0.00)\n",
            "0.80 (0.00)\n",
            "1.42 (0.00)\n",
            "1.38 (0.00)\n",
            "0.85 (0.00)\n",
            "1.02 (0.00)\n",
            "1.00 (0.00)\n",
            "0.57 (0.00)\n",
            "1.78 (0.00)\n",
            "\n",
            "Gender debiased with pairwise adjectives\n",
            "0.14 (0.23)\n",
            "1.32 (0.00)\n",
            "1.17 (0.00)\n",
            "1.50 (0.00)\n",
            "1.49 (0.00)\n",
            "1.00 (0.00)\n",
            "1.69 (0.00)\n",
            "0.74 (0.00)\n",
            "0.68 (0.00)\n",
            "1.86 (0.00)\n",
            "\n",
            "Gender debiased with pairwise titles\n",
            "-0.21 (0.87)\n",
            "0.86 (0.00)\n",
            "0.52 (0.00)\n",
            "1.08 (0.00)\n",
            "0.80 (0.00)\n",
            "0.72 (0.01)\n",
            "1.46 (0.00)\n",
            "1.64 (0.00)\n",
            "0.99 (0.00)\n",
            "0.90 (0.00)\n",
            "\n",
            "Gender debiased with listwise entities\n",
            "0.14 (0.21)\n",
            "1.17 (0.00)\n",
            "1.05 (0.00)\n",
            "1.47 (0.00)\n",
            "1.53 (0.00)\n",
            "1.20 (0.00)\n",
            "1.84 (0.00)\n",
            "1.64 (0.00)\n",
            "1.14 (0.00)\n",
            "1.86 (0.00)\n",
            "\n"
          ]
        }
      ],
      "source": [
        "def run_deb(l,r):\n",
        "  for i in range(l,r,1):\n",
        "    print('{0:.2f} ({1:.2f})'.format(seat_effect_size(X[i][\"list\"], Y[i][\"list\"], X[i][\"type\"], A[i][\"list\"], B[i][\"list\"], A[i][\"type\"], bangla_glove_300, debiased_weat=True), seat_p_value(X[i][\"list\"], Y[i][\"list\"], X[i][\"type\"], A[i][\"list\"], B[i][\"list\"], A[i][\"type\"], bangla_glove_300, sample=1000, debiased_weat=True)))\n",
        "\n",
        "print(\"\\nGender debiased with listwise gendered words\")\n",
        "v = d_gender_listwise_300\n",
        "run_deb(1,11)\n",
        "\n",
        "print(\"\\nGender debiased with pairwise gendered words\")\n",
        "v = d_gender_pairwise_300\n",
        "run_deb(1,11)\n",
        "\n",
        "print(\"\\nGender debiased with pairwise verbs\")\n",
        "v = d_verbs_300\n",
        "run_deb(1,11)\n",
        "\n",
        "print(\"\\nGender debiased with pairwise adjectives\")\n",
        "v = d_adj_300\n",
        "run_deb(1,11)\n",
        "\n",
        "print(\"\\nGender debiased with pairwise titles\")\n",
        "v = d_titles_300\n",
        "run_deb(1,11)\n",
        "\n",
        "print(\"\\nGender debiased with listwise entities\")\n",
        "v = d_ent_300\n",
        "run_deb(1,11)"
      ]
    },
    {
      "cell_type": "markdown",
      "metadata": {
        "id": "PKYjJfFw6NUk"
      },
      "source": [
        "### Zhou Debiasing SEAT Result\n"
      ]
    },
    {
      "cell_type": "code",
      "execution_count": 10,
      "metadata": {
        "colab": {
          "base_uri": "https://localhost:8080/"
        },
        "id": "vZybS7mVWMZW",
        "outputId": "8a2d91ab-8c37-405c-8c4a-d772e7f56ca0"
      },
      "outputs": [
        {
          "name": "stdout",
          "output_type": "stream",
          "text": [
            "Gender debiased with Zhou (subtracting verbs direction from semantic gender)\n",
            "0.01 (0.47)\n",
            "1.11 (0.00)\n",
            "1.21 (0.00)\n",
            "1.40 (0.00)\n",
            "0.95 (0.00)\n",
            "1.27 (0.00)\n",
            "1.72 (0.00)\n",
            "1.60 (0.00)\n",
            "1.40 (0.00)\n",
            "1.73 (0.00)\n",
            "\n",
            "Gender debiased with Zhou (subtracting adjectives direction from semantic gender)\n",
            "-0.01 (0.53)\n",
            "0.94 (0.00)\n",
            "1.06 (0.00)\n",
            "1.42 (0.00)\n",
            "0.94 (0.00)\n",
            "1.22 (0.00)\n",
            "1.69 (0.00)\n",
            "1.63 (0.00)\n",
            "1.43 (0.00)\n",
            "1.70 (0.00)\n",
            "\n",
            "Gender debiased with Zhou (subtracting entities direction from semantic gender)\n",
            "-0.03 (0.58)\n",
            "0.91 (0.00)\n",
            "1.06 (0.00)\n",
            "1.46 (0.00)\n",
            "0.83 (0.00)\n",
            "1.03 (0.00)\n",
            "1.45 (0.00)\n",
            "1.40 (0.00)\n",
            "1.21 (0.00)\n",
            "1.60 (0.00)\n",
            "\n",
            "Gender debiased with Zhou (subtracting titles direction from semantic gender)\n",
            "0.01 (0.48)\n",
            "1.20 (0.00)\n",
            "1.34 (0.00)\n",
            "1.45 (0.00)\n",
            "1.20 (0.00)\n",
            "1.48 (0.00)\n",
            "1.76 (0.00)\n",
            "1.56 (0.00)\n",
            "1.24 (0.00)\n",
            "1.81 (0.00)\n",
            "\n",
            "Gender debiased with Zhou (subtracting verbs and adjectives direction from semantic gender)\n",
            "0.01 (0.49)\n",
            "1.12 (0.00)\n",
            "1.21 (0.00)\n",
            "1.40 (0.00)\n",
            "0.94 (0.00)\n",
            "1.27 (0.00)\n",
            "1.72 (0.00)\n",
            "1.60 (0.00)\n",
            "1.40 (0.00)\n",
            "1.73 (0.00)\n",
            "\n",
            "Gender debiased with Zhou (subtracting verbs+adj and ent_titles direction from semantic gender)\n",
            "0.01 (0.48)\n",
            "1.20 (0.00)\n",
            "1.25 (0.00)\n",
            "1.37 (0.00)\n",
            "0.94 (0.00)\n",
            "1.25 (0.00)\n",
            "1.71 (0.00)\n",
            "1.64 (0.00)\n",
            "1.43 (0.00)\n",
            "1.73 (0.00)\n",
            "\n"
          ]
        }
      ],
      "source": [
        "def run_deb(l,r):\n",
        "  for i in range(l,r,1):\n",
        "    print('{0:.2f} ({1:.2f})'.format(seat_effect_size(X[i][\"list\"], Y[i][\"list\"], X[i][\"type\"], A[i][\"list\"], B[i][\"list\"], A[i][\"type\"], bangla_glove_50, debiased_weat=True), seat_p_value(X[i][\"list\"], Y[i][\"list\"], X[i][\"type\"], A[i][\"list\"], B[i][\"list\"], A[i][\"type\"], bangla_glove_50, sample=1000, debiased_weat=True)))\n",
        "\n",
        "\n",
        "v = d_gender_pairwise_50 - np.dot(d_gender_pairwise_50, d_verbs_50)*d_verbs_50\n",
        "print(\"\\nGender debiased with Zhou (subtracting verbs direction from semantic gender):\")\n",
        "run_deb(1,11)\n",
        "\n",
        "v = d_gender_pairwise_50 - np.dot(d_gender_pairwise_50, d_adj_50)*d_adj_50\n",
        "print(\"\\nGender debiased with Zhou (subtracting adjectives direction from semantic gender):\")\n",
        "run_deb(1,11)\n",
        "\n",
        "v = d_gender_pairwise_50 - np.dot(d_gender_pairwise_50, d_ent_50)*d_ent_50\n",
        "print(\"\\nGender debiased with Zhou (subtracting entities direction from semantic gender):\")\n",
        "run_deb(1,11)\n",
        "\n",
        "v = d_gender_pairwise_50 - np.dot(d_gender_pairwise_50, d_titles_50)*d_titles_50\n",
        "print(\"\\nGender debiased with Zhou (subtracting titles direction from semantic gender):\")\n",
        "run_deb(1,11)\n",
        "\n",
        "v = d_gender_pairwise_50 - np.dot(d_gender_pairwise_50, d_ent_50)*d_ent_50 - np.dot(d_gender_pairwise_50, d_verbs_50)*d_verbs_50\n",
        "print(\"\\nGender debiased with Zhou (subtracting verbs and adjectives direction from semantic gender):\")\n",
        "run_deb(1,11)\n",
        "\n",
        "v = d_gender_pairwise_50 - np.dot(d_gender_pairwise_50, d_verbs_adj_50)*d_verbs_adj_50 - np.dot(d_gender_pairwise_50, d_ent_titles_50)*d_ent_titles_50\n",
        "print(\"\\nGender debiased with Zhou (subtracting verbs+adj and ent_titles direction from semantic gender):\")\n",
        "run_deb(1,11)"
      ]
    },
    {
      "cell_type": "code",
      "execution_count": 11,
      "metadata": {
        "colab": {
          "base_uri": "https://localhost:8080/"
        },
        "id": "J4iCc7QPWlIz",
        "outputId": "dc4ea348-ca12-4a4b-d0f7-2025794bbd6a"
      },
      "outputs": [
        {
          "name": "stdout",
          "output_type": "stream",
          "text": [
            "Gender debiased with Zhou (subtracting verbs direction from semantic gender)\n",
            "0.10 (0.26)\n",
            "0.98 (0.00)\n",
            "0.28 (0.07)\n",
            "1.31 (0.00)\n",
            "1.30 (0.00)\n",
            "0.94 (0.00)\n",
            "1.80 (0.00)\n",
            "1.64 (0.00)\n",
            "1.14 (0.00)\n",
            "1.82 (0.00)\n",
            "\n",
            "Gender debiased with Zhou (subtracting adjectives direction from semantic gender)\n",
            "0.06 (0.35)\n",
            "0.77 (0.00)\n",
            "0.06 (0.38)\n",
            "1.23 (0.00)\n",
            "1.21 (0.00)\n",
            "0.87 (0.00)\n",
            "1.73 (0.00)\n",
            "1.63 (0.00)\n",
            "1.09 (0.00)\n",
            "1.77 (0.00)\n",
            "\n",
            "Gender debiased with Zhou (subtracting entities direction from semantic gender)\n",
            "0.06 (0.37)\n",
            "0.75 (0.00)\n",
            "0.05 (0.40)\n",
            "1.22 (0.00)\n",
            "1.18 (0.00)\n",
            "0.79 (0.00)\n",
            "1.67 (0.00)\n",
            "1.53 (0.00)\n",
            "0.98 (0.00)\n",
            "1.75 (0.00)\n",
            "\n",
            "Gender debiased with Zhou (subtracting titles direction from semantic gender)\n",
            "0.14 (0.21)\n",
            "0.96 (0.00)\n",
            "0.47 (0.00)\n",
            "1.40 (0.00)\n",
            "1.45 (0.00)\n",
            "1.03 (0.00)\n",
            "1.79 (0.00)\n",
            "1.58 (0.00)\n",
            "1.06 (0.00)\n",
            "1.85 (0.00)\n",
            "\n",
            "Gender debiased with Zhou (subtracting verbs and adjectives direction from semantic gender)\n",
            "0.10 (0.29)\n",
            "0.96 (0.00)\n",
            "0.26 (0.06)\n",
            "1.31 (0.00)\n",
            "1.31 (0.00)\n",
            "0.94 (0.00)\n",
            "1.80 (0.00)\n",
            "1.63 (0.00)\n",
            "1.13 (0.00)\n",
            "1.82 (0.00)\n",
            "\n",
            "Gender debiased with Zhou (subtracting verbs+adj and ent_titles direction from semantic gender)\n",
            "0.09 (0.29)\n",
            "0.99 (0.00)\n",
            "0.38 (0.02)\n",
            "1.26 (0.00)\n",
            "1.28 (0.00)\n",
            "0.92 (0.00)\n",
            "1.78 (0.00)\n",
            "1.67 (0.00)\n",
            "1.16 (0.00)\n",
            "1.80 (0.00)\n",
            "\n"
          ]
        }
      ],
      "source": [
        "def run_deb(l,r):\n",
        "  for i in range(l,r,1):\n",
        "    print('{0:.2f} ({1:.2f})'.format(seat_effect_size(X[i][\"list\"], Y[i][\"list\"], X[i][\"type\"], A[i][\"list\"], B[i][\"list\"], A[i][\"type\"], bangla_glove_300, debiased_weat=True), seat_p_value(X[i][\"list\"], Y[i][\"list\"], X[i][\"type\"], A[i][\"list\"], B[i][\"list\"], A[i][\"type\"], bangla_glove_300, sample=1000, debiased_weat=True)))\n",
        "\n",
        "v = d_gender_pairwise_300 - np.dot(d_gender_pairwise_300, d_verbs_300)*d_verbs_300\n",
        "print(\"\\nGender debiased with Zhou (subtracting verbs direction from semantic gender):\")\n",
        "run_deb(1,11)\n",
        "\n",
        "v = d_gender_pairwise_300 - np.dot(d_gender_pairwise_300, d_adj_300)*d_adj_300\n",
        "print(\"\\nGender debiased with Zhou (subtracting adjectives direction from semantic gender):\")\n",
        "run_deb(1,11)\n",
        "\n",
        "v = d_gender_pairwise_300 - np.dot(d_gender_pairwise_300, d_ent_300)*d_ent_300\n",
        "print(\"\\nGender debiased with Zhou (subtracting entities direction from semantic gender):\")\n",
        "run_deb(1,11)\n",
        "\n",
        "v = d_gender_pairwise_300 - np.dot(d_gender_pairwise_300, d_titles_300)*d_titles_300\n",
        "print(\"\\nGender debiased with Zhou (subtracting titles direction from semantic gender):\")\n",
        "run_deb(1,11)\n",
        "\n",
        "v = d_gender_pairwise_300 - np.dot(d_gender_pairwise_300, d_ent_300)*d_ent_300 - np.dot(d_gender_pairwise_300, d_verbs_300)*d_verbs_300\n",
        "print(\"\\nGender debiased with Zhou (subtracting verbs and adjectives direction from semantic gender):\")\n",
        "run_deb(1,11)\n",
        "\n",
        "v = d_gender_pairwise_300 - np.dot(d_gender_pairwise_300, d_verbs_adj_300)*d_verbs_adj_300 - np.dot(d_gender_pairwise_300, d_ent_titles_300)*d_ent_titles_300\n",
        "print(\"\\nGender debiased with Zhou (subtracting verbs+adj and ent_titles direction from semantic gender):\")\n",
        "run_deb(1,11)"
      ]
    },
    {
      "cell_type": "markdown",
      "metadata": {
        "id": "jXMaHbhq6-kF"
      },
      "source": [
        "### Linear Projection Debiasing SEAT Result"
      ]
    },
    {
      "cell_type": "code",
      "execution_count": 14,
      "metadata": {
        "colab": {
          "base_uri": "https://localhost:8080/"
        },
        "id": "DkzSAzMqXxpL",
        "outputId": "069b7908-1cdd-40eb-94ca-4244bda22654"
      },
      "outputs": [
        {
          "name": "stdout",
          "output_type": "stream",
          "text": [
            "Gender debiased with Linear Direction (naari-purush):\n",
            "0.05 (0.40)\n",
            "0.86 (0.00)\n",
            "1.10 (0.00)\n",
            "1.33 (0.00)\n",
            "1.11 (0.00)\n",
            "1.54 (0.00)\n",
            "1.87 (0.00)\n",
            "1.59 (0.00)\n",
            "1.18 (0.00)\n",
            "1.80 (0.00)\n",
            "\n",
            "Gender debiased with Linear Direction (ma-baba):\n",
            "-0.01 (0.53)\n",
            "1.37 (0.00)\n",
            "1.35 (0.00)\n",
            "1.42 (0.00)\n",
            "1.10 (0.00)\n",
            "1.40 (0.00)\n",
            "1.79 (0.00)\n",
            "1.64 (0.00)\n",
            "1.13 (0.00)\n",
            "1.67 (0.00)\n"
          ]
        }
      ],
      "source": [
        "def run_deb(l,r):\n",
        "  for i in range(l,r,1):\n",
        "    print('{0:.2f} ({1:.2f})'.format(seat_effect_size(X[i][\"list\"], Y[i][\"list\"], X[i][\"type\"], A[i][\"list\"], B[i][\"list\"], A[i][\"type\"], bangla_glove_50, debiased_weat=True), seat_p_value(X[i][\"list\"], Y[i][\"list\"], X[i][\"type\"], A[i][\"list\"], B[i][\"list\"], A[i][\"type\"], bangla_glove_50, sample=1000, debiased_weat=True)))\n",
        "\n",
        "v = np.array(bangla_glove_50[\"নারী\"]) - np.array(bangla_glove_50[\"পুরুষ\"])\n",
        "print(\"\\nGender debiased with Linear Direction (naari-purush):\")\n",
        "run_deb(1,11)\n",
        "\n",
        "v = np.array(bangla_glove_50[\"মা\"]) - np.array(bangla_glove_50[\"বাবা\"])\n",
        "print(\"\\nGender debiased with Linear Direction (ma-baba):\")\n",
        "run_deb(1,11)\n"
      ]
    },
    {
      "cell_type": "code",
      "execution_count": 15,
      "metadata": {
        "colab": {
          "base_uri": "https://localhost:8080/"
        },
        "id": "6yiuJ2fFZQT3",
        "outputId": "7a8451f9-54ad-411b-f8c5-25e2629d7b9d"
      },
      "outputs": [
        {
          "name": "stdout",
          "output_type": "stream",
          "text": [
            "Gender debiased with Linear Direction (naari-purush):\n",
            "0.17 (0.15)\n",
            "0.64 (0.00)\n",
            "0.55 (0.00)\n",
            "1.45 (0.00)\n",
            "1.49 (0.00)\n",
            "0.98 (0.00)\n",
            "1.83 (0.00)\n",
            "1.58 (0.00)\n",
            "1.02 (0.00)\n",
            "1.85 (0.00)\n",
            "\n",
            "Gender debiased with Linear Direction (ma-baba):\n",
            "0.18 (0.16)\n",
            "1.20 (0.00)\n",
            "0.90 (0.00)\n",
            "1.44 (0.00)\n",
            "1.48 (0.00)\n",
            "0.93 (0.00)\n",
            "1.78 (0.00)\n",
            "1.59 (0.00)\n",
            "1.09 (0.00)\n",
            "1.81 (0.00)\n",
            "\n"
          ]
        }
      ],
      "source": [
        "def run_deb(l,r):\n",
        "  for i in range(l,r,1):\n",
        "    print('{0:.2f} ({1:.2f})'.format(seat_effect_size(X[i][\"list\"], Y[i][\"list\"], X[i][\"type\"], A[i][\"list\"], B[i][\"list\"], A[i][\"type\"], bangla_glove_300, debiased_weat=True), seat_p_value(X[i][\"list\"], Y[i][\"list\"], X[i][\"type\"], A[i][\"list\"], B[i][\"list\"], A[i][\"type\"], bangla_glove_300, sample=1000, debiased_weat=True)))\n",
        "\n",
        "v = np.array(bangla_glove_300[\"নারী\"]) - np.array(bangla_glove_300[\"পুরুষ\"])\n",
        "print(\"\\nGender debiased with Linear Direction (naari-nar):\")\n",
        "run_deb(1,11)\n",
        "\n",
        "v = np.array(bangla_glove_300[\"মা\"]) - np.array(bangla_glove_300[\"বাবা\"])\n",
        "print(\"\\nGender debiased with Linear Direction (maata-pita):\")\n",
        "run_deb(1,11)"
      ]
    },
    {
      "cell_type": "markdown",
      "metadata": {
        "id": "GLhOrLgVasPj"
      },
      "source": [
        "### ELMo First Layer Debiasing"
      ]
    },
    {
      "cell_type": "code",
      "execution_count": null,
      "metadata": {
        "id": "tLL5MerZYNGr"
      },
      "outputs": [],
      "source": [
        "v = np.array(elmo_encoder(\"পুরুষ\", model)) - np.array(elmo_encoder(\"নারী\", model))"
      ]
    },
    {
      "cell_type": "code",
      "execution_count": 16,
      "metadata": {
        "colab": {
          "base_uri": "https://localhost:8080/"
        },
        "id": "swHpnDJAZpJP",
        "outputId": "f7160937-3d23-4c06-b0a9-600ac2aff681"
      },
      "outputs": [
        {
          "name": "stdout",
          "output_type": "stream",
          "text": [
            "Gender SEAT:\n",
            "0.75\n",
            "-0.39\n",
            "0.33\n",
            "1.11\n",
            "1.17\n",
            "1.32\n",
            "1.74\n",
            "1.75\n",
            "1.66\n",
            "1.27\n"
          ]
        }
      ],
      "source": [
        "for i in range(1,11,1):\n",
        "  if i==1:\n",
        "    print(\"\\nGender SEAT:\")\n",
        "\n",
        "  print('{0:.2f}'.format(seat_effect_size(X[i][\"list\"], Y[i][\"list\"], X[i][\"type\"], A[i][\"list\"], B[i][\"list\"], A[i][\"type\"], bangla_glove_300)))"
      ]
    },
    {
      "cell_type": "markdown",
      "metadata": {
        "id": "_kxB41NTJCtt"
      },
      "source": [
        "## Religion Debiasing\n"
      ]
    },
    {
      "cell_type": "markdown",
      "metadata": {
        "id": "6Voj4UhPKp9R"
      },
      "source": [
        "### PCA Debiasing WEAT Result"
      ]
    },
    {
      "cell_type": "code",
      "execution_count": 17,
      "metadata": {
        "colab": {
          "base_uri": "https://localhost:8080/"
        },
        "id": "bKex-Lu_aSZW",
        "outputId": "3490be9a-e8b9-4ca7-de5e-da1dbaf22da6"
      },
      "outputs": [
        {
          "name": "stdout",
          "output_type": "stream",
          "text": [
            "Religion debiased with listwise religion entities\n",
            "0.82 (0.05)\n",
            "0.99 (0.04)\n",
            "1.34 (0.00)\n",
            "\n",
            "Religion debiased with listwise religion lastnames\n",
            "0.38 (0.25)\n",
            "0.57 (0.16)\n",
            "0.39 (0.26)\n",
            "\n"
          ]
        }
      ],
      "source": [
        "def run_deb(l,r):\n",
        "  for i in range(l,r,1):\n",
        "    print('{0:.2f} ({1:.2f})'.format(weat_effect_size(X[i][\"list\"], Y[i][\"list\"], A[i][\"list\"], B[i][\"list\"], bangla_glove_50, debiased_weat=True), weat_p_value(X[i][\"list\"], Y[i][\"list\"], A[i][\"list\"], B[i][\"list\"], bangla_glove_50, 1000, debiased_weat=True)))\n",
        "\n",
        "print(\"\\nReligion debiased with listwise religion entities\")\n",
        "v = d_religion_ent_50\n",
        "run_deb(13,16)\n",
        "\n",
        "print(\"\\nReligion debiased with listwise religion lastnames\")\n",
        "v = d_religion_50\n",
        "run_deb(13,16)"
      ]
    },
    {
      "cell_type": "code",
      "execution_count": 18,
      "metadata": {
        "colab": {
          "base_uri": "https://localhost:8080/"
        },
        "id": "wMZBvzLdafpu",
        "outputId": "9af8c4da-da7a-497b-f979-7196f6dd4d1c"
      },
      "outputs": [
        {
          "name": "stdout",
          "output_type": "stream",
          "text": [
            "Religion debiased with listwise religion entities\n",
            "1.28 (0.01)\n",
            "1.55 (0.00)\n",
            "1.72 (0.00)\n",
            "\n",
            "Religion debiased with listwise religion lastnames\n",
            "0.91 (0.04)\n",
            "0.71 (0.10)\n",
            "1.54 (0.00)\n",
            "\n"
          ]
        }
      ],
      "source": [
        "def run_deb(l,r):\n",
        "  for i in range(l,r,1):\n",
        "    print('{0:.2f} ({1:.2f})'.format(weat_effect_size(X[i][\"list\"], Y[i][\"list\"], A[i][\"list\"], B[i][\"list\"], bangla_glove_300, debiased_weat=True), weat_p_value(X[i][\"list\"], Y[i][\"list\"], A[i][\"list\"], B[i][\"list\"], bangla_glove_300, 1000, debiased_weat=True)))\n",
        "\n",
        "print(\"\\nReligion debiased with listwise religion entities\")\n",
        "v = d_religion_ent_300\n",
        "run_deb(13,16)\n",
        "\n",
        "print(\"\\nReligion debiased with listwise religion lastnames\")\n",
        "v = d_religion_300\n",
        "run_deb(13,16)"
      ]
    },
    {
      "cell_type": "markdown",
      "metadata": {
        "id": "9A4szx5-KxNb"
      },
      "source": [
        "### Linear Projection Debiasing WEAT Result"
      ]
    },
    {
      "cell_type": "code",
      "execution_count": 19,
      "metadata": {
        "colab": {
          "base_uri": "https://localhost:8080/"
        },
        "id": "R-miQKaja7fP",
        "outputId": "9eaf24f0-4b99-4d23-afee-81c48c1bcdac"
      },
      "outputs": [
        {
          "name": "stdout",
          "output_type": "stream",
          "text": [
            "Religion debiased with Linear Direction (acharya-nasir):\n",
            "1.16 (0.02)\n",
            "1.60 (0.00)\n",
            "1.03 (0.03)\n"
          ]
        }
      ],
      "source": [
        "def run_deb(l,r):\n",
        "  for i in range(l,r,1):\n",
        "    print('{0:.2f} ({1:.2f})'.format(weat_effect_size(X[i][\"list\"], Y[i][\"list\"], A[i][\"list\"], B[i][\"list\"], bangla_glove_50, debiased_weat=True), weat_p_value(X[i][\"list\"], Y[i][\"list\"], A[i][\"list\"], B[i][\"list\"], bangla_glove_50, 1000, debiased_weat=True)))\n",
        "\n",
        "v = np.array(bangla_glove_50[\"আচার্য\"]) - np.array(bangla_glove_50[\"নাসির\"])\n",
        "print(\"\\nReligion debiased with Linear Direction (acharya-nasir):\")\n",
        "run_deb(13,16)"
      ]
    },
    {
      "cell_type": "code",
      "execution_count": 20,
      "metadata": {
        "colab": {
          "base_uri": "https://localhost:8080/"
        },
        "id": "H5IHtUvkbPG3",
        "outputId": "9a9ef667-a037-4ab5-d163-ccdfa890ac09"
      },
      "outputs": [
        {
          "name": "stdout",
          "output_type": "stream",
          "text": [
            "Religion debiased with Linear Direction (acharya-nasir):\n",
            "1.28 (0.01)\n",
            "1.57 (0.00)\n",
            "1.61 (0.00)\n"
          ]
        }
      ],
      "source": [
        "def run_deb(l,r):\n",
        "  for i in range(l,r,1):\n",
        "    print('{0:.2f} ({1:.2f})'.format(weat_effect_size(X[i][\"list\"], Y[i][\"list\"], A[i][\"list\"], B[i][\"list\"], bangla_glove_300, debiased_weat=True), weat_p_value(X[i][\"list\"], Y[i][\"list\"], A[i][\"list\"], B[i][\"list\"], bangla_glove_300, 1000, debiased_weat=True)))\n",
        "\n",
        "v = np.array(bangla_glove_300[\"আচার্য\"]) - np.array(bangla_glove_300[\"নাসির\"])\n",
        "print(\"\\nReligion debiased with Linear Direction (acharya-nasir):\")\n",
        "run_deb(13,16)"
      ]
    },
    {
      "cell_type": "markdown",
      "metadata": {
        "id": "Hlq18LZeNDNZ"
      },
      "source": [
        "### Zhou Debiasing WEAT Result"
      ]
    },
    {
      "cell_type": "code",
      "execution_count": 21,
      "metadata": {
        "colab": {
          "base_uri": "https://localhost:8080/"
        },
        "id": "B8eui1embhmv",
        "outputId": "1d293508-74ba-4326-c8d7-8d0210847994"
      },
      "outputs": [
        {
          "name": "stdout",
          "output_type": "stream",
          "text": [
            "Religion debiased with Zhou (subtracting entities direction):\n",
            "0.95 (0.05)\n",
            "1.17 (0.01)\n",
            "1.44 (0.00)\n"
          ]
        }
      ],
      "source": [
        "def run_deb(l,r):\n",
        "  for i in range(l,r,1):\n",
        "    print('{0:.2f} ({1:.2f})'.format(weat_effect_size(X[i][\"list\"], Y[i][\"list\"], A[i][\"list\"], B[i][\"list\"], bangla_glove_50, debiased_weat=True), weat_p_value(X[i][\"list\"], Y[i][\"list\"], A[i][\"list\"], B[i][\"list\"], bangla_glove_50, 1000, debiased_weat=True)))\n",
        "\n",
        "\n",
        "v = d_religion_50 - np.dot(d_religion_50, d_religion_ent_50)*d_religion_ent_50\n",
        "print(\"\\nReligion debiased with Zhou (subtracting entities direction):\")\n",
        "run_deb(13,16)"
      ]
    },
    {
      "cell_type": "code",
      "execution_count": 22,
      "metadata": {
        "colab": {
          "base_uri": "https://localhost:8080/"
        },
        "id": "HniHHxmsbw8a",
        "outputId": "b5a9b97b-0b1b-406f-87f8-0c11beeaf605"
      },
      "outputs": [
        {
          "name": "stdout",
          "output_type": "stream",
          "text": [
            "Religion debiased with Zhou (subtracting entities direction):\n",
            "0.92 (0.06)\n",
            "0.71 (0.11)\n",
            "1.59 (0.00)\n"
          ]
        }
      ],
      "source": [
        "def run_deb(l,r):\n",
        "  for i in range(l,r,1):\n",
        "    print('{0:.2f} ({1:.2f})'.format(weat_effect_size(X[i][\"list\"], Y[i][\"list\"], A[i][\"list\"], B[i][\"list\"], bangla_glove_300, debiased_weat=True), weat_p_value(X[i][\"list\"], Y[i][\"list\"], A[i][\"list\"], B[i][\"list\"], bangla_glove_300, 1000, debiased_weat=True)))\n",
        "\n",
        "\n",
        "v = d_religion_300 - np.dot(d_religion_300, d_religion_ent_300)*d_religion_ent_300\n",
        "print(\"\\nReligion debiased with Zhou (subtracting entities direction):\")\n",
        "run_deb(13,16)"
      ]
    },
    {
      "cell_type": "markdown",
      "metadata": {
        "id": "cqztu9wCORwb"
      },
      "source": [
        "### PCA Debiasing SEAT Result"
      ]
    },
    {
      "cell_type": "code",
      "execution_count": 24,
      "metadata": {
        "colab": {
          "base_uri": "https://localhost:8080/"
        },
        "id": "2aHDcpKWcGQS",
        "outputId": "c7b514cb-9d32-4a97-ba0c-44e69017ad1b"
      },
      "outputs": [
        {
          "name": "stdout",
          "output_type": "stream",
          "text": [
            "Religion debiased with listwise religion entities\n",
            "0.79 (0.00)\n",
            "0.98 (0.00)\n",
            "1.16 (0.00)\n",
            "\n",
            "Religion debiased with listwise religion lastnames\n",
            "0.50 (0.03)\n",
            "0.94 (0.00)\n",
            "0.10 (0.29)\n",
            "\n"
          ]
        }
      ],
      "source": [
        "def run_deb(l,r):\n",
        "  for i in range(l,r,1):\n",
        "    print('{0:.2f} ({1:.2f})'.format(seat_effect_size(X[i][\"list\"], Y[i][\"list\"], X[i][\"type\"], A[i][\"list\"], B[i][\"list\"], A[i][\"type\"], bangla_glove_50, debiased_weat=True), seat_p_value(X[i][\"list\"], Y[i][\"list\"], X[i][\"type\"], A[i][\"list\"], B[i][\"list\"], A[i][\"type\"], bangla_glove_50, sample=1000, debiased_weat=True)))\n",
        "\n",
        "print(\"\\nReligion debiased with listwise religion entities\")\n",
        "v = d_religion_ent_50\n",
        "run_deb(13,16)\n",
        "\n",
        "print(\"\\nReligion debiased with listwise religion lastnames\")\n",
        "v = d_religion_50\n",
        "run_deb(13,16)"
      ]
    },
    {
      "cell_type": "code",
      "execution_count": 26,
      "metadata": {
        "colab": {
          "base_uri": "https://localhost:8080/"
        },
        "id": "r2uu4bl2cVM0",
        "outputId": "063bac7e-eb74-4ef6-f81e-1f4b953ab75e"
      },
      "outputs": [
        {
          "name": "stdout",
          "output_type": "stream",
          "text": [
            "Religion debiased with listwise religion entities\n",
            "1.19 (0.00)\n",
            "1.41 (0.00)\n",
            "1.65 (0.00)\n",
            "\n",
            "Religion debiased with listwise religion lastnames\n",
            "0.85 (0.00)\n",
            "0.70 (0.00)\n",
            "1.43 (0.00)\n",
            "\n"
          ]
        }
      ],
      "source": [
        "def run_deb(l,r):\n",
        "  for i in range(l,r,1):\n",
        "    print('{0:.2f} ({1:.2f})'.format(seat_effect_size(X[i][\"list\"], Y[i][\"list\"], X[i][\"type\"], A[i][\"list\"], B[i][\"list\"], A[i][\"type\"], bangla_glove_300, debiased_weat=True), seat_p_value(X[i][\"list\"], Y[i][\"list\"], X[i][\"type\"], A[i][\"list\"], B[i][\"list\"], A[i][\"type\"], bangla_glove_300, sample=1000, debiased_weat=True)))\n",
        "\n",
        "print(\"\\nReligion debiased with listwise religion entities\")\n",
        "v = d_religion_ent_300\n",
        "run_deb(13,16)\n",
        "\n",
        "print(\"\\nReligion debiased with listwise religion lastnames\")\n",
        "v = d_religion_300\n",
        "run_deb(13,16)"
      ]
    },
    {
      "cell_type": "markdown",
      "metadata": {
        "id": "sKZCuYopPAhH"
      },
      "source": [
        "### Linear Projection Debiasing SEAT Result"
      ]
    },
    {
      "cell_type": "code",
      "execution_count": 27,
      "metadata": {
        "colab": {
          "base_uri": "https://localhost:8080/"
        },
        "id": "AcesEd9wc2cS",
        "outputId": "b911bdf4-0999-4906-aa69-6b3b2300f92a"
      },
      "outputs": [
        {
          "name": "stdout",
          "output_type": "stream",
          "text": [
            "Religion debiased with Linear Direction (acharya-nasir):\n",
            "1.07 (0.00)\n",
            "1.61 (0.00)\n",
            "0.69 (0.00)\n"
          ]
        }
      ],
      "source": [
        "def run_deb(l,r):\n",
        "  for i in range(l,r,1):\n",
        "    print('{0:.2f} ({1:.2f})'.format(seat_effect_size(X[i][\"list\"], Y[i][\"list\"], X[i][\"type\"], A[i][\"list\"], B[i][\"list\"], A[i][\"type\"], bangla_glove_50, debiased_weat=True), seat_p_value(X[i][\"list\"], Y[i][\"list\"], X[i][\"type\"], A[i][\"list\"], B[i][\"list\"], A[i][\"type\"], bangla_glove_50, sample=1000, debiased_weat=True)))\n",
        "\n",
        "v = np.array(bangla_glove_50[\"আচার্য\"]) - np.array(bangla_glove_50[\"নাসির\"])\n",
        "print(\"\\nReligion debiased with Linear Direction (acharya-nasir):\")\n",
        "run_deb(13,16)"
      ]
    },
    {
      "cell_type": "code",
      "execution_count": 29,
      "metadata": {
        "colab": {
          "base_uri": "https://localhost:8080/"
        },
        "id": "rtS5vFZtdJTX",
        "outputId": "27efbfde-da4c-4208-9dfd-5c3298f772b1"
      },
      "outputs": [
        {
          "name": "stdout",
          "output_type": "stream",
          "text": [
            "Religion debiased with Linear Direction (acharya-nasir):\n",
            "1.22 (0.00)\n",
            "1.43 (0.00)\n",
            "1.52 (0.00)\n"
          ]
        }
      ],
      "source": [
        "def run_deb(l,r):\n",
        "  for i in range(l,r,1):\n",
        "    print('{0:.2f} ({1:.2f})'.format(seat_effect_size(X[i][\"list\"], Y[i][\"list\"], X[i][\"type\"], A[i][\"list\"], B[i][\"list\"], A[i][\"type\"], bangla_glove_300, debiased_weat=True), seat_p_value(X[i][\"list\"], Y[i][\"list\"], X[i][\"type\"], A[i][\"list\"], B[i][\"list\"], A[i][\"type\"], bangla_glove_300, sample=1000, debiased_weat=True)))\n",
        "\n",
        "v = np.array(bangla_glove_300[\"আচার্য\"]) - np.array(bangla_glove_300[\"নাসির\"])\n",
        "print(\"\\nReligion debiased with Linear Direction (acharya-nasir):\")\n",
        "run_deb(13,16)"
      ]
    },
    {
      "cell_type": "markdown",
      "metadata": {
        "id": "Gtc6XsItQIh6"
      },
      "source": [
        "### Zhou Debiasing SEAT Result"
      ]
    },
    {
      "cell_type": "code",
      "execution_count": 30,
      "metadata": {
        "colab": {
          "base_uri": "https://localhost:8080/"
        },
        "id": "E_27_zyJdeJZ",
        "outputId": "6f348526-8100-497c-b071-1b22c7f1c177"
      },
      "outputs": [
        {
          "name": "stdout",
          "output_type": "stream",
          "text": [
            "Religion debiased with Zhou (subtracting entities direction):\n",
            "0.86 (0.00)\n",
            "1.13 (0.00)\n",
            "1.17 (0.00)\n"
          ]
        }
      ],
      "source": [
        "def run_deb(l,r):\n",
        "  for i in range(l,r,1):\n",
        "    print('{0:.2f} ({1:.2f})'.format(seat_effect_size(X[i][\"list\"], Y[i][\"list\"], X[i][\"type\"], A[i][\"list\"], B[i][\"list\"], A[i][\"type\"], bangla_glove_50, debiased_weat=True), seat_p_value(X[i][\"list\"], Y[i][\"list\"], X[i][\"type\"], A[i][\"list\"], B[i][\"list\"], A[i][\"type\"], bangla_glove_50, sample=1000, debiased_weat=True)))\n",
        "\n",
        "v = d_religion_50 - np.dot(d_religion_50, d_religion_ent_50)*d_religion_ent_50\n",
        "print(\"\\nReligion debiased with Zhou (subtracting entities direction):\")\n",
        "run_deb(13,16)"
      ]
    },
    {
      "cell_type": "code",
      "execution_count": 32,
      "metadata": {
        "colab": {
          "base_uri": "https://localhost:8080/"
        },
        "id": "IObGvIFQd1nv",
        "outputId": "10019829-abe2-437e-bb8c-c4c643486d29"
      },
      "outputs": [
        {
          "name": "stdout",
          "output_type": "stream",
          "text": [
            "Religion debiased with Zhou (subtracting entities direction):\n",
            "0.85 (0.00)\n",
            "0.68 (0.00)\n",
            "1.50 (0.00)\n"
          ]
        }
      ],
      "source": [
        "def run_deb(l,r):\n",
        "  for i in range(l,r,1):\n",
        "    print('{0:.2f} ({1:.2f})'.format(seat_effect_size(X[i][\"list\"], Y[i][\"list\"], X[i][\"type\"], A[i][\"list\"], B[i][\"list\"], A[i][\"type\"], bangla_glove_300, debiased_weat=True), seat_p_value(X[i][\"list\"], Y[i][\"list\"], X[i][\"type\"], A[i][\"list\"], B[i][\"list\"], A[i][\"type\"], bangla_glove_300, sample=1000, debiased_weat=True)))\n",
        "\n",
        "\n",
        "v = d_religion_300 - np.dot(d_religion_300, d_religion_ent_300)*d_religion_ent_300\n",
        "print(\"\\nReligion debiased with Zhou (subtracting entities direction):\")\n",
        "run_deb(13,16)"
      ]
    }
  ],
  "metadata": {
    "accelerator": "GPU",
    "colab": {
      "gpuType": "T4",
      "provenance": []
    },
    "kernelspec": {
      "display_name": "Python 3",
      "name": "python3"
    },
    "language_info": {
      "name": "python"
    },
    "widgets": {
      "application/vnd.jupyter.widget-state+json": {
        "0898730eb6ab438385064a70101c5b93": {
          "model_module": "@jupyter-widgets/controls",
          "model_module_version": "1.5.0",
          "model_name": "DescriptionStyleModel",
          "state": {
            "_model_module": "@jupyter-widgets/controls",
            "_model_module_version": "1.5.0",
            "_model_name": "DescriptionStyleModel",
            "_view_count": null,
            "_view_module": "@jupyter-widgets/base",
            "_view_module_version": "1.2.0",
            "_view_name": "StyleView",
            "description_width": ""
          }
        },
        "0c7dcde261584a01b5f23e1ea0458602": {
          "model_module": "@jupyter-widgets/base",
          "model_module_version": "1.2.0",
          "model_name": "LayoutModel",
          "state": {
            "_model_module": "@jupyter-widgets/base",
            "_model_module_version": "1.2.0",
            "_model_name": "LayoutModel",
            "_view_count": null,
            "_view_module": "@jupyter-widgets/base",
            "_view_module_version": "1.2.0",
            "_view_name": "LayoutView",
            "align_content": null,
            "align_items": null,
            "align_self": null,
            "border": null,
            "bottom": null,
            "display": null,
            "flex": null,
            "flex_flow": null,
            "grid_area": null,
            "grid_auto_columns": null,
            "grid_auto_flow": null,
            "grid_auto_rows": null,
            "grid_column": null,
            "grid_gap": null,
            "grid_row": null,
            "grid_template_areas": null,
            "grid_template_columns": null,
            "grid_template_rows": null,
            "height": null,
            "justify_content": null,
            "justify_items": null,
            "left": null,
            "margin": null,
            "max_height": null,
            "max_width": null,
            "min_height": null,
            "min_width": null,
            "object_fit": null,
            "object_position": null,
            "order": null,
            "overflow": null,
            "overflow_x": null,
            "overflow_y": null,
            "padding": null,
            "right": null,
            "top": null,
            "visibility": null,
            "width": null
          }
        },
        "0d175a3f732c46409ef5967a52004b04": {
          "model_module": "@jupyter-widgets/controls",
          "model_module_version": "1.5.0",
          "model_name": "FloatProgressModel",
          "state": {
            "_dom_classes": [],
            "_model_module": "@jupyter-widgets/controls",
            "_model_module_version": "1.5.0",
            "_model_name": "FloatProgressModel",
            "_view_count": null,
            "_view_module": "@jupyter-widgets/controls",
            "_view_module_version": "1.5.0",
            "_view_name": "ProgressView",
            "bar_style": "success",
            "description": "",
            "description_tooltip": null,
            "layout": "IPY_MODEL_7ff27a1304da40b88961c278c4a86e4a",
            "max": 119,
            "min": 0,
            "orientation": "horizontal",
            "style": "IPY_MODEL_cec11886bea14348a748a73b2809f110",
            "value": 119
          }
        },
        "100fa6f54a3e4e37ad2742ebee20a4e3": {
          "model_module": "@jupyter-widgets/controls",
          "model_module_version": "1.5.0",
          "model_name": "HTMLModel",
          "state": {
            "_dom_classes": [],
            "_model_module": "@jupyter-widgets/controls",
            "_model_module_version": "1.5.0",
            "_model_name": "HTMLModel",
            "_view_count": null,
            "_view_module": "@jupyter-widgets/controls",
            "_view_module_version": "1.5.0",
            "_view_name": "HTMLView",
            "description": "",
            "description_tooltip": null,
            "layout": "IPY_MODEL_71e8cd5cb6f84eed9a973bc6d991f8e0",
            "placeholder": "​",
            "style": "IPY_MODEL_61223e0e313442f0a8c7ddce3ebd113e",
            "value": "pytorch_model.bin: 100%"
          }
        },
        "1863b3e1d231476387b8dcf4c26e52bd": {
          "model_module": "@jupyter-widgets/controls",
          "model_module_version": "1.5.0",
          "model_name": "HTMLModel",
          "state": {
            "_dom_classes": [],
            "_model_module": "@jupyter-widgets/controls",
            "_model_module_version": "1.5.0",
            "_model_name": "HTMLModel",
            "_view_count": null,
            "_view_module": "@jupyter-widgets/controls",
            "_view_module_version": "1.5.0",
            "_view_name": "HTMLView",
            "description": "",
            "description_tooltip": null,
            "layout": "IPY_MODEL_d33e692b41714afcb89e1029ca5a02e0",
            "placeholder": "​",
            "style": "IPY_MODEL_0898730eb6ab438385064a70101c5b93",
            "value": " 112/112 [00:00&lt;00:00, 3.47kB/s]"
          }
        },
        "1870fc1d3fd44e0188b4550fb7a5fd11": {
          "model_module": "@jupyter-widgets/controls",
          "model_module_version": "1.5.0",
          "model_name": "HTMLModel",
          "state": {
            "_dom_classes": [],
            "_model_module": "@jupyter-widgets/controls",
            "_model_module_version": "1.5.0",
            "_model_name": "HTMLModel",
            "_view_count": null,
            "_view_module": "@jupyter-widgets/controls",
            "_view_module_version": "1.5.0",
            "_view_name": "HTMLView",
            "description": "",
            "description_tooltip": null,
            "layout": "IPY_MODEL_cfc17b9f3d5849259a6c9ec6853e2a60",
            "placeholder": "​",
            "style": "IPY_MODEL_c61f152f3960418f9d2b07c5fb2e7bb3",
            "value": "vocab.txt: 100%"
          }
        },
        "18bfbf202f4c4011a0d74054dc46d086": {
          "model_module": "@jupyter-widgets/controls",
          "model_module_version": "1.5.0",
          "model_name": "HTMLModel",
          "state": {
            "_dom_classes": [],
            "_model_module": "@jupyter-widgets/controls",
            "_model_module_version": "1.5.0",
            "_model_name": "HTMLModel",
            "_view_count": null,
            "_view_module": "@jupyter-widgets/controls",
            "_view_module_version": "1.5.0",
            "_view_name": "HTMLView",
            "description": "",
            "description_tooltip": null,
            "layout": "IPY_MODEL_3aac813e04fe479d8f00d58a8540dc3a",
            "placeholder": "​",
            "style": "IPY_MODEL_f97522d616264cd0a9833f5208bf5834",
            "value": " 528k/528k [00:00&lt;00:00, 2.87MB/s]"
          }
        },
        "19106feca51143fc9fe2780fbde7654c": {
          "model_module": "@jupyter-widgets/base",
          "model_module_version": "1.2.0",
          "model_name": "LayoutModel",
          "state": {
            "_model_module": "@jupyter-widgets/base",
            "_model_module_version": "1.2.0",
            "_model_name": "LayoutModel",
            "_view_count": null,
            "_view_module": "@jupyter-widgets/base",
            "_view_module_version": "1.2.0",
            "_view_name": "LayoutView",
            "align_content": null,
            "align_items": null,
            "align_self": null,
            "border": null,
            "bottom": null,
            "display": null,
            "flex": null,
            "flex_flow": null,
            "grid_area": null,
            "grid_auto_columns": null,
            "grid_auto_flow": null,
            "grid_auto_rows": null,
            "grid_column": null,
            "grid_gap": null,
            "grid_row": null,
            "grid_template_areas": null,
            "grid_template_columns": null,
            "grid_template_rows": null,
            "height": null,
            "justify_content": null,
            "justify_items": null,
            "left": null,
            "margin": null,
            "max_height": null,
            "max_width": null,
            "min_height": null,
            "min_width": null,
            "object_fit": null,
            "object_position": null,
            "order": null,
            "overflow": null,
            "overflow_x": null,
            "overflow_y": null,
            "padding": null,
            "right": null,
            "top": null,
            "visibility": null,
            "width": null
          }
        },
        "20c0b4b264654dbe9089332cdae8d012": {
          "model_module": "@jupyter-widgets/controls",
          "model_module_version": "1.5.0",
          "model_name": "HTMLModel",
          "state": {
            "_dom_classes": [],
            "_model_module": "@jupyter-widgets/controls",
            "_model_module_version": "1.5.0",
            "_model_name": "HTMLModel",
            "_view_count": null,
            "_view_module": "@jupyter-widgets/controls",
            "_view_module_version": "1.5.0",
            "_view_name": "HTMLView",
            "description": "",
            "description_tooltip": null,
            "layout": "IPY_MODEL_dc37484a26d449eeb060ae046d5c9606",
            "placeholder": "​",
            "style": "IPY_MODEL_937c9cca07e948799136ba5655335056",
            "value": "config.json: 100%"
          }
        },
        "2248c4e2499e421c955b8fa1e40811ec": {
          "model_module": "@jupyter-widgets/controls",
          "model_module_version": "1.5.0",
          "model_name": "FloatProgressModel",
          "state": {
            "_dom_classes": [],
            "_model_module": "@jupyter-widgets/controls",
            "_model_module_version": "1.5.0",
            "_model_name": "FloatProgressModel",
            "_view_count": null,
            "_view_module": "@jupyter-widgets/controls",
            "_view_module_version": "1.5.0",
            "_view_name": "ProgressView",
            "bar_style": "success",
            "description": "",
            "description_tooltip": null,
            "layout": "IPY_MODEL_78aa3aadad0d439eae11731a503d4747",
            "max": 528316,
            "min": 0,
            "orientation": "horizontal",
            "style": "IPY_MODEL_ca95469563034d8a96053023d8680bbd",
            "value": 528316
          }
        },
        "2307fcf402d8414e854633116b8e15da": {
          "model_module": "@jupyter-widgets/controls",
          "model_module_version": "1.5.0",
          "model_name": "FloatProgressModel",
          "state": {
            "_dom_classes": [],
            "_model_module": "@jupyter-widgets/controls",
            "_model_module_version": "1.5.0",
            "_model_name": "FloatProgressModel",
            "_view_count": null,
            "_view_module": "@jupyter-widgets/controls",
            "_view_module_version": "1.5.0",
            "_view_name": "ProgressView",
            "bar_style": "success",
            "description": "",
            "description_tooltip": null,
            "layout": "IPY_MODEL_61994ee2f73940ca935d87d97ae75ad9",
            "max": 442560329,
            "min": 0,
            "orientation": "horizontal",
            "style": "IPY_MODEL_d770fb8616e343e4b302823f759c7a35",
            "value": 442560329
          }
        },
        "28bca65fd9a44684ba03b71453f45753": {
          "model_module": "@jupyter-widgets/controls",
          "model_module_version": "1.5.0",
          "model_name": "HBoxModel",
          "state": {
            "_dom_classes": [],
            "_model_module": "@jupyter-widgets/controls",
            "_model_module_version": "1.5.0",
            "_model_name": "HBoxModel",
            "_view_count": null,
            "_view_module": "@jupyter-widgets/controls",
            "_view_module_version": "1.5.0",
            "_view_name": "HBoxView",
            "box_style": "",
            "children": [
              "IPY_MODEL_100fa6f54a3e4e37ad2742ebee20a4e3",
              "IPY_MODEL_2307fcf402d8414e854633116b8e15da",
              "IPY_MODEL_679f2773bd874d2cba052e68aacf76fc"
            ],
            "layout": "IPY_MODEL_dee5f0a04b6a4cdc9e73b2d507d3400f"
          }
        },
        "35538667f2244ed7989b0439df5af64a": {
          "model_module": "@jupyter-widgets/controls",
          "model_module_version": "1.5.0",
          "model_name": "ProgressStyleModel",
          "state": {
            "_model_module": "@jupyter-widgets/controls",
            "_model_module_version": "1.5.0",
            "_model_name": "ProgressStyleModel",
            "_view_count": null,
            "_view_module": "@jupyter-widgets/base",
            "_view_module_version": "1.2.0",
            "_view_name": "StyleView",
            "bar_color": null,
            "description_width": ""
          }
        },
        "39bb2400e5334ad69d4a1f639084e800": {
          "model_module": "@jupyter-widgets/base",
          "model_module_version": "1.2.0",
          "model_name": "LayoutModel",
          "state": {
            "_model_module": "@jupyter-widgets/base",
            "_model_module_version": "1.2.0",
            "_model_name": "LayoutModel",
            "_view_count": null,
            "_view_module": "@jupyter-widgets/base",
            "_view_module_version": "1.2.0",
            "_view_name": "LayoutView",
            "align_content": null,
            "align_items": null,
            "align_self": null,
            "border": null,
            "bottom": null,
            "display": null,
            "flex": null,
            "flex_flow": null,
            "grid_area": null,
            "grid_auto_columns": null,
            "grid_auto_flow": null,
            "grid_auto_rows": null,
            "grid_column": null,
            "grid_gap": null,
            "grid_row": null,
            "grid_template_areas": null,
            "grid_template_columns": null,
            "grid_template_rows": null,
            "height": null,
            "justify_content": null,
            "justify_items": null,
            "left": null,
            "margin": null,
            "max_height": null,
            "max_width": null,
            "min_height": null,
            "min_width": null,
            "object_fit": null,
            "object_position": null,
            "order": null,
            "overflow": null,
            "overflow_x": null,
            "overflow_y": null,
            "padding": null,
            "right": null,
            "top": null,
            "visibility": null,
            "width": null
          }
        },
        "3aac813e04fe479d8f00d58a8540dc3a": {
          "model_module": "@jupyter-widgets/base",
          "model_module_version": "1.2.0",
          "model_name": "LayoutModel",
          "state": {
            "_model_module": "@jupyter-widgets/base",
            "_model_module_version": "1.2.0",
            "_model_name": "LayoutModel",
            "_view_count": null,
            "_view_module": "@jupyter-widgets/base",
            "_view_module_version": "1.2.0",
            "_view_name": "LayoutView",
            "align_content": null,
            "align_items": null,
            "align_self": null,
            "border": null,
            "bottom": null,
            "display": null,
            "flex": null,
            "flex_flow": null,
            "grid_area": null,
            "grid_auto_columns": null,
            "grid_auto_flow": null,
            "grid_auto_rows": null,
            "grid_column": null,
            "grid_gap": null,
            "grid_row": null,
            "grid_template_areas": null,
            "grid_template_columns": null,
            "grid_template_rows": null,
            "height": null,
            "justify_content": null,
            "justify_items": null,
            "left": null,
            "margin": null,
            "max_height": null,
            "max_width": null,
            "min_height": null,
            "min_width": null,
            "object_fit": null,
            "object_position": null,
            "order": null,
            "overflow": null,
            "overflow_x": null,
            "overflow_y": null,
            "padding": null,
            "right": null,
            "top": null,
            "visibility": null,
            "width": null
          }
        },
        "406779cd1c064751aeac48e37362635c": {
          "model_module": "@jupyter-widgets/base",
          "model_module_version": "1.2.0",
          "model_name": "LayoutModel",
          "state": {
            "_model_module": "@jupyter-widgets/base",
            "_model_module_version": "1.2.0",
            "_model_name": "LayoutModel",
            "_view_count": null,
            "_view_module": "@jupyter-widgets/base",
            "_view_module_version": "1.2.0",
            "_view_name": "LayoutView",
            "align_content": null,
            "align_items": null,
            "align_self": null,
            "border": null,
            "bottom": null,
            "display": null,
            "flex": null,
            "flex_flow": null,
            "grid_area": null,
            "grid_auto_columns": null,
            "grid_auto_flow": null,
            "grid_auto_rows": null,
            "grid_column": null,
            "grid_gap": null,
            "grid_row": null,
            "grid_template_areas": null,
            "grid_template_columns": null,
            "grid_template_rows": null,
            "height": null,
            "justify_content": null,
            "justify_items": null,
            "left": null,
            "margin": null,
            "max_height": null,
            "max_width": null,
            "min_height": null,
            "min_width": null,
            "object_fit": null,
            "object_position": null,
            "order": null,
            "overflow": null,
            "overflow_x": null,
            "overflow_y": null,
            "padding": null,
            "right": null,
            "top": null,
            "visibility": null,
            "width": null
          }
        },
        "4b1374a10fa84dc4ab4e7b46fc18647e": {
          "model_module": "@jupyter-widgets/controls",
          "model_module_version": "1.5.0",
          "model_name": "HTMLModel",
          "state": {
            "_dom_classes": [],
            "_model_module": "@jupyter-widgets/controls",
            "_model_module_version": "1.5.0",
            "_model_name": "HTMLModel",
            "_view_count": null,
            "_view_module": "@jupyter-widgets/controls",
            "_view_module_version": "1.5.0",
            "_view_name": "HTMLView",
            "description": "",
            "description_tooltip": null,
            "layout": "IPY_MODEL_8e6f5a628a2e43b9a87924c9de496d61",
            "placeholder": "​",
            "style": "IPY_MODEL_7be8abfc859e419da6d86353cc24c703",
            "value": "special_tokens_map.json: 100%"
          }
        },
        "4d6e8beba3de48de9c425599c1fe95d5": {
          "model_module": "@jupyter-widgets/controls",
          "model_module_version": "1.5.0",
          "model_name": "DescriptionStyleModel",
          "state": {
            "_model_module": "@jupyter-widgets/controls",
            "_model_module_version": "1.5.0",
            "_model_name": "DescriptionStyleModel",
            "_view_count": null,
            "_view_module": "@jupyter-widgets/base",
            "_view_module_version": "1.2.0",
            "_view_name": "StyleView",
            "description_width": ""
          }
        },
        "536df6022d194eb18e8a6690d5e09217": {
          "model_module": "@jupyter-widgets/controls",
          "model_module_version": "1.5.0",
          "model_name": "HTMLModel",
          "state": {
            "_dom_classes": [],
            "_model_module": "@jupyter-widgets/controls",
            "_model_module_version": "1.5.0",
            "_model_name": "HTMLModel",
            "_view_count": null,
            "_view_module": "@jupyter-widgets/controls",
            "_view_module_version": "1.5.0",
            "_view_name": "HTMLView",
            "description": "",
            "description_tooltip": null,
            "layout": "IPY_MODEL_39bb2400e5334ad69d4a1f639084e800",
            "placeholder": "​",
            "style": "IPY_MODEL_c2d29b037c6546c795f612b677ba45d1",
            "value": "tokenizer_config.json: 100%"
          }
        },
        "61223e0e313442f0a8c7ddce3ebd113e": {
          "model_module": "@jupyter-widgets/controls",
          "model_module_version": "1.5.0",
          "model_name": "DescriptionStyleModel",
          "state": {
            "_model_module": "@jupyter-widgets/controls",
            "_model_module_version": "1.5.0",
            "_model_name": "DescriptionStyleModel",
            "_view_count": null,
            "_view_module": "@jupyter-widgets/base",
            "_view_module_version": "1.2.0",
            "_view_name": "StyleView",
            "description_width": ""
          }
        },
        "61994ee2f73940ca935d87d97ae75ad9": {
          "model_module": "@jupyter-widgets/base",
          "model_module_version": "1.2.0",
          "model_name": "LayoutModel",
          "state": {
            "_model_module": "@jupyter-widgets/base",
            "_model_module_version": "1.2.0",
            "_model_name": "LayoutModel",
            "_view_count": null,
            "_view_module": "@jupyter-widgets/base",
            "_view_module_version": "1.2.0",
            "_view_name": "LayoutView",
            "align_content": null,
            "align_items": null,
            "align_self": null,
            "border": null,
            "bottom": null,
            "display": null,
            "flex": null,
            "flex_flow": null,
            "grid_area": null,
            "grid_auto_columns": null,
            "grid_auto_flow": null,
            "grid_auto_rows": null,
            "grid_column": null,
            "grid_gap": null,
            "grid_row": null,
            "grid_template_areas": null,
            "grid_template_columns": null,
            "grid_template_rows": null,
            "height": null,
            "justify_content": null,
            "justify_items": null,
            "left": null,
            "margin": null,
            "max_height": null,
            "max_width": null,
            "min_height": null,
            "min_width": null,
            "object_fit": null,
            "object_position": null,
            "order": null,
            "overflow": null,
            "overflow_x": null,
            "overflow_y": null,
            "padding": null,
            "right": null,
            "top": null,
            "visibility": null,
            "width": null
          }
        },
        "679f2773bd874d2cba052e68aacf76fc": {
          "model_module": "@jupyter-widgets/controls",
          "model_module_version": "1.5.0",
          "model_name": "HTMLModel",
          "state": {
            "_dom_classes": [],
            "_model_module": "@jupyter-widgets/controls",
            "_model_module_version": "1.5.0",
            "_model_name": "HTMLModel",
            "_view_count": null,
            "_view_module": "@jupyter-widgets/controls",
            "_view_module_version": "1.5.0",
            "_view_name": "HTMLView",
            "description": "",
            "description_tooltip": null,
            "layout": "IPY_MODEL_820578e31d1f47d8bc586a84b85b8424",
            "placeholder": "​",
            "style": "IPY_MODEL_4d6e8beba3de48de9c425599c1fe95d5",
            "value": " 443M/443M [00:03&lt;00:00, 106MB/s]"
          }
        },
        "67c91a925b9a417c968324b6fbacf7e4": {
          "model_module": "@jupyter-widgets/controls",
          "model_module_version": "1.5.0",
          "model_name": "HTMLModel",
          "state": {
            "_dom_classes": [],
            "_model_module": "@jupyter-widgets/controls",
            "_model_module_version": "1.5.0",
            "_model_name": "HTMLModel",
            "_view_count": null,
            "_view_module": "@jupyter-widgets/controls",
            "_view_module_version": "1.5.0",
            "_view_name": "HTMLView",
            "description": "",
            "description_tooltip": null,
            "layout": "IPY_MODEL_19106feca51143fc9fe2780fbde7654c",
            "placeholder": "​",
            "style": "IPY_MODEL_9a8046bd80a34dd581ad940ce742a4fc",
            "value": " 586/586 [00:00&lt;00:00, 36.8kB/s]"
          }
        },
        "686ab5d994be42efa22fe955a9f9529b": {
          "model_module": "@jupyter-widgets/controls",
          "model_module_version": "1.5.0",
          "model_name": "HBoxModel",
          "state": {
            "_dom_classes": [],
            "_model_module": "@jupyter-widgets/controls",
            "_model_module_version": "1.5.0",
            "_model_name": "HBoxModel",
            "_view_count": null,
            "_view_module": "@jupyter-widgets/controls",
            "_view_module_version": "1.5.0",
            "_view_name": "HBoxView",
            "box_style": "",
            "children": [
              "IPY_MODEL_536df6022d194eb18e8a6690d5e09217",
              "IPY_MODEL_0d175a3f732c46409ef5967a52004b04",
              "IPY_MODEL_c851ae566cd141b9940ca2e02b4f370e"
            ],
            "layout": "IPY_MODEL_eb6448f0e2bf433c96b0c45b56178966"
          }
        },
        "6da2c7201b3f4e00a2b33decca59fade": {
          "model_module": "@jupyter-widgets/controls",
          "model_module_version": "1.5.0",
          "model_name": "HBoxModel",
          "state": {
            "_dom_classes": [],
            "_model_module": "@jupyter-widgets/controls",
            "_model_module_version": "1.5.0",
            "_model_name": "HBoxModel",
            "_view_count": null,
            "_view_module": "@jupyter-widgets/controls",
            "_view_module_version": "1.5.0",
            "_view_name": "HBoxView",
            "box_style": "",
            "children": [
              "IPY_MODEL_1870fc1d3fd44e0188b4550fb7a5fd11",
              "IPY_MODEL_2248c4e2499e421c955b8fa1e40811ec",
              "IPY_MODEL_18bfbf202f4c4011a0d74054dc46d086"
            ],
            "layout": "IPY_MODEL_406779cd1c064751aeac48e37362635c"
          }
        },
        "71e8cd5cb6f84eed9a973bc6d991f8e0": {
          "model_module": "@jupyter-widgets/base",
          "model_module_version": "1.2.0",
          "model_name": "LayoutModel",
          "state": {
            "_model_module": "@jupyter-widgets/base",
            "_model_module_version": "1.2.0",
            "_model_name": "LayoutModel",
            "_view_count": null,
            "_view_module": "@jupyter-widgets/base",
            "_view_module_version": "1.2.0",
            "_view_name": "LayoutView",
            "align_content": null,
            "align_items": null,
            "align_self": null,
            "border": null,
            "bottom": null,
            "display": null,
            "flex": null,
            "flex_flow": null,
            "grid_area": null,
            "grid_auto_columns": null,
            "grid_auto_flow": null,
            "grid_auto_rows": null,
            "grid_column": null,
            "grid_gap": null,
            "grid_row": null,
            "grid_template_areas": null,
            "grid_template_columns": null,
            "grid_template_rows": null,
            "height": null,
            "justify_content": null,
            "justify_items": null,
            "left": null,
            "margin": null,
            "max_height": null,
            "max_width": null,
            "min_height": null,
            "min_width": null,
            "object_fit": null,
            "object_position": null,
            "order": null,
            "overflow": null,
            "overflow_x": null,
            "overflow_y": null,
            "padding": null,
            "right": null,
            "top": null,
            "visibility": null,
            "width": null
          }
        },
        "77a97e55c9a84a66811b03fbefe277c0": {
          "model_module": "@jupyter-widgets/controls",
          "model_module_version": "1.5.0",
          "model_name": "FloatProgressModel",
          "state": {
            "_dom_classes": [],
            "_model_module": "@jupyter-widgets/controls",
            "_model_module_version": "1.5.0",
            "_model_name": "FloatProgressModel",
            "_view_count": null,
            "_view_module": "@jupyter-widgets/controls",
            "_view_module_version": "1.5.0",
            "_view_name": "ProgressView",
            "bar_style": "success",
            "description": "",
            "description_tooltip": null,
            "layout": "IPY_MODEL_8c5c6ce7c3e64f20b325bab215fb9c1b",
            "max": 586,
            "min": 0,
            "orientation": "horizontal",
            "style": "IPY_MODEL_35538667f2244ed7989b0439df5af64a",
            "value": 586
          }
        },
        "78aa3aadad0d439eae11731a503d4747": {
          "model_module": "@jupyter-widgets/base",
          "model_module_version": "1.2.0",
          "model_name": "LayoutModel",
          "state": {
            "_model_module": "@jupyter-widgets/base",
            "_model_module_version": "1.2.0",
            "_model_name": "LayoutModel",
            "_view_count": null,
            "_view_module": "@jupyter-widgets/base",
            "_view_module_version": "1.2.0",
            "_view_name": "LayoutView",
            "align_content": null,
            "align_items": null,
            "align_self": null,
            "border": null,
            "bottom": null,
            "display": null,
            "flex": null,
            "flex_flow": null,
            "grid_area": null,
            "grid_auto_columns": null,
            "grid_auto_flow": null,
            "grid_auto_rows": null,
            "grid_column": null,
            "grid_gap": null,
            "grid_row": null,
            "grid_template_areas": null,
            "grid_template_columns": null,
            "grid_template_rows": null,
            "height": null,
            "justify_content": null,
            "justify_items": null,
            "left": null,
            "margin": null,
            "max_height": null,
            "max_width": null,
            "min_height": null,
            "min_width": null,
            "object_fit": null,
            "object_position": null,
            "order": null,
            "overflow": null,
            "overflow_x": null,
            "overflow_y": null,
            "padding": null,
            "right": null,
            "top": null,
            "visibility": null,
            "width": null
          }
        },
        "7be8abfc859e419da6d86353cc24c703": {
          "model_module": "@jupyter-widgets/controls",
          "model_module_version": "1.5.0",
          "model_name": "DescriptionStyleModel",
          "state": {
            "_model_module": "@jupyter-widgets/controls",
            "_model_module_version": "1.5.0",
            "_model_name": "DescriptionStyleModel",
            "_view_count": null,
            "_view_module": "@jupyter-widgets/base",
            "_view_module_version": "1.2.0",
            "_view_name": "StyleView",
            "description_width": ""
          }
        },
        "7f19975625c44077b6341afe564b12f7": {
          "model_module": "@jupyter-widgets/controls",
          "model_module_version": "1.5.0",
          "model_name": "HBoxModel",
          "state": {
            "_dom_classes": [],
            "_model_module": "@jupyter-widgets/controls",
            "_model_module_version": "1.5.0",
            "_model_name": "HBoxModel",
            "_view_count": null,
            "_view_module": "@jupyter-widgets/controls",
            "_view_module_version": "1.5.0",
            "_view_name": "HBoxView",
            "box_style": "",
            "children": [
              "IPY_MODEL_4b1374a10fa84dc4ab4e7b46fc18647e",
              "IPY_MODEL_e2b6c8691bdd4bca8ddac179a4003e50",
              "IPY_MODEL_1863b3e1d231476387b8dcf4c26e52bd"
            ],
            "layout": "IPY_MODEL_0c7dcde261584a01b5f23e1ea0458602"
          }
        },
        "7ff27a1304da40b88961c278c4a86e4a": {
          "model_module": "@jupyter-widgets/base",
          "model_module_version": "1.2.0",
          "model_name": "LayoutModel",
          "state": {
            "_model_module": "@jupyter-widgets/base",
            "_model_module_version": "1.2.0",
            "_model_name": "LayoutModel",
            "_view_count": null,
            "_view_module": "@jupyter-widgets/base",
            "_view_module_version": "1.2.0",
            "_view_name": "LayoutView",
            "align_content": null,
            "align_items": null,
            "align_self": null,
            "border": null,
            "bottom": null,
            "display": null,
            "flex": null,
            "flex_flow": null,
            "grid_area": null,
            "grid_auto_columns": null,
            "grid_auto_flow": null,
            "grid_auto_rows": null,
            "grid_column": null,
            "grid_gap": null,
            "grid_row": null,
            "grid_template_areas": null,
            "grid_template_columns": null,
            "grid_template_rows": null,
            "height": null,
            "justify_content": null,
            "justify_items": null,
            "left": null,
            "margin": null,
            "max_height": null,
            "max_width": null,
            "min_height": null,
            "min_width": null,
            "object_fit": null,
            "object_position": null,
            "order": null,
            "overflow": null,
            "overflow_x": null,
            "overflow_y": null,
            "padding": null,
            "right": null,
            "top": null,
            "visibility": null,
            "width": null
          }
        },
        "820578e31d1f47d8bc586a84b85b8424": {
          "model_module": "@jupyter-widgets/base",
          "model_module_version": "1.2.0",
          "model_name": "LayoutModel",
          "state": {
            "_model_module": "@jupyter-widgets/base",
            "_model_module_version": "1.2.0",
            "_model_name": "LayoutModel",
            "_view_count": null,
            "_view_module": "@jupyter-widgets/base",
            "_view_module_version": "1.2.0",
            "_view_name": "LayoutView",
            "align_content": null,
            "align_items": null,
            "align_self": null,
            "border": null,
            "bottom": null,
            "display": null,
            "flex": null,
            "flex_flow": null,
            "grid_area": null,
            "grid_auto_columns": null,
            "grid_auto_flow": null,
            "grid_auto_rows": null,
            "grid_column": null,
            "grid_gap": null,
            "grid_row": null,
            "grid_template_areas": null,
            "grid_template_columns": null,
            "grid_template_rows": null,
            "height": null,
            "justify_content": null,
            "justify_items": null,
            "left": null,
            "margin": null,
            "max_height": null,
            "max_width": null,
            "min_height": null,
            "min_width": null,
            "object_fit": null,
            "object_position": null,
            "order": null,
            "overflow": null,
            "overflow_x": null,
            "overflow_y": null,
            "padding": null,
            "right": null,
            "top": null,
            "visibility": null,
            "width": null
          }
        },
        "8c5c6ce7c3e64f20b325bab215fb9c1b": {
          "model_module": "@jupyter-widgets/base",
          "model_module_version": "1.2.0",
          "model_name": "LayoutModel",
          "state": {
            "_model_module": "@jupyter-widgets/base",
            "_model_module_version": "1.2.0",
            "_model_name": "LayoutModel",
            "_view_count": null,
            "_view_module": "@jupyter-widgets/base",
            "_view_module_version": "1.2.0",
            "_view_name": "LayoutView",
            "align_content": null,
            "align_items": null,
            "align_self": null,
            "border": null,
            "bottom": null,
            "display": null,
            "flex": null,
            "flex_flow": null,
            "grid_area": null,
            "grid_auto_columns": null,
            "grid_auto_flow": null,
            "grid_auto_rows": null,
            "grid_column": null,
            "grid_gap": null,
            "grid_row": null,
            "grid_template_areas": null,
            "grid_template_columns": null,
            "grid_template_rows": null,
            "height": null,
            "justify_content": null,
            "justify_items": null,
            "left": null,
            "margin": null,
            "max_height": null,
            "max_width": null,
            "min_height": null,
            "min_width": null,
            "object_fit": null,
            "object_position": null,
            "order": null,
            "overflow": null,
            "overflow_x": null,
            "overflow_y": null,
            "padding": null,
            "right": null,
            "top": null,
            "visibility": null,
            "width": null
          }
        },
        "8e6f5a628a2e43b9a87924c9de496d61": {
          "model_module": "@jupyter-widgets/base",
          "model_module_version": "1.2.0",
          "model_name": "LayoutModel",
          "state": {
            "_model_module": "@jupyter-widgets/base",
            "_model_module_version": "1.2.0",
            "_model_name": "LayoutModel",
            "_view_count": null,
            "_view_module": "@jupyter-widgets/base",
            "_view_module_version": "1.2.0",
            "_view_name": "LayoutView",
            "align_content": null,
            "align_items": null,
            "align_self": null,
            "border": null,
            "bottom": null,
            "display": null,
            "flex": null,
            "flex_flow": null,
            "grid_area": null,
            "grid_auto_columns": null,
            "grid_auto_flow": null,
            "grid_auto_rows": null,
            "grid_column": null,
            "grid_gap": null,
            "grid_row": null,
            "grid_template_areas": null,
            "grid_template_columns": null,
            "grid_template_rows": null,
            "height": null,
            "justify_content": null,
            "justify_items": null,
            "left": null,
            "margin": null,
            "max_height": null,
            "max_width": null,
            "min_height": null,
            "min_width": null,
            "object_fit": null,
            "object_position": null,
            "order": null,
            "overflow": null,
            "overflow_x": null,
            "overflow_y": null,
            "padding": null,
            "right": null,
            "top": null,
            "visibility": null,
            "width": null
          }
        },
        "937c9cca07e948799136ba5655335056": {
          "model_module": "@jupyter-widgets/controls",
          "model_module_version": "1.5.0",
          "model_name": "DescriptionStyleModel",
          "state": {
            "_model_module": "@jupyter-widgets/controls",
            "_model_module_version": "1.5.0",
            "_model_name": "DescriptionStyleModel",
            "_view_count": null,
            "_view_module": "@jupyter-widgets/base",
            "_view_module_version": "1.2.0",
            "_view_name": "StyleView",
            "description_width": ""
          }
        },
        "97e134e216fd4951babadabb8d41104f": {
          "model_module": "@jupyter-widgets/controls",
          "model_module_version": "1.5.0",
          "model_name": "DescriptionStyleModel",
          "state": {
            "_model_module": "@jupyter-widgets/controls",
            "_model_module_version": "1.5.0",
            "_model_name": "DescriptionStyleModel",
            "_view_count": null,
            "_view_module": "@jupyter-widgets/base",
            "_view_module_version": "1.2.0",
            "_view_name": "StyleView",
            "description_width": ""
          }
        },
        "9a8046bd80a34dd581ad940ce742a4fc": {
          "model_module": "@jupyter-widgets/controls",
          "model_module_version": "1.5.0",
          "model_name": "DescriptionStyleModel",
          "state": {
            "_model_module": "@jupyter-widgets/controls",
            "_model_module_version": "1.5.0",
            "_model_name": "DescriptionStyleModel",
            "_view_count": null,
            "_view_module": "@jupyter-widgets/base",
            "_view_module_version": "1.2.0",
            "_view_name": "StyleView",
            "description_width": ""
          }
        },
        "acd5bb58033441e7b159cb2af835b1ed": {
          "model_module": "@jupyter-widgets/controls",
          "model_module_version": "1.5.0",
          "model_name": "ProgressStyleModel",
          "state": {
            "_model_module": "@jupyter-widgets/controls",
            "_model_module_version": "1.5.0",
            "_model_name": "ProgressStyleModel",
            "_view_count": null,
            "_view_module": "@jupyter-widgets/base",
            "_view_module_version": "1.2.0",
            "_view_name": "StyleView",
            "bar_color": null,
            "description_width": ""
          }
        },
        "ae15d2a8cb434bc4b2d68de9978a2536": {
          "model_module": "@jupyter-widgets/base",
          "model_module_version": "1.2.0",
          "model_name": "LayoutModel",
          "state": {
            "_model_module": "@jupyter-widgets/base",
            "_model_module_version": "1.2.0",
            "_model_name": "LayoutModel",
            "_view_count": null,
            "_view_module": "@jupyter-widgets/base",
            "_view_module_version": "1.2.0",
            "_view_name": "LayoutView",
            "align_content": null,
            "align_items": null,
            "align_self": null,
            "border": null,
            "bottom": null,
            "display": null,
            "flex": null,
            "flex_flow": null,
            "grid_area": null,
            "grid_auto_columns": null,
            "grid_auto_flow": null,
            "grid_auto_rows": null,
            "grid_column": null,
            "grid_gap": null,
            "grid_row": null,
            "grid_template_areas": null,
            "grid_template_columns": null,
            "grid_template_rows": null,
            "height": null,
            "justify_content": null,
            "justify_items": null,
            "left": null,
            "margin": null,
            "max_height": null,
            "max_width": null,
            "min_height": null,
            "min_width": null,
            "object_fit": null,
            "object_position": null,
            "order": null,
            "overflow": null,
            "overflow_x": null,
            "overflow_y": null,
            "padding": null,
            "right": null,
            "top": null,
            "visibility": null,
            "width": null
          }
        },
        "bdf1326db104478a83adaadabd213bbd": {
          "model_module": "@jupyter-widgets/base",
          "model_module_version": "1.2.0",
          "model_name": "LayoutModel",
          "state": {
            "_model_module": "@jupyter-widgets/base",
            "_model_module_version": "1.2.0",
            "_model_name": "LayoutModel",
            "_view_count": null,
            "_view_module": "@jupyter-widgets/base",
            "_view_module_version": "1.2.0",
            "_view_name": "LayoutView",
            "align_content": null,
            "align_items": null,
            "align_self": null,
            "border": null,
            "bottom": null,
            "display": null,
            "flex": null,
            "flex_flow": null,
            "grid_area": null,
            "grid_auto_columns": null,
            "grid_auto_flow": null,
            "grid_auto_rows": null,
            "grid_column": null,
            "grid_gap": null,
            "grid_row": null,
            "grid_template_areas": null,
            "grid_template_columns": null,
            "grid_template_rows": null,
            "height": null,
            "justify_content": null,
            "justify_items": null,
            "left": null,
            "margin": null,
            "max_height": null,
            "max_width": null,
            "min_height": null,
            "min_width": null,
            "object_fit": null,
            "object_position": null,
            "order": null,
            "overflow": null,
            "overflow_x": null,
            "overflow_y": null,
            "padding": null,
            "right": null,
            "top": null,
            "visibility": null,
            "width": null
          }
        },
        "c2d29b037c6546c795f612b677ba45d1": {
          "model_module": "@jupyter-widgets/controls",
          "model_module_version": "1.5.0",
          "model_name": "DescriptionStyleModel",
          "state": {
            "_model_module": "@jupyter-widgets/controls",
            "_model_module_version": "1.5.0",
            "_model_name": "DescriptionStyleModel",
            "_view_count": null,
            "_view_module": "@jupyter-widgets/base",
            "_view_module_version": "1.2.0",
            "_view_name": "StyleView",
            "description_width": ""
          }
        },
        "c61f152f3960418f9d2b07c5fb2e7bb3": {
          "model_module": "@jupyter-widgets/controls",
          "model_module_version": "1.5.0",
          "model_name": "DescriptionStyleModel",
          "state": {
            "_model_module": "@jupyter-widgets/controls",
            "_model_module_version": "1.5.0",
            "_model_name": "DescriptionStyleModel",
            "_view_count": null,
            "_view_module": "@jupyter-widgets/base",
            "_view_module_version": "1.2.0",
            "_view_name": "StyleView",
            "description_width": ""
          }
        },
        "c851ae566cd141b9940ca2e02b4f370e": {
          "model_module": "@jupyter-widgets/controls",
          "model_module_version": "1.5.0",
          "model_name": "HTMLModel",
          "state": {
            "_dom_classes": [],
            "_model_module": "@jupyter-widgets/controls",
            "_model_module_version": "1.5.0",
            "_model_name": "HTMLModel",
            "_view_count": null,
            "_view_module": "@jupyter-widgets/controls",
            "_view_module_version": "1.5.0",
            "_view_name": "HTMLView",
            "description": "",
            "description_tooltip": null,
            "layout": "IPY_MODEL_ae15d2a8cb434bc4b2d68de9978a2536",
            "placeholder": "​",
            "style": "IPY_MODEL_97e134e216fd4951babadabb8d41104f",
            "value": " 119/119 [00:00&lt;00:00, 1.56kB/s]"
          }
        },
        "ca95469563034d8a96053023d8680bbd": {
          "model_module": "@jupyter-widgets/controls",
          "model_module_version": "1.5.0",
          "model_name": "ProgressStyleModel",
          "state": {
            "_model_module": "@jupyter-widgets/controls",
            "_model_module_version": "1.5.0",
            "_model_name": "ProgressStyleModel",
            "_view_count": null,
            "_view_module": "@jupyter-widgets/base",
            "_view_module_version": "1.2.0",
            "_view_name": "StyleView",
            "bar_color": null,
            "description_width": ""
          }
        },
        "cec11886bea14348a748a73b2809f110": {
          "model_module": "@jupyter-widgets/controls",
          "model_module_version": "1.5.0",
          "model_name": "ProgressStyleModel",
          "state": {
            "_model_module": "@jupyter-widgets/controls",
            "_model_module_version": "1.5.0",
            "_model_name": "ProgressStyleModel",
            "_view_count": null,
            "_view_module": "@jupyter-widgets/base",
            "_view_module_version": "1.2.0",
            "_view_name": "StyleView",
            "bar_color": null,
            "description_width": ""
          }
        },
        "cfc17b9f3d5849259a6c9ec6853e2a60": {
          "model_module": "@jupyter-widgets/base",
          "model_module_version": "1.2.0",
          "model_name": "LayoutModel",
          "state": {
            "_model_module": "@jupyter-widgets/base",
            "_model_module_version": "1.2.0",
            "_model_name": "LayoutModel",
            "_view_count": null,
            "_view_module": "@jupyter-widgets/base",
            "_view_module_version": "1.2.0",
            "_view_name": "LayoutView",
            "align_content": null,
            "align_items": null,
            "align_self": null,
            "border": null,
            "bottom": null,
            "display": null,
            "flex": null,
            "flex_flow": null,
            "grid_area": null,
            "grid_auto_columns": null,
            "grid_auto_flow": null,
            "grid_auto_rows": null,
            "grid_column": null,
            "grid_gap": null,
            "grid_row": null,
            "grid_template_areas": null,
            "grid_template_columns": null,
            "grid_template_rows": null,
            "height": null,
            "justify_content": null,
            "justify_items": null,
            "left": null,
            "margin": null,
            "max_height": null,
            "max_width": null,
            "min_height": null,
            "min_width": null,
            "object_fit": null,
            "object_position": null,
            "order": null,
            "overflow": null,
            "overflow_x": null,
            "overflow_y": null,
            "padding": null,
            "right": null,
            "top": null,
            "visibility": null,
            "width": null
          }
        },
        "d33e692b41714afcb89e1029ca5a02e0": {
          "model_module": "@jupyter-widgets/base",
          "model_module_version": "1.2.0",
          "model_name": "LayoutModel",
          "state": {
            "_model_module": "@jupyter-widgets/base",
            "_model_module_version": "1.2.0",
            "_model_name": "LayoutModel",
            "_view_count": null,
            "_view_module": "@jupyter-widgets/base",
            "_view_module_version": "1.2.0",
            "_view_name": "LayoutView",
            "align_content": null,
            "align_items": null,
            "align_self": null,
            "border": null,
            "bottom": null,
            "display": null,
            "flex": null,
            "flex_flow": null,
            "grid_area": null,
            "grid_auto_columns": null,
            "grid_auto_flow": null,
            "grid_auto_rows": null,
            "grid_column": null,
            "grid_gap": null,
            "grid_row": null,
            "grid_template_areas": null,
            "grid_template_columns": null,
            "grid_template_rows": null,
            "height": null,
            "justify_content": null,
            "justify_items": null,
            "left": null,
            "margin": null,
            "max_height": null,
            "max_width": null,
            "min_height": null,
            "min_width": null,
            "object_fit": null,
            "object_position": null,
            "order": null,
            "overflow": null,
            "overflow_x": null,
            "overflow_y": null,
            "padding": null,
            "right": null,
            "top": null,
            "visibility": null,
            "width": null
          }
        },
        "d624b857dd474fac9a7c1c42c9ed2248": {
          "model_module": "@jupyter-widgets/base",
          "model_module_version": "1.2.0",
          "model_name": "LayoutModel",
          "state": {
            "_model_module": "@jupyter-widgets/base",
            "_model_module_version": "1.2.0",
            "_model_name": "LayoutModel",
            "_view_count": null,
            "_view_module": "@jupyter-widgets/base",
            "_view_module_version": "1.2.0",
            "_view_name": "LayoutView",
            "align_content": null,
            "align_items": null,
            "align_self": null,
            "border": null,
            "bottom": null,
            "display": null,
            "flex": null,
            "flex_flow": null,
            "grid_area": null,
            "grid_auto_columns": null,
            "grid_auto_flow": null,
            "grid_auto_rows": null,
            "grid_column": null,
            "grid_gap": null,
            "grid_row": null,
            "grid_template_areas": null,
            "grid_template_columns": null,
            "grid_template_rows": null,
            "height": null,
            "justify_content": null,
            "justify_items": null,
            "left": null,
            "margin": null,
            "max_height": null,
            "max_width": null,
            "min_height": null,
            "min_width": null,
            "object_fit": null,
            "object_position": null,
            "order": null,
            "overflow": null,
            "overflow_x": null,
            "overflow_y": null,
            "padding": null,
            "right": null,
            "top": null,
            "visibility": null,
            "width": null
          }
        },
        "d770fb8616e343e4b302823f759c7a35": {
          "model_module": "@jupyter-widgets/controls",
          "model_module_version": "1.5.0",
          "model_name": "ProgressStyleModel",
          "state": {
            "_model_module": "@jupyter-widgets/controls",
            "_model_module_version": "1.5.0",
            "_model_name": "ProgressStyleModel",
            "_view_count": null,
            "_view_module": "@jupyter-widgets/base",
            "_view_module_version": "1.2.0",
            "_view_name": "StyleView",
            "bar_color": null,
            "description_width": ""
          }
        },
        "dc37484a26d449eeb060ae046d5c9606": {
          "model_module": "@jupyter-widgets/base",
          "model_module_version": "1.2.0",
          "model_name": "LayoutModel",
          "state": {
            "_model_module": "@jupyter-widgets/base",
            "_model_module_version": "1.2.0",
            "_model_name": "LayoutModel",
            "_view_count": null,
            "_view_module": "@jupyter-widgets/base",
            "_view_module_version": "1.2.0",
            "_view_name": "LayoutView",
            "align_content": null,
            "align_items": null,
            "align_self": null,
            "border": null,
            "bottom": null,
            "display": null,
            "flex": null,
            "flex_flow": null,
            "grid_area": null,
            "grid_auto_columns": null,
            "grid_auto_flow": null,
            "grid_auto_rows": null,
            "grid_column": null,
            "grid_gap": null,
            "grid_row": null,
            "grid_template_areas": null,
            "grid_template_columns": null,
            "grid_template_rows": null,
            "height": null,
            "justify_content": null,
            "justify_items": null,
            "left": null,
            "margin": null,
            "max_height": null,
            "max_width": null,
            "min_height": null,
            "min_width": null,
            "object_fit": null,
            "object_position": null,
            "order": null,
            "overflow": null,
            "overflow_x": null,
            "overflow_y": null,
            "padding": null,
            "right": null,
            "top": null,
            "visibility": null,
            "width": null
          }
        },
        "dee5f0a04b6a4cdc9e73b2d507d3400f": {
          "model_module": "@jupyter-widgets/base",
          "model_module_version": "1.2.0",
          "model_name": "LayoutModel",
          "state": {
            "_model_module": "@jupyter-widgets/base",
            "_model_module_version": "1.2.0",
            "_model_name": "LayoutModel",
            "_view_count": null,
            "_view_module": "@jupyter-widgets/base",
            "_view_module_version": "1.2.0",
            "_view_name": "LayoutView",
            "align_content": null,
            "align_items": null,
            "align_self": null,
            "border": null,
            "bottom": null,
            "display": null,
            "flex": null,
            "flex_flow": null,
            "grid_area": null,
            "grid_auto_columns": null,
            "grid_auto_flow": null,
            "grid_auto_rows": null,
            "grid_column": null,
            "grid_gap": null,
            "grid_row": null,
            "grid_template_areas": null,
            "grid_template_columns": null,
            "grid_template_rows": null,
            "height": null,
            "justify_content": null,
            "justify_items": null,
            "left": null,
            "margin": null,
            "max_height": null,
            "max_width": null,
            "min_height": null,
            "min_width": null,
            "object_fit": null,
            "object_position": null,
            "order": null,
            "overflow": null,
            "overflow_x": null,
            "overflow_y": null,
            "padding": null,
            "right": null,
            "top": null,
            "visibility": null,
            "width": null
          }
        },
        "e2b6c8691bdd4bca8ddac179a4003e50": {
          "model_module": "@jupyter-widgets/controls",
          "model_module_version": "1.5.0",
          "model_name": "FloatProgressModel",
          "state": {
            "_dom_classes": [],
            "_model_module": "@jupyter-widgets/controls",
            "_model_module_version": "1.5.0",
            "_model_name": "FloatProgressModel",
            "_view_count": null,
            "_view_module": "@jupyter-widgets/controls",
            "_view_module_version": "1.5.0",
            "_view_name": "ProgressView",
            "bar_style": "success",
            "description": "",
            "description_tooltip": null,
            "layout": "IPY_MODEL_bdf1326db104478a83adaadabd213bbd",
            "max": 112,
            "min": 0,
            "orientation": "horizontal",
            "style": "IPY_MODEL_acd5bb58033441e7b159cb2af835b1ed",
            "value": 112
          }
        },
        "eb3d4db38ef342b38d4a19ca9c2346ac": {
          "model_module": "@jupyter-widgets/controls",
          "model_module_version": "1.5.0",
          "model_name": "HBoxModel",
          "state": {
            "_dom_classes": [],
            "_model_module": "@jupyter-widgets/controls",
            "_model_module_version": "1.5.0",
            "_model_name": "HBoxModel",
            "_view_count": null,
            "_view_module": "@jupyter-widgets/controls",
            "_view_module_version": "1.5.0",
            "_view_name": "HBoxView",
            "box_style": "",
            "children": [
              "IPY_MODEL_20c0b4b264654dbe9089332cdae8d012",
              "IPY_MODEL_77a97e55c9a84a66811b03fbefe277c0",
              "IPY_MODEL_67c91a925b9a417c968324b6fbacf7e4"
            ],
            "layout": "IPY_MODEL_d624b857dd474fac9a7c1c42c9ed2248"
          }
        },
        "eb6448f0e2bf433c96b0c45b56178966": {
          "model_module": "@jupyter-widgets/base",
          "model_module_version": "1.2.0",
          "model_name": "LayoutModel",
          "state": {
            "_model_module": "@jupyter-widgets/base",
            "_model_module_version": "1.2.0",
            "_model_name": "LayoutModel",
            "_view_count": null,
            "_view_module": "@jupyter-widgets/base",
            "_view_module_version": "1.2.0",
            "_view_name": "LayoutView",
            "align_content": null,
            "align_items": null,
            "align_self": null,
            "border": null,
            "bottom": null,
            "display": null,
            "flex": null,
            "flex_flow": null,
            "grid_area": null,
            "grid_auto_columns": null,
            "grid_auto_flow": null,
            "grid_auto_rows": null,
            "grid_column": null,
            "grid_gap": null,
            "grid_row": null,
            "grid_template_areas": null,
            "grid_template_columns": null,
            "grid_template_rows": null,
            "height": null,
            "justify_content": null,
            "justify_items": null,
            "left": null,
            "margin": null,
            "max_height": null,
            "max_width": null,
            "min_height": null,
            "min_width": null,
            "object_fit": null,
            "object_position": null,
            "order": null,
            "overflow": null,
            "overflow_x": null,
            "overflow_y": null,
            "padding": null,
            "right": null,
            "top": null,
            "visibility": null,
            "width": null
          }
        },
        "f97522d616264cd0a9833f5208bf5834": {
          "model_module": "@jupyter-widgets/controls",
          "model_module_version": "1.5.0",
          "model_name": "DescriptionStyleModel",
          "state": {
            "_model_module": "@jupyter-widgets/controls",
            "_model_module_version": "1.5.0",
            "_model_name": "DescriptionStyleModel",
            "_view_count": null,
            "_view_module": "@jupyter-widgets/base",
            "_view_module_version": "1.2.0",
            "_view_name": "StyleView",
            "description_width": ""
          }
        }
      }
    }
  },
  "nbformat": 4,
  "nbformat_minor": 0
}
